{
 "cells": [
  {
   "cell_type": "markdown",
   "id": "d7bba40e-f77b-457d-8b73-30d852e076cd",
   "metadata": {
    "tags": []
   },
   "source": [
    "<img src=\"resources/cropped-SummerWorkshop_Header.png\">  \n",
    "\n",
    "<h1 align=\"center\">Workshop SWDB 2024 </h1> \n",
    "<h3 align=\"center\">Day 3 2024 - Neuron Morphology</h3> \n",
    "<h3 align=\"center\">Notebook 4: Analyzing Brain Connectivity via Projections of Light Microscopy Neurons</h3> "
   ]
  },
  {
   "cell_type": "markdown",
   "id": "bee55ef6-59a3-4480-84a6-1febad6290ce",
   "metadata": {
    "tags": []
   },
   "source": [
    "<font size=\"4\"><b>  This is a legend for comments \n",
    "\n",
    "<font size=\"4\" color=\"green\"><b> Green:</b>  Note to instructor"
   ]
  },
  {
   "cell_type": "markdown",
   "id": "9971c6ba-5a83-402c-a8e6-aa4d6fd552d5",
   "metadata": {
    "tags": []
   },
   "source": [
    "<div style=\"border-left: 3px solid #000; padding: 1px; padding-left: 10px; background: #F0FAFF; \">\n",
    "    \n",
    "# Section 1: Introduction\n",
    "\n",
    "<font size=\"4\"> The main objective of this notebook is to analyze the <em>projections</em> of Light Microscopy (LM) neurons, meaning the regions of the brain that the axons and dendrites traverse to communicate their inputs/outputs via the endpoints. This type of long-range projection analysis is only applicable for the LM neurons since the EM neurons were reconstructed within a small piece of tissue fully contained within the visual cortex. In contrast, we will see that many LM neurons have axons that project across many brain regions, see Figure 1.  </font>\n"
   ]
  },
  {
   "cell_type": "markdown",
   "id": "063a3eff-4496-4aae-ab46-77e0980b3587",
   "metadata": {},
   "source": [
    "<div style=\"text-align: center;\">\n",
    "    <img src='imgs/lm-vs-em.png' style=\"max-width: 65%; height: auto;\">\n",
    "</div>"
   ]
  },
  {
   "cell_type": "markdown",
   "id": "ba797a1b-2442-46e7-a1d6-fcf6010a8d1d",
   "metadata": {
    "tags": []
   },
   "source": [
    "<font size=\"4\"><b> Figure 1:</b> LM neuron shown in blue and EM neuron shown in purple."
   ]
  },
  {
   "cell_type": "markdown",
   "id": "4dd97c4a-8f23-4ffc-9060-1e0a364fdc1e",
   "metadata": {
    "tags": []
   },
   "source": [
    "<div style=\"border-left: 3px solid #000; padding: 1px; padding-left: 10px; background: #F0FAFF; \">\n",
    "\n",
    "<font size=\"4\"> As an introduction to analyzing projections of LM neurons, we will explore three open-ended questions related to brain connectivity that scientists consider when analyzing LM neurons. These questions aim to uncover both the fundamental connections and complex network dynamics that define the functional roles of these neurons within the broader neural circuitry. \n",
    "\n",
    "<font size=\"4\"> &nbsp;&nbsp;&nbsp;&nbsp;&nbsp;&nbsp; <strong>Question 1:</strong> What do the inputs to a particular brain region look like? </font>\n",
    "\n",
    "<font size=\"4\"> &nbsp;&nbsp;&nbsp;&nbsp;&nbsp;&nbsp; <strong>Question 2:</strong>  Where else do those inputs send their collaterals?  </font>\n",
    "    \n",
    "    \n",
    "<font size=\"4\"> &nbsp;&nbsp;&nbsp;&nbsp;&nbsp;&nbsp; <strong>Question 3:</strong> Are neuronal morphologies stereotyped, or are there distinct projection classes?\n",
    "\n",
    "<font size=\"4\"> These questions involve analyzing a large number of neurons to provide a general overview of how neurons <em>connect</em> different brain regions. In addition, these quetions build upon each other so Question 3 is easier to anser once Question 2 (and Question 1) is \"ansered\".  Before addressing these questions, we must first understand the meaning of <em>connectivity</em> at the level of a single neuron, then generalize this notion to the level of brain regions. In this context a neuron connects regions <em>A</em> and <em>B</em> if the neuron has dendritic endpoints in region <em>A</em> and axonal endpoints in region <em>B</em>. The dendritic endpoints receive the <em>input</em> of a neuron, whereas the axonal endpoints send the neuron's output.\n",
    "\n",
    "<font size=\"4\"> Brain regions being <em>connected</em> refers to the existence of many neurons between these region where information is transmitted either in one or both directions. Given some brain region of interest, the inputs to this region are delivered via axonal endpoints and received by dendritic endpoints. Therefore, we can identify connected regions by extracting all axonal endpoints within a given region and determining the corresponding region of the soma.\n",
    "    \n",
    "<font size=\"4\"> Given a soma that projects one of these axons of interest, the refer to the additional axons originating from the same soma that transmit information to various other brain regions. This analysis leads to the follow up Question 3 which is asking whether the projections from somas consistent in the sense that other somas in the same region project to similar areas? By the end of this notebook, we will have developed the skills to answer these questions but also explore the data in a manner that leads to further analysis.\n"
   ]
  },
  {
   "cell_type": "markdown",
   "id": "6b4b5fe0-c98f-42f6-9011-d41bdd4e31e4",
   "metadata": {},
   "source": [
    "<div style=\"border-left: 3px solid #000; padding: 1px; padding-left: 10px; background: #F0FAFF; \">\n",
    "\n",
    "Note: It makes sense that the ccf would be introduce earlier\n",
    "    \n",
    "<font size=\"4\"> In this notebook, we use a python package called \"brainglobe_atlasapi\" which provides an API for querying information from the CCF atlas. We'll begin by downloading the Allen Mouse CCF with this package, then print out a lookup table that we use to query information about regions in this brain atlas.  </font>"
   ]
  },
  {
   "cell_type": "code",
   "execution_count": 1,
   "id": "474080e1-5757-4c04-b55a-f9b0510d9f67",
   "metadata": {},
   "outputs": [
    {
     "data": {
      "text/html": [
       "<pre style=\"white-space:pre;overflow-x:auto;line-height:normal;font-family:Menlo,'DejaVu Sans Mono',consolas,'Courier New',monospace\"><span style=\"color: #ff00d7; text-decoration-color: #ff00d7\">brainglobe_atlasapi: allen_mouse_100um not found locally. Downloading...</span>\n",
       "</pre>\n"
      ],
      "text/plain": [
       "\u001b[38;5;200mbrainglobe_atlasapi: allen_mouse_100um not found locally. Downloading\u001b[0m\u001b[38;5;200m...\u001b[0m\n"
      ]
     },
     "metadata": {},
     "output_type": "display_data"
    },
    {
     "data": {
      "application/vnd.jupyter.widget-view+json": {
       "model_id": "74bae25ac0b241c9b438a85556afbcf5",
       "version_major": 2,
       "version_minor": 0
      },
      "text/plain": [
       "Output()"
      ]
     },
     "metadata": {},
     "output_type": "display_data"
    },
    {
     "data": {
      "text/html": [
       "<pre style=\"white-space:pre;overflow-x:auto;line-height:normal;font-family:Menlo,'DejaVu Sans Mono',consolas,'Courier New',monospace\"></pre>\n"
      ],
      "text/plain": []
     },
     "metadata": {},
     "output_type": "display_data"
    },
    {
     "data": {
      "text/html": [
       "<pre style=\"white-space:pre;overflow-x:auto;line-height:normal;font-family:Menlo,'DejaVu Sans Mono',consolas,'Courier New',monospace\">\n",
       "</pre>\n"
      ],
      "text/plain": [
       "\n"
      ]
     },
     "metadata": {},
     "output_type": "display_data"
    },
    {
     "data": {
      "text/html": [
       "<div>\n",
       "<style scoped>\n",
       "    .dataframe tbody tr th:only-of-type {\n",
       "        vertical-align: middle;\n",
       "    }\n",
       "\n",
       "    .dataframe tbody tr th {\n",
       "        vertical-align: top;\n",
       "    }\n",
       "\n",
       "    .dataframe thead th {\n",
       "        text-align: right;\n",
       "    }\n",
       "</style>\n",
       "<table border=\"1\" class=\"dataframe\">\n",
       "  <thead>\n",
       "    <tr style=\"text-align: right;\">\n",
       "      <th></th>\n",
       "      <th>acronym</th>\n",
       "      <th>id</th>\n",
       "      <th>name</th>\n",
       "    </tr>\n",
       "  </thead>\n",
       "  <tbody>\n",
       "    <tr>\n",
       "      <th>0</th>\n",
       "      <td>root</td>\n",
       "      <td>997</td>\n",
       "      <td>root</td>\n",
       "    </tr>\n",
       "    <tr>\n",
       "      <th>1</th>\n",
       "      <td>grey</td>\n",
       "      <td>8</td>\n",
       "      <td>Basic cell groups and regions</td>\n",
       "    </tr>\n",
       "    <tr>\n",
       "      <th>2</th>\n",
       "      <td>CH</td>\n",
       "      <td>567</td>\n",
       "      <td>Cerebrum</td>\n",
       "    </tr>\n",
       "    <tr>\n",
       "      <th>3</th>\n",
       "      <td>CTX</td>\n",
       "      <td>688</td>\n",
       "      <td>Cerebral cortex</td>\n",
       "    </tr>\n",
       "    <tr>\n",
       "      <th>4</th>\n",
       "      <td>CTXpl</td>\n",
       "      <td>695</td>\n",
       "      <td>Cortical plate</td>\n",
       "    </tr>\n",
       "    <tr>\n",
       "      <th>...</th>\n",
       "      <td>...</td>\n",
       "      <td>...</td>\n",
       "      <td>...</td>\n",
       "    </tr>\n",
       "    <tr>\n",
       "      <th>835</th>\n",
       "      <td>V3</td>\n",
       "      <td>129</td>\n",
       "      <td>third ventricle</td>\n",
       "    </tr>\n",
       "    <tr>\n",
       "      <th>836</th>\n",
       "      <td>AQ</td>\n",
       "      <td>140</td>\n",
       "      <td>cerebral aqueduct</td>\n",
       "    </tr>\n",
       "    <tr>\n",
       "      <th>837</th>\n",
       "      <td>V4</td>\n",
       "      <td>145</td>\n",
       "      <td>fourth ventricle</td>\n",
       "    </tr>\n",
       "    <tr>\n",
       "      <th>838</th>\n",
       "      <td>V4r</td>\n",
       "      <td>153</td>\n",
       "      <td>lateral recess</td>\n",
       "    </tr>\n",
       "    <tr>\n",
       "      <th>839</th>\n",
       "      <td>c</td>\n",
       "      <td>164</td>\n",
       "      <td>central canal, spinal cord/medulla</td>\n",
       "    </tr>\n",
       "  </tbody>\n",
       "</table>\n",
       "<p>840 rows × 3 columns</p>\n",
       "</div>"
      ],
      "text/plain": [
       "    acronym   id                                name\n",
       "0      root  997                                root\n",
       "1      grey    8       Basic cell groups and regions\n",
       "2        CH  567                            Cerebrum\n",
       "3       CTX  688                     Cerebral cortex\n",
       "4     CTXpl  695                      Cortical plate\n",
       "..      ...  ...                                 ...\n",
       "835      V3  129                     third ventricle\n",
       "836      AQ  140                   cerebral aqueduct\n",
       "837      V4  145                    fourth ventricle\n",
       "838     V4r  153                      lateral recess\n",
       "839       c  164  central canal, spinal cord/medulla\n",
       "\n",
       "[840 rows x 3 columns]"
      ]
     },
     "execution_count": 1,
     "metadata": {},
     "output_type": "execute_result"
    }
   ],
   "source": [
    "from brainglobe_atlasapi import BrainGlobeAtlas\n",
    "from utils.graph_utils import get_ccf_id_by_depth\n",
    "from pprint import pprint\n",
    "\n",
    "\n",
    "def get_ccf_name(ccf_id, depth=None):\n",
    "    # Check for depth\n",
    "    if depth:\n",
    "        ccf_id = get_ccf_id_by_depth(ccf_id, depth)\n",
    "\n",
    "    # Return name\n",
    "    idx = ccf_atlas.lookup_df[\"id\"] == ccf_id\n",
    "    return ccf_atlas.lookup_df.loc[idx, \"name\"].iloc[0] if any(idx) else ccf_id\n",
    "\n",
    "\n",
    "\n",
    "# Load the CCF structure data as a DataFrame\n",
    "ccf_atlas = BrainGlobeAtlas('allen_mouse_100um')\n",
    "ccf_atlas.lookup_df\n"
   ]
  },
  {
   "cell_type": "markdown",
   "id": "e6645db3-9012-4b9a-a991-ef8d3173248d",
   "metadata": {},
   "source": [
    "<div style=\"border-left: 3px solid #000; padding: 1px; padding-left: 10px; background: #F0FAFF; \">\n",
    "\n",
    "<font size=\"4\"> The ccf ids are stored as integers in a meshparty skeleton, so we'll use the function \"get_ccf_name\" to get the name of the region corresponding to a given id. Here is a simple example of using this function: </font>\n",
    "    "
   ]
  },
  {
   "cell_type": "code",
   "execution_count": 2,
   "id": "a99c190e-75c0-4d58-aa01-9b95568c2fc8",
   "metadata": {
    "tags": []
   },
   "outputs": [
    {
     "name": "stdout",
     "output_type": "stream",
     "text": [
      "The CCF ID '553' represents the 'dorsal spinocerebellar tract'\n",
      "{'acronym': 'sctd',\n",
      " 'id': 553,\n",
      " 'mesh': None,\n",
      " 'mesh_filename': PosixPath('/root/.brainglobe/allen_mouse_100um_v1.2/meshes/553.obj'),\n",
      " 'name': 'dorsal spinocerebellar tract',\n",
      " 'rgb_triplet': [204, 204, 204],\n",
      " 'structure_id_path': [997, 1009, 960, 752, 1123, 553]}\n"
     ]
    }
   ],
   "source": [
    "# Report brain region\n",
    "ccf_id = ccf_atlas.lookup_df[\"id\"].sample().iloc[0]\n",
    "print(f\"The CCF ID '{ccf_id}' represents the '{get_ccf_name(ccf_id)}'\")\n",
    "pprint(ccf_atlas.structures[ccf_id])\n"
   ]
  },
  {
   "cell_type": "markdown",
   "id": "4f316744-702f-4d46-aac5-56bb556f27a0",
   "metadata": {
    "tags": []
   },
   "source": [
    "<div style=\"border-left: 3px solid #000; padding: 1px; padding-left: 10px; background: #F0FAFF; \">\n",
    "    \n",
    "    \n",
    "<font size=\"4\" color=orange><b> Introduce the other ccf routine ... also mention that root is at level 0 </font>"
   ]
  },
  {
   "cell_type": "code",
   "execution_count": 3,
   "id": "7b2ca328-1bb0-465c-bd6d-b0650a9ab765",
   "metadata": {
    "tags": []
   },
   "outputs": [
    {
     "name": "stdout",
     "output_type": "stream",
     "text": [
      "CCF Region: dorsal spinocerebellar tract\n",
      "Ancestors of CCF Regions: ['root', 'fiber tracts', 'cbf', 'cbp', 'icp']\n",
      "Descendants of CCF Regions: []\n",
      "CCF Region at Depth 4: inferior cerebellar peduncle\n"
     ]
    }
   ],
   "source": [
    "# Report hierarchy\n",
    "depth = 4\n",
    "print(\"CCF Region:\", get_ccf_name(ccf_id))\n",
    "print(\"Ancestors of CCF Regions:\", ccf_atlas.get_structure_ancestors(ccf_id))\n",
    "print(\"Descendants of CCF Regions:\", ccf_atlas.get_structure_descendants(ccf_id))\n",
    "print(f\"CCF Region at Depth {depth}:\", get_ccf_name(ccf_id, depth=depth))\n"
   ]
  },
  {
   "cell_type": "markdown",
   "id": "426c914f-d7ca-445e-ba59-878c85b390cc",
   "metadata": {
    "tags": []
   },
   "source": [
    "<div style=\"background: #DFF0D8; border-radius: 3px; padding: 10px;\">\n",
    "\n",
    "<font size=\"4\"><p><b>Exercise 1.1:</b>  Find the most fine-grained brain region contained in the CCF (i.e. region at the largest depth).\n",
    "    \n",
    "</div>"
   ]
  },
  {
   "cell_type": "markdown",
   "id": "6108ef48-bb43-47c0-a54f-3c38174301bf",
   "metadata": {
    "tags": []
   },
   "source": [
    "<div style=\"background: #DFF0D8; border-radius: 3px; padding: 10px;\">\n",
    "\n",
    "<font size=\"4\"><p><b>Exercise 1.2:</b>  How many brain regions are at a depth=0, 1,..., n where n is the depth value from Task 1.1.\n",
    "\n",
    "</div>"
   ]
  },
  {
   "cell_type": "markdown",
   "id": "0cbde34e-84e9-4abe-943f-1df912e15c03",
   "metadata": {},
   "source": [
    "<div style=\"border-left: 3px solid #000; padding: 1px; padding-left: 10px; background: #F0FAFF; \">\n",
    "    \n",
    "# Section 2: Analyzing the Inputs to a Brain Region\n"
   ]
  },
  {
   "cell_type": "markdown",
   "id": "b77cbaa5-1286-44ba-8b1d-525f34127719",
   "metadata": {},
   "source": [
    "### Imports"
   ]
  },
  {
   "cell_type": "code",
   "execution_count": 17,
   "id": "f171fd78-542c-455f-8685-1d0257a20b09",
   "metadata": {
    "tags": []
   },
   "outputs": [],
   "source": [
    "from random import sample\n",
    "from utils.graph_utils import get_ccf_ids, get_connectivity_matrix\n",
    "from utils.skeleton_loading_utils import number_of_samples, load_lm_datasets \n",
    "\n",
    "import matplotlib.pyplot as plt\n",
    "import numpy as np\n",
    "import skeleton_plot as skelplot\n",
    "import seaborn as sns\n",
    "\n",
    "%matplotlib inline\n"
   ]
  },
  {
   "cell_type": "markdown",
   "id": "eb5f0f9e-a6f1-44d1-a53c-02602e97d958",
   "metadata": {},
   "source": [
    "### Load Dataset"
   ]
  },
  {
   "cell_type": "code",
   "execution_count": 18,
   "id": "4cdfe97f-386d-46b8-bd6f-fd86c740ffd9",
   "metadata": {
    "tags": []
   },
   "outputs": [
    {
     "name": "stdout",
     "output_type": "stream",
     "text": [
      "Loading datasets...\n",
      "exaSPIM_609281_2022-11-03_13-49-18_reconstructions:  [==================================================] 25/25\n",
      "exaSPIM_651324_2023-03-06_15-13-25_reconstructions:  [==================================================] 13/13\n",
      "exaSPIM_653158_2023-06-01_20-41-38_reconstructions:  [==================================================] 42/42\n",
      "exaSPIM_653980_2023-08-10_20-08-29_reconstructions:  [==================================================] 20/20\n",
      "mouselight_reconstructions:  [==================================================] 1549/1549\n"
     ]
    }
   ],
   "source": [
    "skel_list = load_lm_datasets()\n"
   ]
  },
  {
   "cell_type": "markdown",
   "id": "f77dd97e-be72-4c43-9636-58cb6bdd0b7e",
   "metadata": {},
   "source": [
    "<div style=\"border-left: 3px solid #000; padding: 1px; padding-left: 10px; background: #F0FAFF; \">\n",
    "\n",
    "## Connectivity of a Single Neuron\n",
    "\n",
    "<font size=\"4\"> Our journey to understand how the brain is connected (it's going to be a very long journey) begins with analyzing how a single neuron connects different regions. The purpose of this elementary analysis is to introduce a set of routines that simplify querying information such as finding all neurons with somas in a certain ccf region. We'll begin by choosing a skeleton from our dataset abd performing the following query:\n",
    "        \n",
    "<font size=\"4\"><strong> &nbsp;&nbsp;&nbsp;&nbsp;&nbsp;&nbsp; Query 1:</strong> Which brain regions do the dendritic or axonal endpoints of a given neuron reside in? </font>\n",
    "\n",
    "<font size=\"4\"> Each skeleton has a node-level attribute called \"id\" that specifies where a node is located in ccf space. We will use subroutine called \"get_ccf_ids\" which is stored in \"graph_utils.py\". The purpose of this routine is to easily extract the ccf ids from vertices within a certain compartment (e.g. axons or dendrites) and/or vertices which are end points or branch points, see documentation for more details. Next, let's look at some simple examples of using the routine \"get_ccf_ids\" to determine what brain regions our skeleton passes through. </font>"
   ]
  },
  {
   "cell_type": "code",
   "execution_count": 20,
   "id": "22650b6d-8f76-4460-81d2-b1a56116b2b2",
   "metadata": {
    "tags": []
   },
   "outputs": [
    {
     "name": "stdout",
     "output_type": "stream",
     "text": [
      "Soma is in the Ventral anterior-lateral complex of the thalamus\n",
      "\n",
      "Distribution of CCF Regions of Dendrite Endpoints...\n",
      "% Vertices   CCF Region\n",
      "58.5034      Ventral anterior-lateral complex of the thalamus\n",
      "31.2925      Posterior complex of the thalamus\n",
      "10.2041      Paracentral nucleus\n",
      "\n",
      "Distribution of CCF Regions of Axon Endpoints...\n",
      "% Vertices   CCF Region\n",
      "20.3077      Primary motor area, Layer 2/3\n",
      "20.0      Primary motor area, Layer 5\n",
      "11.3846      Secondary motor area, layer 2/3\n",
      "8.6154      Primary motor area, Layer 1\n",
      "8.6154      Secondary motor area, layer 5\n",
      "4.6154      Primary somatosensory area, mouth, layer 1\n",
      "4.3077      Secondary motor area, layer 1\n",
      "3.0769      Primary somatosensory area, mouth, layer 2/3\n",
      "3.0769      Supplemental somatosensory area, layer 1\n",
      "2.7692      Supplemental somatosensory area, layer 2/3\n",
      "2.7692      Supplemental somatosensory area, layer 4\n",
      "2.4615      Primary motor area, Layer 6a\n",
      "2.1538      Secondary motor area, layer 6a\n",
      "1.8462      Supplemental somatosensory area, layer 5\n",
      "1.8462      Ventral anterior-lateral complex of the thalamus\n"
     ]
    }
   ],
   "source": [
    "# Subroutines\n",
    "def report_distribution(values, percent_threshold=0, return_counts=False):\n",
    "    ids, cnts = np.unique(values, return_counts=True)\n",
    "    stat_symbol = \"#\" if return_counts else \"%\"\n",
    "    item = \"Neurons\" if return_counts else \"Vertices\"\n",
    "    print(f\"{stat_symbol} {item}   CCF Region\")\n",
    "    for idx in np.argsort(-cnts):\n",
    "        percent = 100 * cnts[idx] / len(values)\n",
    "        ccf_id = get_ccf_name(ids[idx])\n",
    "        if percent >= percent_threshold:\n",
    "            value = cnts[idx] if return_counts else round(percent, 4)\n",
    "            print(f\"{value}      {ccf_id}\")\n",
    "\n",
    "\n",
    "# Root - CCF Compartment\n",
    "soma_ccf = get_ccf_ids(skel, compartment_type=1)\n",
    "print(\"Soma is in the\", get_ccf_name(soma_ccf[0]))\n",
    "\n",
    "# Dendrite Endpoints - CCF Regions\n",
    "print(\"\\nDistribution of CCF Regions of Dendrite Endpoints...\")\n",
    "dendrite_endpoints_ccf = get_ccf_ids(skel, compartment_type=3, vertex_type=\"end_points\")\n",
    "report_distribution(dendrite_endpoints_ccf, percent_threshold=1)\n",
    "\n",
    "# Axon Endpoints - CCF Regions\n",
    "print(\"\\nDistribution of CCF Regions of Axon Endpoints...\")\n",
    "axon_endpoints_ccf = get_ccf_ids(skel, compartment_type=2, vertex_type=\"end_points\")\n",
    "report_distribution(axon_endpoints_ccf, percent_threshold=1)"
   ]
  },
  {
   "cell_type": "markdown",
   "id": "a7675599-76fa-4cfa-add5-3a8f29d32fed",
   "metadata": {},
   "source": [
    "<div style=\"border-left: 3px solid #000; padding: 1px; padding-left: 10px; background: #F0FAFF; \">\n",
    "\n",
    "<font size=\"4\">Note: You may encounter a neuron that passes through \"nan\" or some integer valued region which are not valid ccf regions. This discrepancy is caused by minor misalignments of the brain sample to the ccf template during registration. </font>"
   ]
  },
  {
   "cell_type": "code",
   "execution_count": 6,
   "id": "e129dce5-9670-45a8-8178-177f8658e222",
   "metadata": {
    "tags": []
   },
   "outputs": [],
   "source": [
    "### Mkae a plot of all the neurons in a region and meshes of source and target regions"
   ]
  },
  {
   "cell_type": "code",
   "execution_count": 7,
   "id": "24a603c0-1a49-4b80-a58c-958aa84f23c7",
   "metadata": {
    "tags": []
   },
   "outputs": [
    {
     "data": {
      "text/plain": [
       "(6844476.0, 13795194.0, 7933880.0, 3102649.0)"
      ]
     },
     "execution_count": 7,
     "metadata": {},
     "output_type": "execute_result"
    },
    {
     "data": {
      "image/png": "[encoded data removed]",
      "text/plain": [
       "<Figure size 900x1400 with 1 Axes>"
      ]
     },
     "metadata": {},
     "output_type": "display_data"
    }
   ],
   "source": [
    "# Sample single skeleton\n",
    "skel = skel_list[0]\n",
    "# skel = sample(skel_list, 1)[0]  # Uncomment this line to sample a random skeleton from the dataset\n",
    "\n",
    "# Plot skeleton\n",
    "f, ax = plt.subplots(figsize=(9, 14))\n",
    "skelplot.plot_tools.plot_skel(\n",
    "    skel,\n",
    "    title=\"Skeleton with Compartments Highlighted\\n\",\n",
    "    line_width=1,\n",
    "    plot_soma=True,\n",
    "    soma_size=70,\n",
    "    pull_radius=True,\n",
    "    invert_y=True,\n",
    "    pull_compartment_colors=True,\n",
    "    x=\"x\",\n",
    "    y=\"y\",\n",
    "    skel_color_map = {1: \"tab:red\", 2: \"tab:blue\", 3: \"tab:orange\"},\n",
    ")\n",
    "\n",
    "ax.spines['right'].set_visible(False) \n",
    "ax.spines['left'].set_visible(False) \n",
    "ax.spines['top'].set_visible(False) \n",
    "ax.spines['bottom'].set_visible(False)\n",
    "ax.axis('off')\n"
   ]
  },
  {
   "cell_type": "markdown",
   "id": "a8105036-1529-47e1-b327-0f63ade7c9dc",
   "metadata": {},
   "source": []
  },
  {
   "cell_type": "markdown",
   "id": "d9e0621d-4f7e-4c9a-9061-34f4fa75541d",
   "metadata": {},
   "source": []
  },
  {
   "cell_type": "markdown",
   "id": "4f5ea40c-8c08-477e-939b-e672337144ea",
   "metadata": {
    "tags": []
   },
   "source": [
    "<div style=\"background: #DFF0D8; border-radius: 3px; padding: 10px;\">\n",
    "\n",
    "<font size=\"4\"><p><b>Exercise 2.1:</b> The routine \"get_ccf_ids\" has an optional argument called \"depth\" which takes queried ccf ids and maps them to the corresponding ccf ids at the specified level of the structure hierarchy. Write a routine that iterates over all of the possible depths for a neuron and prints out the number of regions that the neuron traverses for a given depth. How does this number change as you increase the depth?\n",
    "    \n",
    "</div>"
   ]
  },
  {
   "cell_type": "markdown",
   "id": "163cdfdd-59a2-4d09-9708-2d29e357c7cb",
   "metadata": {
    "tags": []
   },
   "source": [
    "<font size=\"4\" color='red'><b> Make this exercise more scientific </font><b>"
   ]
  },
  {
   "cell_type": "markdown",
   "id": "a74d4b76-1e50-4817-a1e4-06138b9778f7",
   "metadata": {},
   "source": [
    "### Brain Regions Containing Endpoints"
   ]
  },
  {
   "cell_type": "markdown",
   "id": "97aec240-a475-477c-bd91-bc8e31de112a",
   "metadata": {
    "tags": []
   },
   "source": [
    "<div style=\"border-left: 3px solid #000; padding: 1px; padding-left: 10px; background: #F0FAFF; \">\n",
    "\n",
    "\n",
    "<font size=\"4\"> Lets compute the ccf region distriubtion for the axonal and dendritic endpoints. These statistics are more meaningful because they describe where neurons receive/send inputs/outputs. We can use that same routine \"get_ccf_ids\" to more easily get these ccf ids. </font>\n"
   ]
  },
  {
   "cell_type": "code",
   "execution_count": 9,
   "id": "b7ecc6b4-aae5-4cc7-a5b9-41ebf12670bb",
   "metadata": {},
   "outputs": [],
   "source": [
    "#### make a barplot instead of printing distribution."
   ]
  },
  {
   "cell_type": "code",
   "execution_count": 10,
   "id": "dd7a2231-6ed3-48b9-ab7d-fc5493e01090",
   "metadata": {
    "tags": []
   },
   "outputs": [
    {
     "name": "stdout",
     "output_type": "stream",
     "text": [
      "Soma is in the Lateral vestibular nucleus\n",
      "\n",
      "Distribution of CCF Regions of Dendrite Endpoints...\n",
      "% Vertices   CCF Region\n",
      "30.0      Superior vestibular nucleus - 217.0\n",
      "20.0      Medial vestibular nucleus - 202.0\n",
      "14.0      Spinal vestibular nucleus - 225.0\n",
      "12.0      inferior cerebellar peduncle - 1123.0\n",
      "6.0      Medulla - 354.0\n",
      "6.0      Lateral vestibular nucleus - 209.0\n",
      "4.0      dorsal acoustic stria - 506.0\n",
      "4.0      Koelliker-Fuse subnucleus - 123.0\n",
      "2.0      vestibular nerve - 413.0\n",
      "2.0      Dorsal cochlear nucleus - 96.0\n",
      "\n",
      "Distribution of CCF Regions of Axon Endpoints...\n",
      "% Vertices   CCF Region\n",
      "35.0245      nan - nan\n",
      "10.4746      Medullary reticular nucleus, ventral part - 1107.0\n",
      "9.9836      Midbrain reticular nucleus - 128.0\n",
      "7.365      Periaqueductal gray - 795.0\n",
      "6.5466      Gigantocellular reticular nucleus - 1048.0\n",
      "5.5646      614454272.0 - 614454272.0\n",
      "3.7643      Paragigantocellular reticular nucleus, dorsal part - 970.0\n",
      "3.7643      Red nucleus - 214.0\n",
      "3.6007      Nucleus prepositus - 169.0\n",
      "2.946      Midbrain - 313.0\n",
      "1.964      Medial vestibular nucleus - 202.0\n",
      "1.1457      Zona incerta - 797.0\n",
      "1.1457      Spinal vestibular nucleus - 225.0\n"
     ]
    }
   ],
   "source": [
    "\n"
   ]
  },
  {
   "cell_type": "markdown",
   "id": "f46b598a-8e01-4322-ad16-682e354cfde1",
   "metadata": {},
   "source": [
    "<div style=\"background: #DFF0D8; border-radius: 3px; padding: 10px;\">\n",
    "    \n",
    "<font size=\"4\"><p><b>Exercise 2.2:</b>  Find the neurons that project across the fewest and largest number of brain regions at a fixed depth (i.e. choose a depth less than 6).\n",
    "    \n",
    "</div>"
   ]
  },
  {
   "cell_type": "code",
   "execution_count": 11,
   "id": "b537fbf0-76c2-4d5a-9247-f34c2bf86f27",
   "metadata": {
    "tags": []
   },
   "outputs": [],
   "source": [
    "#### put collateral analysis here"
   ]
  },
  {
   "cell_type": "markdown",
   "id": "6be3055e-e5a2-4013-9407-e01995baa124",
   "metadata": {
    "tags": []
   },
   "source": [
    "<font size=\"4\" color='red'><b> Update this exercise </font><b>"
   ]
  },
  {
   "cell_type": "markdown",
   "id": "c6e23de7-95fa-4840-b874-3d3c56b1c916",
   "metadata": {},
   "source": [
    "<div style=\"border-left: 3px solid #000; padding: 1px; padding-left: 10px; background: #F0FAFF; \">\n",
    "    \n",
    "# Section 3: Analyzing Connectivity Between Brain Regions\n",
    "\n",
    "<font size='4'> The main objective of this section is to analyze the projection patterns of neurons in our dataset to understand the connections between different brain regions. We’ll start by identifying the locations of the somas of the neurons, then analyze the brain regions where these neurons are present. The location of the soma is important because it is highly correlated with where the neuron's dendrites are concentrated, which can influence its connectivity and functional role within the brain. By mapping these locations, we can gain insights into the neural circuits and how they contribute to overall brain function. </font>\n",
    "    \n",
    "    \n",
    "    <font size=\"4\"><strong> &nbsp;&nbsp;&nbsp;&nbsp;&nbsp;&nbsp; Query 2:</strong> Find all neurons that have axonal endpoints in a given brain region. </font>\n",
    "\n",
    "    <font size=\"4\"><strong> &nbsp;&nbsp;&nbsp;&nbsp;&nbsp;&nbsp; Query 3:</strong> Given the set of neurons with axonal endpoints in a given brain region, find where else do these same neurons have axonal endpoints. </font>\n",
    "    \n",
    "    <font size=\"4\"> Once we have mastered these skills, we will use upon knowledge to analyze hundreds of neurons that are contained in the LM neuron dataset.\n",
    "    "
   ]
  },
  {
   "cell_type": "markdown",
   "id": "94241e51-0184-454c-b99c-71a0bea6d35f",
   "metadata": {},
   "source": [
    "### Soma Locations"
   ]
  },
  {
   "cell_type": "code",
   "execution_count": 12,
   "id": "183dd12f-363e-4e91-a302-73450cc9cb36",
   "metadata": {
    "tags": []
   },
   "outputs": [
    {
     "name": "stdout",
     "output_type": "stream",
     "text": [
      "Distribution Somas Locations...\n",
      "# Neurons   CCF Region\n",
      "313      Secondary motor area - 993.0\n",
      "76      Subiculum - 502.0\n",
      "62      Presubiculum - 1084.0\n",
      "53      Primary motor area - 985.0\n",
      "53      Dentate gyrus - 726.0\n",
      "46      Ventral posterior complex of the thalamus - 709.0\n",
      "45      Ventral anterior-lateral complex of the thalamus - 629.0\n",
      "41      Ammon's horn - 375.0\n",
      "39      Pontine gray - 931.0\n",
      "33      Anterior cingulate area, dorsal part - 39.0\n",
      "30      Postsubiculum - 1037.0\n",
      "29      Spinal nucleus of the trigeminal, interpolar part - 437.0\n",
      "23      dorsal hippocampal commissure - 443.0\n",
      "21      Mediodorsal nucleus of thalamus - 362.0\n",
      "20      Gigantocellular reticular nucleus - 1048.0\n",
      "20      Lateral hypothalamic area - 194.0\n",
      "19      Posterior complex of the thalamus - 1020.0\n",
      "18      484682464.0 - 484682464.0\n",
      "18      Zona incerta - 797.0\n",
      "17      Ventral medial nucleus of the thalamus - 685.0\n",
      "17      Primary somatosensory area - 322.0\n",
      "16      Primary visual area - 385.0\n",
      "16      Tegmental reticular nucleus - 574.0\n",
      "15      Medulla - 354.0\n",
      "15      Central lateral nucleus of the thalamus - 575.0\n",
      "14      Midbrain - 313.0\n"
     ]
    }
   ],
   "source": [
    "# Get ccf ids of somas --> raw counts and threshold by some min # skeletons in region\n",
    "soma_ccf_ids = [get_ccf_ids(skel, compartment_type=1, depth = 7)[0] for skel in skel_list]\n",
    "print(\"Distribution Somas Locations...\")\n",
    "report_distribution(soma_ccf_ids, percent_threshold=.8, return_counts=True)\n"
   ]
  },
  {
   "cell_type": "markdown",
   "id": "28c6c16f-a558-40a9-ad8e-f0803934bda7",
   "metadata": {},
   "source": [
    "<div style=\"border-left: 3px solid #000; padding: 1px; padding-left: 10px; background: #F0FAFF; \">\n",
    "\n",
    "<font size='4'> Let's sample a brain region that contains at least 30 somas from our dataset, then analyze the projections of these neurons. We'll use a function called \"sample_soma_location\" which takes the variables \"soma_ccf_ids\" and \"min_cnt\", then samples a ccf id with at least \"min_cnt\" appearances in \"soma_ccf_ids\". Once we have selected a brain region, we'll simply print out the distribution of regions that contain endpoints of these neurons before proceeding to visualizing the connectivity.\n",
    "    "
   ]
  },
  {
   "cell_type": "code",
   "execution_count": 13,
   "id": "0f72f7b9-8ce7-4977-b196-89cda44af6e5",
   "metadata": {
    "tags": []
   },
   "outputs": [
    {
     "name": "stdout",
     "output_type": "stream",
     "text": [
      "# Skeletons with Soma in Ventral anterior-lateral complex of the thalamus: 45\n",
      "\n",
      "Distribution of Dendrite Endpoints in CCF Space...\n",
      "% Vertices   CCF Region\n",
      "15.5127      Secondary motor area, layer 5 - 767.0\n",
      "12.1232      Primary motor area, Layer 5 - 648.0\n",
      "9.7999      Primary motor area, Layer 2/3 - 943.0\n",
      "9.6551      Secondary motor area, layer 2/3 - 962.0\n",
      "4.8901      Secondary motor area, layer 6a - 1021.0\n",
      "4.7519      Primary motor area, Layer 6a - 844.0\n",
      "4.0806      Secondary motor area, layer 1 - 656.0\n",
      "3.7515      Caudoputamen - 672.0\n",
      "3.0736      Ventral medial nucleus of the thalamus - 685.0\n",
      "2.297      Primary motor area, Layer 1 - 320.0\n",
      "1.5138      Ventral anterior-lateral complex of the thalamus - 629.0\n",
      "1.3624      526157184.0 - 526157184.0\n",
      "1.1847      Primary somatosensory area, mouth, layer 2/3 - 657.0\n",
      "1.1386      Primary somatosensory area, upper limb, layer 5 - 625.0\n",
      "1.007      Supplemental somatosensory area, layer 5 - 1090.0\n",
      "\n",
      "Distribution of Axon Endpoints in CCF Space...\n",
      "% Vertices   CCF Region\n",
      "73.046      Ventral anterior-lateral complex of the thalamus - 629.0\n",
      "6.6379      Posterior complex of the thalamus - 1020.0\n",
      "5.6034      Ventral medial nucleus of the thalamus - 685.0\n",
      "5.3161      Ventral posteromedial nucleus of the thalamus - 733.0\n",
      "4.7126      Paracentral nucleus - 907.0\n",
      "1.2356      Ventral posterolateral nucleus of the thalamus - 718.0\n",
      "1.092      Lateral dorsal nucleus of thalamus - 155.0\n"
     ]
    }
   ],
   "source": [
    "def sample_soma():\n",
    "    ids, cnts = np.unique(soma_ccf_ids, return_counts=True)\n",
    "    if not any(cnts >= min_cnt):\n",
    "        print(f\"Warning: No ccf region with {min_cnt} somas, returning region with most somas!\\n\")\n",
    "        return ids[np.argmax(cnts)]\n",
    "    else:\n",
    "        return sample(ids[cnts >= min_cnt].tolist(), 1)[0]\n",
    "\n",
    "\n",
    "# Sample ccf_id and extract skeletons with soma with that ccf region\n",
    "min_cnt = 30\n",
    "ccf_id = 629.0  # sample_soma()  # 629.0\n",
    "skels_subset = [skel for skel in skel_list if skel.vertex_properties['ccf'][skel.root] == ccf_id]\n",
    "print(f\"# Skeletons with Soma in {get_ccf_name(ccf_id)}:\", len(skels_subset))\n",
    "\n",
    "# Get ccf regions of endpoints\n",
    "axon_endpoints_ccf = list()\n",
    "dendrite_endpoints_ccf = list()\n",
    "for skel in skels_subset:\n",
    "    axon_endpoints_ccf.extend(get_ccf_ids(skel, compartment_type=3, vertex_type=\"end_points\").tolist())\n",
    "    dendrite_endpoints_ccf.extend(get_ccf_ids(skel, compartment_type=2, vertex_type=\"end_points\").tolist())\n",
    "\n",
    "# Report distribution\n",
    "print(\"\\nDistribution of Dendrite Endpoints in CCF Space...\")\n",
    "report_distribution(dendrite_endpoints_ccf, percent_threshold=1)\n",
    "\n",
    "print(\"\\nDistribution of Axon Endpoints in CCF Space...\")\n",
    "report_distribution(axon_endpoints_ccf, percent_threshold=1)\n"
   ]
  },
  {
   "cell_type": "markdown",
   "id": "8bc803b2-e93b-4241-b657-79b4720c4a8a",
   "metadata": {
    "tags": []
   },
   "source": [
    "<div style=\"background: #DFF0D8; border-radius: 3px; padding: 10px;\">\n",
    "<font size=\"4\"><p><b>Exercise 3.1:</b> Recall that we found which neurons traversed most and least brain regions in Exercise 2.2. Is this typical of neurons with somas in those same regions?\n",
    "    \n",
    "</div>"
   ]
  },
  {
   "cell_type": "markdown",
   "id": "9e488a04-3f94-42e5-8ee0-81fb0480aa1c",
   "metadata": {},
   "source": [
    "<div style=\"border-left: 3px solid #000; padding: 1px; padding-left: 10px; background: #F0FAFF; \">\n",
    "\n",
    "\n",
    "<font size='4'> Next, let's compute a connectivity matrix and visualize it as a heatmap by using the Python library \"seaborne\". In this matrix, each row corresponds to a neuron and the columns represent different brain regions. The entry at each (\"row\", \"column\") position is the number of endpoints that the neuron in \"row\" has within the brain region specified by that column. We'll generate this matrix with a routine called \"get_connectivity_matrix\" that takes \"skels_subset\" as an input, then returns the described connectivity matrix. </font>\n",
    "    "
   ]
  },
  {
   "cell_type": "markdown",
   "id": "b8dc6086-2687-413b-b963-f78ce1bd8cdb",
   "metadata": {},
   "source": [
    "### Connectivity Matrix"
   ]
  },
  {
   "cell_type": "code",
   "execution_count": 14,
   "id": "4176977a-8fdb-493c-8ca8-61e0e51612d7",
   "metadata": {
    "tags": []
   },
   "outputs": [],
   "source": [
    "#### make a heat strip instead of printing distribution."
   ]
  },
  {
   "cell_type": "code",
   "execution_count": 15,
   "id": "62edd9c7-b9c9-49cb-ad51-0a743079120b",
   "metadata": {
    "tags": []
   },
   "outputs": [
    {
     "data": {
      "image/png": "[encoded data removed]",
      "text/plain": [
       "<Figure size 1800x700 with 2 Axes>"
      ]
     },
     "metadata": {},
     "output_type": "display_data"
    }
   ],
   "source": [
    "def plot_heatmap(matrix):\n",
    "    # Initialize figure\n",
    "    plt.figure(figsize=(18, 7))\n",
    "    sns.heatmap(connectivity_matrix, cmap='YlGnBu')\n",
    "\n",
    "    # Add labels and title\n",
    "    plt.title('Connectivity Matrix Heatmap\\n', fontsize=16)\n",
    "    plt.xlabel('\\nBrain Regions', fontsize=14)\n",
    "    plt.ylabel('Neurons\\n', fontsize=14)\n",
    "\n",
    "    # Display the heatmap\n",
    "    plt.show()\n",
    "\n",
    "\n",
    "connectivity_matrix, idx_to_region = get_connectivity_matrix(skels_subset)\n",
    "plot_heatmap(connectivity_matrix)\n",
    "\n",
    "\n",
    "# add region names to plot\n",
    "# add option to choose max_depth\n",
    "\n",
    "# Is there a correlation between where these neurons branch?\n",
    "\n"
   ]
  },
  {
   "cell_type": "code",
   "execution_count": null,
   "id": "40cb0c74-f1a0-4cab-b384-9d9782547e0b",
   "metadata": {},
   "outputs": [],
   "source": []
  },
  {
   "cell_type": "markdown",
   "id": "c2f409bc-9e63-4974-9641-a8b5c2bddb73",
   "metadata": {},
   "source": [
    "<div style=\"background: #DFF0D8; border-radius: 3px; padding: 10px;\">\n",
    "<font size=\"4\"><p><b>Exercise 3.2:</b> In the connectivity heat map above, we visualize the distribution of where the axonal endpoints are located. What do you think the corresponding heatmap would look like for the dendritic endpoints?\n",
    "    \n",
    "</div>"
   ]
  },
  {
   "cell_type": "markdown",
   "id": "f768adce-235b-40c3-ada9-6767f4f9b779",
   "metadata": {},
   "source": [
    "### PCA with Connectivity Vectors"
   ]
  },
  {
   "cell_type": "code",
   "execution_count": 16,
   "id": "e4438749-b688-4470-86f0-a78b3f87d104",
   "metadata": {
    "tags": []
   },
   "outputs": [],
   "source": [
    "# run pca on binary/cnt vector of regions that endpoints fall into\n"
   ]
  }
 ],
 "metadata": {
  "kernelspec": {
   "display_name": "Python 3 (ipykernel)",
   "language": "python",
   "name": "python3"
  },
  "language_info": {
   "codemirror_mode": {
    "name": "ipython",
    "version": 3
   },
   "file_extension": ".py",
   "mimetype": "text/x-python",
   "name": "python",
   "nbconvert_exporter": "python",
   "pygments_lexer": "ipython3",
   "version": "3.9.12"
  }
 },
 "nbformat": 4,
 "nbformat_minor": 5
}
