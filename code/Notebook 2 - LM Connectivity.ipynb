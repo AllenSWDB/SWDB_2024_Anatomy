{
 "cells": [
  {
   "cell_type": "markdown",
   "id": "d7bba40e-f77b-457d-8b73-30d852e076cd",
   "metadata": {
    "tags": []
   },
   "source": [
    "<img src=\"resources/cropped-SummerWorkshop_Header.png\">  \n",
    "\n",
    "<h1 align=\"center\">Workshop SWDB 2024 </h1> \n",
    "<h3 align=\"center\">Day 3 2024 - Neuron Morphology</h3> \n",
    "<h3 align=\"center\">Notebook 4: Analyzing Brain Connectivity via Projections of Light Microscopy Neurons</h3> "
   ]
  },
  {
   "cell_type": "markdown",
   "id": "e7fd93f5-8ff8-4723-a45d-b6bff6937cb0",
   "metadata": {},
   "source": [
    "<b>This is the color key that i'm using for leaving comments...\n",
    "\n",
    "<b><font color='green'> Green</font> --> Add image\n",
    "    \n",
    "<b><font color='orange'> Orange</font> --> Write up the thing being described\n",
    "    \n",
    "<b><font color='red'> Red</font> --> Question\n",
    "    "
   ]
  },
  {
   "cell_type": "markdown",
   "id": "248e8360-7309-4721-a9ba-75e413c3bdcd",
   "metadata": {},
   "source": [
    "Note: This beginning part is very wordy and most of the text is probably unnecssary. Let's trim it down in the next version, it's here now so that you have an idea of what type of analysis this notebook is geared towards. "
   ]
  },
  {
   "cell_type": "markdown",
   "id": "9971c6ba-5a83-402c-a8e6-aa4d6fd552d5",
   "metadata": {
    "tags": []
   },
   "source": [
    "<div style=\"border-left: 3px solid #000; padding: 1px; padding-left: 10px; background: #F0FAFF; \">\n",
    "    \n",
    "# Section 1: Introduction\n",
    "\n",
    "\n",
    "<font size=\"3.5\"> The main objective of this notebook is to analyze the \"projections\" of Light Microscopy (LM) neurons, meaning the regions of the brain that the axons and dendrites traverse and communicate their inputs/outputs via the endpoints. This type of long-range projection analysis is only applicable for the LM neurons since the EM neurons were reconstructed within a small piece of tissue fully contained within the visual cortex. In contrast, we will see that many LM neurons have axons that project across many brain regions, see Figure 1.  </font>\n"
   ]
  },
  {
   "cell_type": "markdown",
   "id": "063a3eff-4496-4aae-ab46-77e0980b3587",
   "metadata": {},
   "source": [
    "<div style=\"text-align: center;\">\n",
    "    <img src='imgs/lm-vs-em.png' style=\"max-width: 65%; height: auto;\">\n",
    "</div>"
   ]
  },
  {
   "cell_type": "markdown",
   "id": "ba797a1b-2442-46e7-a1d6-fcf6010a8d1d",
   "metadata": {
    "tags": []
   },
   "source": [
    "<font size=\"3.5\"><b> Figure 1:</b> LM neuron shown in blue and EM neuron shown in purple."
   ]
  },
  {
   "cell_type": "markdown",
   "id": "4dd97c4a-8f23-4ffc-9060-1e0a364fdc1e",
   "metadata": {
    "tags": []
   },
   "source": [
    "<div style=\"border-left: 3px solid #000; padding: 1px; padding-left: 10px; background: #F0FAFF; \">\n",
    "\n",
    "<font size=\"3.5\"> As an introduction to analyzing the projections of LM neurons, we will explore two open-ended questions related to brain connectivity that scientists consider when analyzing LM neurons. These questions aim to uncover both the fundamental connections and complex network dynamics that define the functional roles of these neurons within the broader neural circuitry. \n",
    "\n",
    "<font size=\"3.5\"> &nbsp;&nbsp;&nbsp;&nbsp;&nbsp;&nbsp; <strong>Question 1:</strong> What do the inputs to a particular brain region look like? </font>\n",
    "\n",
    "<font size=\"3.5\"> &nbsp;&nbsp;&nbsp;&nbsp;&nbsp;&nbsp; <strong>Question 2:</strong>  Where else do those inputs send their collaterals?  </font>\n",
    "\n",
    "<font size=\"3.5\"> Both of these questions involve analyzing a large number of neurons to provide a general overview of how neurons <em>connect</em> different brain regions.  Before addressing these questions, we must first understand the meaning of <em>connectivity</em> at the level of a single neuron, then generalize this notion to the level of brain regions. In this context a neuron connects regions <em>A</em> and <em>B</em> if the neuron has dendritic endpoints in region <em>A</em> and axonal endpoints in region <em>B</em>. The dendritic endpoints receive the <em>input</em> of a neuron, whereas the axonal endpoints send the neuron's output.\n",
    "\n",
    "<font size=\"3.5\"> Brain regions being <em>connected</em> refers to the existence of established neural pathways—comprising many neurons—through which signals can be transmitted between the regions. This connectivity enables regions to share information and coordinate activities.\n"
   ]
  },
  {
   "cell_type": "markdown",
   "id": "e336a8c0-08a8-46b3-b849-3d9714f7eca2",
   "metadata": {
    "tags": []
   },
   "source": [
    "<div style=\"border-left: 3px solid #000; padding: 1px; padding-left: 10px; background: #F0FAFF; \">\n",
    "\n",
    "<font size=\"5\"> Section 1.1: Strategy for Answering Scientific Questions </font>\n",
    "\n",
    "<font size=\"4\"> <b>Question 1:</b>\n",
    "    \n",
    "<font size=\"3.5\"> First, we need to determine the <em>inputs</em> to a given brain region. Inputs to a brain region are the signals or information arriving from another brain region or sensory organ. These inputs provide the data that the brain uses to process and respond to various stimuli or tasks.  In order to determine the inputs to a brain region, we need to be able to extract the following information from neurons in the exaspim dataset...  </font>\n",
    "    \n",
    "<font size=\"3.5\"><strong> &nbsp;&nbsp;&nbsp;&nbsp;&nbsp;&nbsp; Task 1:</strong> Which brain regions do the dendritic or axonal endpoints of a given neuron belong to? </font>\n",
    "\n",
    "<font size=\"3.5\"><strong>  &nbsp;&nbsp;&nbsp;&nbsp;&nbsp;&nbsp; Task 2:</strong> Find all neurons that have dendritic or axonal endpoints in a given brain region. </font>\n",
    "    \n",
    "<font size=\"3.5\"> Note that Sections 2 and 3 describe how to perform these tasks.\n",
    "<br><br>\n",
    "    \n",
    "<font size=\"4\"> <b>Question 2:</b>\n",
    "    \n",
    "<font size=\"3.5\"> Once this information arrives to a given brain region, it might not just stay there. The question is also interested in understanding where this information might be sent next. The term \"collaterals\" refers to the pathways or branches that the information takes after reaching the initial region. These are like additional routes that the message might travel to other hubs or regions in the brain.\n",
    "<br><br>\n",
    "\n",
    "<font size=\"3.5\" color='orange'><b> Say a little more about how to answer this question </font></b>\n",
    "\n",
    "<br><br>\n",
    "\n",
    "<font size=\"3.5\"> In summary, the objective of these questions is to identify what kind of information enters a particular brain region, then explore where these signals are distributed or sent next in the brain.\n"
   ]
  },
  {
   "cell_type": "markdown",
   "id": "18f1e655-33e9-4e8a-8aa4-b925b5d8c8c6",
   "metadata": {},
   "source": [
    "<div style=\"border-left: 3px solid #000; padding: 1px; padding-left: 10px; background: #F0FAFF; \">\n",
    "\n",
    "<font size=\"5\"> Section 1.2: Analyzing Connectivity with the Common Coordinate Framework (CCF) </font> \n",
    "\n",
    "<font size=\"3.5\"> In order to analyze the projections of these neurons, each brain needs to be registered to a standardized template brain space referred to as the Common Coordinate Framework (CCF), see Figure Y. This registration step is important because it enables scientists to analyze and compare neuron reconstructions from multiple brains in an integrated framework. </font>\n",
    "\n",
    "<font size=\"3.5\" color='red'><b> What should we say about the ccf? Hi Matthew, could you write up a little description here. </font><b>\n"
   ]
  },
  {
   "cell_type": "markdown",
   "id": "036d62d4-364a-42be-9aa8-6cb256fc480d",
   "metadata": {},
   "source": [
    "<font size=\"3\" color='green'><b> Insert image of CCF </font><b>"
   ]
  },
  {
   "cell_type": "code",
   "execution_count": 1,
   "id": "474080e1-5757-4c04-b55a-f9b0510d9f67",
   "metadata": {
    "tags": []
   },
   "outputs": [
    {
     "data": {
      "text/html": [
       "<div>\n",
       "<style scoped>\n",
       "    .dataframe tbody tr th:only-of-type {\n",
       "        vertical-align: middle;\n",
       "    }\n",
       "\n",
       "    .dataframe tbody tr th {\n",
       "        vertical-align: top;\n",
       "    }\n",
       "\n",
       "    .dataframe thead th {\n",
       "        text-align: right;\n",
       "    }\n",
       "</style>\n",
       "<table border=\"1\" class=\"dataframe\">\n",
       "  <thead>\n",
       "    <tr style=\"text-align: right;\">\n",
       "      <th></th>\n",
       "      <th>id</th>\n",
       "      <th>name</th>\n",
       "      <th>acronym</th>\n",
       "      <th>hemisphere_id</th>\n",
       "      <th>parent_structure_id</th>\n",
       "      <th>graph_order</th>\n",
       "      <th>structure_id_path</th>\n",
       "      <th>color_hex_triplet</th>\n",
       "    </tr>\n",
       "  </thead>\n",
       "  <tbody>\n",
       "    <tr>\n",
       "      <th>0</th>\n",
       "      <td>1000</td>\n",
       "      <td>extrapyramidal fiber systems</td>\n",
       "      <td>eps</td>\n",
       "      <td>3</td>\n",
       "      <td>1009.0</td>\n",
       "      <td>1218</td>\n",
       "      <td>/997/1009/1000/</td>\n",
       "      <td>CCCCCC</td>\n",
       "    </tr>\n",
       "    <tr>\n",
       "      <th>1</th>\n",
       "      <td>223</td>\n",
       "      <td>Arcuate hypothalamic nucleus</td>\n",
       "      <td>ARH</td>\n",
       "      <td>3</td>\n",
       "      <td>157.0</td>\n",
       "      <td>733</td>\n",
       "      <td>/997/8/343/1129/1097/157/223/</td>\n",
       "      <td>FF5D50</td>\n",
       "    </tr>\n",
       "    <tr>\n",
       "      <th>2</th>\n",
       "      <td>12998</td>\n",
       "      <td>Somatosensory areas, layer 6b</td>\n",
       "      <td>SS6b</td>\n",
       "      <td>3</td>\n",
       "      <td>453.0</td>\n",
       "      <td>36</td>\n",
       "      <td>/997/8/567/688/695/315/453/12998/</td>\n",
       "      <td>188064</td>\n",
       "    </tr>\n",
       "    <tr>\n",
       "      <th>3</th>\n",
       "      <td>163</td>\n",
       "      <td>Agranular insular area, posterior part, layer 2/3</td>\n",
       "      <td>AIp2/3</td>\n",
       "      <td>3</td>\n",
       "      <td>111.0</td>\n",
       "      <td>287</td>\n",
       "      <td>/997/8/567/688/695/315/95/111/163/</td>\n",
       "      <td>219866</td>\n",
       "    </tr>\n",
       "    <tr>\n",
       "      <th>4</th>\n",
       "      <td>552</td>\n",
       "      <td>Pontine reticular nucleus, ventral part</td>\n",
       "      <td>PRNv</td>\n",
       "      <td>3</td>\n",
       "      <td>987.0</td>\n",
       "      <td>914</td>\n",
       "      <td>/997/8/343/1065/771/987/552/</td>\n",
       "      <td>FFBA86</td>\n",
       "    </tr>\n",
       "  </tbody>\n",
       "</table>\n",
       "</div>"
      ],
      "text/plain": [
       "      id                                               name acronym  \\\n",
       "0   1000                       extrapyramidal fiber systems     eps   \n",
       "1    223                       Arcuate hypothalamic nucleus     ARH   \n",
       "2  12998                      Somatosensory areas, layer 6b    SS6b   \n",
       "3    163  Agranular insular area, posterior part, layer 2/3  AIp2/3   \n",
       "4    552            Pontine reticular nucleus, ventral part    PRNv   \n",
       "\n",
       "   hemisphere_id  parent_structure_id  graph_order  \\\n",
       "0              3               1009.0         1218   \n",
       "1              3                157.0          733   \n",
       "2              3                453.0           36   \n",
       "3              3                111.0          287   \n",
       "4              3                987.0          914   \n",
       "\n",
       "                    structure_id_path color_hex_triplet  \n",
       "0                     /997/1009/1000/            CCCCCC  \n",
       "1       /997/8/343/1129/1097/157/223/            FF5D50  \n",
       "2   /997/8/567/688/695/315/453/12998/            188064  \n",
       "3  /997/8/567/688/695/315/95/111/163/            219866  \n",
       "4        /997/8/343/1065/771/987/552/            FFBA86  "
      ]
     },
     "execution_count": 1,
     "metadata": {},
     "output_type": "execute_result"
    }
   ],
   "source": [
    "import pandas as pd\n",
    "\n",
    "\n",
    "def get_ccf_name(ccf_id):\n",
    "    idx = ccf_structures[\"id\"] == ccf_id\n",
    "    try:\n",
    "        return ccf_structures.loc[idx, \"name\"].iloc[0]\n",
    "    except:\n",
    "        return ccf_id\n",
    "\n",
    "\n",
    "# Load the CCF structure data as a DataFrame\n",
    "ccf_structures = pd.read_csv('/data/adult_mouse_ccf_structures.csv')\n",
    "ccf_structures.head()"
   ]
  },
  {
   "cell_type": "markdown",
   "id": "e6645db3-9012-4b9a-a991-ef8d3173248d",
   "metadata": {},
   "source": [
    "<div style=\"border-left: 3px solid #000; padding: 1px; padding-left: 10px; background: #F0FAFF; \">\n",
    "\n",
    "<font size=\"3.5\"> The ccf ids are stored as integers in a meshparty skeleton, so we'll use the function \"get_ccf_name\" to get the name of the region corresponding to a given id. Here is a simple example of using this function: </font>"
   ]
  },
  {
   "cell_type": "code",
   "execution_count": 2,
   "id": "a99c190e-75c0-4d58-aa01-9b95568c2fc8",
   "metadata": {
    "tags": []
   },
   "outputs": [
    {
     "name": "stdout",
     "output_type": "stream",
     "text": [
      "The CCF ID '12998' represents the 'Somatosensory areas, layer 6b'\n",
      "\n"
     ]
    }
   ],
   "source": [
    "ccf_id = 12998\n",
    "print(f\"The CCF ID '{ccf_id}' represents the '{get_ccf_name(ccf_id)}'\\n\")\n"
   ]
  },
  {
   "cell_type": "markdown",
   "id": "0cbde34e-84e9-4abe-943f-1df912e15c03",
   "metadata": {},
   "source": [
    "<div style=\"border-left: 3px solid #000; padding: 1px; padding-left: 10px; background: #F0FAFF; \">\n",
    "    \n",
    "# Section 2: Analyzing Connectivity of a Single Neuron\n",
    "    \n",
    "<font size=\"3.5\"> Let's load the skeleton dataset of LM neurons, then sample a single skeleton and analyze what regions of the brain this neuron connects. </font>"
   ]
  },
  {
   "cell_type": "markdown",
   "id": "6a6fa2de-ec71-49d9-8a5f-7eea7f391c97",
   "metadata": {
    "tags": []
   },
   "source": [
    "\n"
   ]
  },
  {
   "cell_type": "code",
   "execution_count": 3,
   "id": "4cdfe97f-386d-46b8-bd6f-fd86c740ffd9",
   "metadata": {
    "tags": []
   },
   "outputs": [
    {
     "name": "stdout",
     "output_type": "stream",
     "text": [
      "Overview of LM Neuron Dataset...\n",
      "# Brain Samples: 5\n",
      "# Skeletons: 1649\n"
     ]
    }
   ],
   "source": [
    "# Imports\n",
    "from random import sample\n",
    "\n",
    "from utils.graph_utils import get_ccf_ids\n",
    "from utils.dataset_utils import number_of_samples, load_lm_datasets\n",
    "\n",
    "import numpy as np\n",
    "\n",
    "\n",
    "# Initializations\n",
    "skel_list = load_lm_datasets()\n",
    "print(\"Overview of LM Neuron Dataset...\")\n",
    "print(\"# Brain Samples:\", number_of_samples())\n",
    "print(\"# Skeletons:\", len(skel_list))\n"
   ]
  },
  {
   "cell_type": "markdown",
   "id": "e0c69713-9a48-4bd8-b13b-f1bc9f298c5e",
   "metadata": {},
   "source": [
    "<div style=\"border-left: 3px solid #000; padding: 1px; padding-left: 10px; background: #F0FAFF; \">\n",
    "\n",
    "<font size=\"3.5\"> Each skeleton has a node-level attribute called \"id\" that specifies where a node is located in ccf space. We will use subroutine called \"get_ccf_ids\" which is stored in \"graph_utils.py\". The purpose of this routine is to easily extract the ccf ids from vertices within a certain compartment (e.g. axons or dendrites) and/or vertices which are end points or branch points, see documentation for more details. Next, let's look at some simple examples of using the routine \"get_ccf_ids\". </font>"
   ]
  },
  {
   "cell_type": "code",
   "execution_count": 4,
   "id": "367746c0-6cc2-41c8-aec5-4dffc29e094f",
   "metadata": {
    "tags": []
   },
   "outputs": [
    {
     "name": "stdout",
     "output_type": "stream",
     "text": [
      "Soma is in the Central lateral nucleus of the thalamus\n",
      "\n",
      "Axons Traverse these CCF Regions...\n",
      "   Lateral habenula\n",
      "   Mediodorsal nucleus of thalamus\n",
      "   Central lateral nucleus of the thalamus\n",
      "   fasciculus retroflexus\n",
      "\n",
      "Dendrites Traverse these CCF Regions...\n",
      "   Interfascicular nucleus raphe\n",
      "   medial longitudinal fascicle\n",
      "   Midbrain reticular nucleus\n",
      "   Pontine reticular nucleus\n",
      "   Lateral habenula\n",
      "   Midbrain\n",
      "   superior cerebelar peduncles\n",
      "   Mediodorsal nucleus of thalamus\n",
      "   Central lateral nucleus of the thalamus\n",
      "   Central linear nucleus raphe\n",
      "   fasciculus retroflexus\n",
      "   mammillotegmental tract\n",
      "   Periaqueductal gray\n",
      "   rubrospinal tract\n",
      "   Dorsal nucleus raphe\n",
      "   Parafascicular nucleus\n",
      "   crossed tectospinal pathway\n"
     ]
    }
   ],
   "source": [
    "# Sample single skeleton\n",
    "skel = sample(skel_list, 1)[0]\n",
    "\n",
    "# Root - CCF Compartment\n",
    "soma_ccf = get_ccf_ids(skel, compartment_type=1)\n",
    "print(\"Soma is in the\", get_ccf_name(soma_ccf[0]))\n",
    "\n",
    "# Axon - CCF Regions\n",
    "print(\"\\nAxons Traverse these CCF Regions...\")\n",
    "axons_ccf = get_ccf_ids(skel, compartment_type=3)\n",
    "for ccf_id in np.unique(axons_ccf):\n",
    "    print(\"  \", get_ccf_name(ccf_id))\n",
    "\n",
    "# Dendrite - CCF Compartments\n",
    "print(\"\\nDendrites Traverse these CCF Regions...\")\n",
    "dendrites_ccf = get_ccf_ids(skel, compartment_type=2)\n",
    "for ccf_id in np.unique(dendrites_ccf):\n",
    "    print(\"  \", get_ccf_name(ccf_id))\n",
    "    "
   ]
  },
  {
   "cell_type": "markdown",
   "id": "97aec240-a475-477c-bd91-bc8e31de112a",
   "metadata": {
    "tags": []
   },
   "source": [
    "<div style=\"border-left: 3px solid #000; padding: 1px; padding-left: 10px; background: #F0FAFF; \">\n",
    "\n",
    "\n",
    "<font size=\"3.5\"> Lets compute the ccf region distriubtion for the axonal and dendritic endpoints. These statistics are more meaningful because they describe where neurons receive/send inputs/outputs. We can use that same routine \"get_ccf_ids\" to more easily get these ccf ids. </font>\n"
   ]
  },
  {
   "cell_type": "code",
   "execution_count": 5,
   "id": "dd7a2231-6ed3-48b9-ab7d-fc5493e01090",
   "metadata": {
    "tags": []
   },
   "outputs": [
    {
     "name": "stdout",
     "output_type": "stream",
     "text": [
      "Soma is in the Central lateral nucleus of the thalamus\n",
      "\n",
      "Distribution of CCF Regions of Axon Endpoints...\n",
      "% Vertices   CCF Region\n",
      "57.89      Mediodorsal nucleus of thalamus\n",
      "31.58      Central lateral nucleus of the thalamus\n",
      "10.53      fasciculus retroflexus\n",
      "\n",
      "Distribution of CCF Regions of Dendrite Endpoints...\n",
      "% Vertices   CCF Region\n",
      "52.94      Midbrain reticular nucleus\n",
      "23.53      superior cerebelar peduncles\n",
      "11.76      Periaqueductal gray\n",
      "5.88      Pontine reticular nucleus\n",
      "5.88      Midbrain\n"
     ]
    }
   ],
   "source": [
    "# Subroutines\n",
    "def report_distribution(values, percent_threshold=0):\n",
    "    ids, cnts = np.unique(values, return_counts=True)\n",
    "    print(\"% Vertices   CCF Region\")\n",
    "    for idx in np.argsort(-cnts):\n",
    "        percent = 100 * cnts[idx] / len(values)\n",
    "        ccf_id = get_ccf_name(ids[idx])\n",
    "        if percent >= percent_threshold:\n",
    "            print(f\"{round(percent, 2)}      {ccf_id}\")\n",
    "\n",
    "\n",
    "# Root - CCF Compartment\n",
    "soma_ccf = get_ccf_ids(skel, compartment_type=1)\n",
    "print(\"Soma is in the\", get_ccf_name(soma_ccf[0]))\n",
    "\n",
    "# Axon Endpoints - CCF Regions\n",
    "print(\"\\nDistribution of CCF Regions of Axon Endpoints...\")\n",
    "axon_endpoints_ccf = get_ccf_ids(skel, compartment_type=3, vertex_type=\"end_points\")\n",
    "report_distribution(axon_endpoints_ccf)\n",
    "\n",
    "# Dendrite Endpoints - CCF Regions\n",
    "print(\"\\nDistribution of CCF Regions of Dendrite Endpoints...\")\n",
    "dendrite_endpoints_ccf = get_ccf_ids(skel, compartment_type=2, vertex_type=\"end_points\")\n",
    "report_distribution(dendrite_endpoints_ccf)\n"
   ]
  },
  {
   "cell_type": "markdown",
   "id": "f46b598a-8e01-4322-ad16-682e354cfde1",
   "metadata": {},
   "source": [
    "<div style=\"background: #DFF0D8; border-radius: 3px; padding: 10px;\">\n",
    "<font size=\"3.5\"><p><b>Task 1.1:</b>  Find the neurons that project across the fewest and largest number of brain regions.\n",
    "    \n",
    "</div>"
   ]
  },
  {
   "cell_type": "markdown",
   "id": "c6e23de7-95fa-4840-b874-3d3c56b1c916",
   "metadata": {},
   "source": [
    "<div style=\"border-left: 3px solid #000; padding: 1px; padding-left: 10px; background: #F0FAFF; \">\n",
    "    \n",
    "# Section 2: Analyzing Connectivity Between Brain Regions\n",
    "\n",
    "<font size='3.5'> Next, let's ....</font>"
   ]
  },
  {
   "cell_type": "code",
   "execution_count": 19,
   "id": "183dd12f-363e-4e91-a302-73450cc9cb36",
   "metadata": {
    "collapsed": true,
    "jupyter": {
     "outputs_hidden": true
    },
    "tags": []
   },
   "outputs": [
    {
     "ename": "ValueError",
     "evalue": "can only convert an array of size 1 to a Python scalar",
     "output_type": "error",
     "traceback": [
      "\u001b[0;31m---------------------------------------------------------------------------\u001b[0m",
      "\u001b[0;31mValueError\u001b[0m                                Traceback (most recent call last)",
      "Cell \u001b[0;32mIn[19], line 2\u001b[0m\n\u001b[1;32m      1\u001b[0m \u001b[38;5;66;03m# Get ccf ids of somas\u001b[39;00m\n\u001b[0;32m----> 2\u001b[0m soma_ccf_ids \u001b[38;5;241m=\u001b[39m [get_ccf_ids(skel, compartment_type\u001b[38;5;241m=\u001b[39m\u001b[38;5;241m1\u001b[39m)\u001b[38;5;241m.\u001b[39mitem() \u001b[38;5;28;01mfor\u001b[39;00m skel \u001b[38;5;129;01min\u001b[39;00m skel_list]\n\u001b[1;32m      3\u001b[0m \u001b[38;5;28mprint\u001b[39m(\u001b[38;5;124m\"\u001b[39m\u001b[38;5;124mDistribution Somas Locations...\u001b[39m\u001b[38;5;124m\"\u001b[39m)\n\u001b[1;32m      4\u001b[0m report_distribution(soma_ccf_ids)\n",
      "Cell \u001b[0;32mIn[19], line 2\u001b[0m, in \u001b[0;36m<listcomp>\u001b[0;34m(.0)\u001b[0m\n\u001b[1;32m      1\u001b[0m \u001b[38;5;66;03m# Get ccf ids of somas\u001b[39;00m\n\u001b[0;32m----> 2\u001b[0m soma_ccf_ids \u001b[38;5;241m=\u001b[39m [\u001b[43mget_ccf_ids\u001b[49m\u001b[43m(\u001b[49m\u001b[43mskel\u001b[49m\u001b[43m,\u001b[49m\u001b[43m \u001b[49m\u001b[43mcompartment_type\u001b[49m\u001b[38;5;241;43m=\u001b[39;49m\u001b[38;5;241;43m1\u001b[39;49m\u001b[43m)\u001b[49m\u001b[38;5;241;43m.\u001b[39;49m\u001b[43mitem\u001b[49m\u001b[43m(\u001b[49m\u001b[43m)\u001b[49m \u001b[38;5;28;01mfor\u001b[39;00m skel \u001b[38;5;129;01min\u001b[39;00m skel_list]\n\u001b[1;32m      3\u001b[0m \u001b[38;5;28mprint\u001b[39m(\u001b[38;5;124m\"\u001b[39m\u001b[38;5;124mDistribution Somas Locations...\u001b[39m\u001b[38;5;124m\"\u001b[39m)\n\u001b[1;32m      4\u001b[0m report_distribution(soma_ccf_ids)\n",
      "\u001b[0;31mValueError\u001b[0m: can only convert an array of size 1 to a Python scalar"
     ]
    }
   ],
   "source": [
    "# Get ccf ids of somas\n",
    "soma_ccf_ids = [get_ccf_ids(skel, compartment_type=1)[0] for skel in skel_list]\n",
    "print(\"Distribution Somas Locations...\")\n",
    "report_distribution(soma_ccf_ids)\n"
   ]
  },
  {
   "cell_type": "markdown",
   "id": "28c6c16f-a558-40a9-ad8e-f0803934bda7",
   "metadata": {},
   "source": [
    "<div style=\"border-left: 3px solid #000; padding: 1px; padding-left: 10px; background: #F0FAFF; \">\n",
    "\n",
    "<font size='3.5'> Let's sample a brain region that contains somas from our dataset, then analyze the projections of these neurons.  </font>\n",
    "    \n",
    "\n",
    "<font size=\"3.5\" color='orange'><b> Say a little more </font><b>\n",
    "    "
   ]
  },
  {
   "cell_type": "code",
   "execution_count": 20,
   "id": "0f72f7b9-8ce7-4977-b196-89cda44af6e5",
   "metadata": {
    "tags": []
   },
   "outputs": [
    {
     "ename": "ValueError",
     "evalue": "('Lengths must match to compare', (1327,), (1,))",
     "output_type": "error",
     "traceback": [
      "\u001b[0;31m---------------------------------------------------------------------------\u001b[0m",
      "\u001b[0;31mValueError\u001b[0m                                Traceback (most recent call last)",
      "Cell \u001b[0;32mIn[20], line 4\u001b[0m\n\u001b[1;32m      2\u001b[0m ccf_id \u001b[38;5;241m=\u001b[39m sample(soma_ccf_ids, \u001b[38;5;241m1\u001b[39m)[\u001b[38;5;241m0\u001b[39m]\n\u001b[1;32m      3\u001b[0m skels_subset \u001b[38;5;241m=\u001b[39m [skel \u001b[38;5;28;01mfor\u001b[39;00m skel \u001b[38;5;129;01min\u001b[39;00m skel_list \u001b[38;5;28;01mif\u001b[39;00m skel\u001b[38;5;241m.\u001b[39mvertex_properties[\u001b[38;5;124m'\u001b[39m\u001b[38;5;124mccf\u001b[39m\u001b[38;5;124m'\u001b[39m][skel\u001b[38;5;241m.\u001b[39mroot] \u001b[38;5;241m==\u001b[39m ccf_id]\n\u001b[0;32m----> 4\u001b[0m \u001b[38;5;28mprint\u001b[39m(\u001b[38;5;124mf\u001b[39m\u001b[38;5;124m\"\u001b[39m\u001b[38;5;124m# Skeletons with Soma in \u001b[39m\u001b[38;5;132;01m{\u001b[39;00m\u001b[43mget_ccf_name\u001b[49m\u001b[43m(\u001b[49m\u001b[43mccf_id\u001b[49m\u001b[43m)\u001b[49m\u001b[38;5;132;01m}\u001b[39;00m\u001b[38;5;124m:\u001b[39m\u001b[38;5;124m\"\u001b[39m, \u001b[38;5;28mlen\u001b[39m(skels_subset))\n\u001b[1;32m      6\u001b[0m \u001b[38;5;66;03m# Get ccf regions of endpoints\u001b[39;00m\n\u001b[1;32m      7\u001b[0m axon_endpoints_ccf \u001b[38;5;241m=\u001b[39m \u001b[38;5;28mlist\u001b[39m()\n",
      "Cell \u001b[0;32mIn[1], line 5\u001b[0m, in \u001b[0;36mget_ccf_name\u001b[0;34m(ccf_id)\u001b[0m\n\u001b[1;32m      4\u001b[0m \u001b[38;5;28;01mdef\u001b[39;00m \u001b[38;5;21mget_ccf_name\u001b[39m(ccf_id):\n\u001b[0;32m----> 5\u001b[0m     idx \u001b[38;5;241m=\u001b[39m \u001b[43mccf_structures\u001b[49m\u001b[43m[\u001b[49m\u001b[38;5;124;43m\"\u001b[39;49m\u001b[38;5;124;43mid\u001b[39;49m\u001b[38;5;124;43m\"\u001b[39;49m\u001b[43m]\u001b[49m\u001b[43m \u001b[49m\u001b[38;5;241;43m==\u001b[39;49m\u001b[43m \u001b[49m\u001b[43mccf_id\u001b[49m\n\u001b[1;32m      6\u001b[0m     \u001b[38;5;28;01mtry\u001b[39;00m:\n\u001b[1;32m      7\u001b[0m         \u001b[38;5;28;01mreturn\u001b[39;00m ccf_structures\u001b[38;5;241m.\u001b[39mloc[idx, \u001b[38;5;124m\"\u001b[39m\u001b[38;5;124mname\u001b[39m\u001b[38;5;124m\"\u001b[39m]\u001b[38;5;241m.\u001b[39miloc[\u001b[38;5;241m0\u001b[39m]\n",
      "File \u001b[0;32m/opt/conda/lib/python3.9/site-packages/pandas/core/ops/common.py:76\u001b[0m, in \u001b[0;36m_unpack_zerodim_and_defer.<locals>.new_method\u001b[0;34m(self, other)\u001b[0m\n\u001b[1;32m     72\u001b[0m             \u001b[38;5;28;01mreturn\u001b[39;00m \u001b[38;5;28mNotImplemented\u001b[39m\n\u001b[1;32m     74\u001b[0m other \u001b[38;5;241m=\u001b[39m item_from_zerodim(other)\n\u001b[0;32m---> 76\u001b[0m \u001b[38;5;28;01mreturn\u001b[39;00m \u001b[43mmethod\u001b[49m\u001b[43m(\u001b[49m\u001b[38;5;28;43mself\u001b[39;49m\u001b[43m,\u001b[49m\u001b[43m \u001b[49m\u001b[43mother\u001b[49m\u001b[43m)\u001b[49m\n",
      "File \u001b[0;32m/opt/conda/lib/python3.9/site-packages/pandas/core/arraylike.py:40\u001b[0m, in \u001b[0;36mOpsMixin.__eq__\u001b[0;34m(self, other)\u001b[0m\n\u001b[1;32m     38\u001b[0m \u001b[38;5;129m@unpack_zerodim_and_defer\u001b[39m(\u001b[38;5;124m\"\u001b[39m\u001b[38;5;124m__eq__\u001b[39m\u001b[38;5;124m\"\u001b[39m)\n\u001b[1;32m     39\u001b[0m \u001b[38;5;28;01mdef\u001b[39;00m \u001b[38;5;21m__eq__\u001b[39m(\u001b[38;5;28mself\u001b[39m, other):\n\u001b[0;32m---> 40\u001b[0m     \u001b[38;5;28;01mreturn\u001b[39;00m \u001b[38;5;28;43mself\u001b[39;49m\u001b[38;5;241;43m.\u001b[39;49m\u001b[43m_cmp_method\u001b[49m\u001b[43m(\u001b[49m\u001b[43mother\u001b[49m\u001b[43m,\u001b[49m\u001b[43m \u001b[49m\u001b[43moperator\u001b[49m\u001b[38;5;241;43m.\u001b[39;49m\u001b[43meq\u001b[49m\u001b[43m)\u001b[49m\n",
      "File \u001b[0;32m/opt/conda/lib/python3.9/site-packages/pandas/core/series.py:6119\u001b[0m, in \u001b[0;36mSeries._cmp_method\u001b[0;34m(self, other, op)\u001b[0m\n\u001b[1;32m   6116\u001b[0m lvalues \u001b[38;5;241m=\u001b[39m \u001b[38;5;28mself\u001b[39m\u001b[38;5;241m.\u001b[39m_values\n\u001b[1;32m   6117\u001b[0m rvalues \u001b[38;5;241m=\u001b[39m extract_array(other, extract_numpy\u001b[38;5;241m=\u001b[39m\u001b[38;5;28;01mTrue\u001b[39;00m, extract_range\u001b[38;5;241m=\u001b[39m\u001b[38;5;28;01mTrue\u001b[39;00m)\n\u001b[0;32m-> 6119\u001b[0m res_values \u001b[38;5;241m=\u001b[39m \u001b[43mops\u001b[49m\u001b[38;5;241;43m.\u001b[39;49m\u001b[43mcomparison_op\u001b[49m\u001b[43m(\u001b[49m\u001b[43mlvalues\u001b[49m\u001b[43m,\u001b[49m\u001b[43m \u001b[49m\u001b[43mrvalues\u001b[49m\u001b[43m,\u001b[49m\u001b[43m \u001b[49m\u001b[43mop\u001b[49m\u001b[43m)\u001b[49m\n\u001b[1;32m   6121\u001b[0m \u001b[38;5;28;01mreturn\u001b[39;00m \u001b[38;5;28mself\u001b[39m\u001b[38;5;241m.\u001b[39m_construct_result(res_values, name\u001b[38;5;241m=\u001b[39mres_name)\n",
      "File \u001b[0;32m/opt/conda/lib/python3.9/site-packages/pandas/core/ops/array_ops.py:321\u001b[0m, in \u001b[0;36mcomparison_op\u001b[0;34m(left, right, op)\u001b[0m\n\u001b[1;32m    316\u001b[0m \u001b[38;5;28;01mif\u001b[39;00m \u001b[38;5;28misinstance\u001b[39m(rvalues, (np\u001b[38;5;241m.\u001b[39mndarray, ABCExtensionArray)):\n\u001b[1;32m    317\u001b[0m     \u001b[38;5;66;03m# TODO: make this treatment consistent across ops and classes.\u001b[39;00m\n\u001b[1;32m    318\u001b[0m     \u001b[38;5;66;03m#  We are not catching all listlikes here (e.g. frozenset, tuple)\u001b[39;00m\n\u001b[1;32m    319\u001b[0m     \u001b[38;5;66;03m#  The ambiguous case is object-dtype.  See GH#27803\u001b[39;00m\n\u001b[1;32m    320\u001b[0m     \u001b[38;5;28;01mif\u001b[39;00m \u001b[38;5;28mlen\u001b[39m(lvalues) \u001b[38;5;241m!=\u001b[39m \u001b[38;5;28mlen\u001b[39m(rvalues):\n\u001b[0;32m--> 321\u001b[0m         \u001b[38;5;28;01mraise\u001b[39;00m \u001b[38;5;167;01mValueError\u001b[39;00m(\n\u001b[1;32m    322\u001b[0m             \u001b[38;5;124m\"\u001b[39m\u001b[38;5;124mLengths must match to compare\u001b[39m\u001b[38;5;124m\"\u001b[39m, lvalues\u001b[38;5;241m.\u001b[39mshape, rvalues\u001b[38;5;241m.\u001b[39mshape\n\u001b[1;32m    323\u001b[0m         )\n\u001b[1;32m    325\u001b[0m \u001b[38;5;28;01mif\u001b[39;00m should_extension_dispatch(lvalues, rvalues) \u001b[38;5;129;01mor\u001b[39;00m (\n\u001b[1;32m    326\u001b[0m     (\u001b[38;5;28misinstance\u001b[39m(rvalues, (Timedelta, BaseOffset, Timestamp)) \u001b[38;5;129;01mor\u001b[39;00m right \u001b[38;5;129;01mis\u001b[39;00m NaT)\n\u001b[1;32m    327\u001b[0m     \u001b[38;5;129;01mand\u001b[39;00m lvalues\u001b[38;5;241m.\u001b[39mdtype \u001b[38;5;241m!=\u001b[39m \u001b[38;5;28mobject\u001b[39m\n\u001b[1;32m    328\u001b[0m ):\n\u001b[1;32m    329\u001b[0m     \u001b[38;5;66;03m# Call the method on lvalues\u001b[39;00m\n\u001b[1;32m    330\u001b[0m     res_values \u001b[38;5;241m=\u001b[39m op(lvalues, rvalues)\n",
      "\u001b[0;31mValueError\u001b[0m: ('Lengths must match to compare', (1327,), (1,))"
     ]
    }
   ],
   "source": [
    "# Sample ccf_id and extract skeletons with soma with that ccf region\n",
    "ccf_id = sample(soma_ccf_ids, 1)[0]\n",
    "skels_subset = [skel for skel in skel_list if skel.vertex_properties['ccf'][skel.root] == ccf_id]\n",
    "print(f\"# Skeletons with Soma in {get_ccf_name(ccf_id)}:\", len(skels_subset))\n",
    "\n",
    "# Get ccf regions of endpoints\n",
    "axon_endpoints_ccf = list()\n",
    "dendrite_endpoints_ccf = list()\n",
    "for skel in skels_subset:\n",
    "    axon_endpoints_ccf.extend(get_ccf_ids(skel, compartment_type=3, vertex_type=\"end_points\").tolist())\n",
    "    dendrite_endpoints_ccf.extend(get_ccf_ids(skel, compartment_type=2, vertex_type=\"end_points\").tolist())\n",
    "\n",
    "# Report distribution\n",
    "print(\"\\nDistribution of Axon Endpoints in CCF Space...\")\n",
    "report_distribution(axon_endpoints_ccf)\n",
    "\n",
    "print(\"\\nDistribution of Dendrite Endpoints in CCF Space...\")\n",
    "report_distribution(dendrite_endpoints_ccf)\n"
   ]
  },
  {
   "cell_type": "code",
   "execution_count": null,
   "id": "bec0883c-5f6f-46fa-80b3-23abf547d181",
   "metadata": {},
   "outputs": [],
   "source": []
  }
 ],
 "metadata": {
  "kernelspec": {
   "display_name": "Python 3 (ipykernel)",
   "language": "python",
   "name": "python3"
  },
  "language_info": {
   "codemirror_mode": {
    "name": "ipython",
    "version": 3
   },
   "file_extension": ".py",
   "mimetype": "text/x-python",
   "name": "python",
   "nbconvert_exporter": "python",
   "pygments_lexer": "ipython3",
   "version": "3.9.12"
  }
 },
 "nbformat": 4,
 "nbformat_minor": 5
}
