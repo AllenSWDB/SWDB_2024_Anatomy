{
 "cells": [
  {
   "cell_type": "markdown",
   "id": "d7bba40e-f77b-457d-8b73-30d852e076cd",
   "metadata": {
    "tags": []
   },
   "source": [
    "<img src=\"resources/cropped-SummerWorkshop_Header.png\">  \n",
    "\n",
    "<h1 align=\"center\">Workshop SWDB 2024 </h1> \n",
    "<h3 align=\"center\">Day 3 2024 - Neuron Morphology</h3> \n",
    "<h3 align=\"center\">Notebook 4: Analyzing Brain Connectivity via Projections of Light Microscopy Neurons</h3> "
   ]
  },
  {
   "cell_type": "markdown",
   "id": "e7fd93f5-8ff8-4723-a45d-b6bff6937cb0",
   "metadata": {},
   "source": [
    "<b>This is the color key that i'm using for leaving comments...\n",
    "\n",
    "<b><font color='green'> Green</font> --> Add image\n",
    "    \n",
    "<b><font color='orange'> Orange</font> --> Write up the thing being described\n",
    "    \n",
    "<b><font color='red'> Red</font> --> Question\n",
    "    "
   ]
  },
  {
   "cell_type": "markdown",
   "id": "248e8360-7309-4721-a9ba-75e413c3bdcd",
   "metadata": {},
   "source": [
    "Note: This beginning part is very wordy and most of the text is probably unnecssary. Let's trim it down in the next version, it's here now so that you have an idea of what type of analysis this notebook is geared towards. "
   ]
  },
  {
   "cell_type": "markdown",
   "id": "9971c6ba-5a83-402c-a8e6-aa4d6fd552d5",
   "metadata": {
    "tags": []
   },
   "source": [
    "<div style=\"border-left: 3px solid #000; padding: 1px; padding-left: 10px; background: #F0FAFF; \">\n",
    "    \n",
    "# Section 1: Introduction\n",
    "\n",
    "\n",
    "<font size=\"3.5\"> The main objective of this notebook is to analyze the \"projections\" of Light Microscopy (LM) neurons, meaning the regions of the brain that the axons and dendrites traverse and communicate their inputs/outputs via the endpoints. This type of long-range projection analysis is only applicable for the LM neurons since the EM neurons were reconstructed within a small piece of tissue fully contained within the visual cortex. In contrast, we will see that many LM neurons have axons that project across many brain regions, see Figure 1.  </font>\n"
   ]
  },
  {
   "cell_type": "markdown",
   "id": "063a3eff-4496-4aae-ab46-77e0980b3587",
   "metadata": {},
   "source": [
    "<div style=\"text-align: center;\">\n",
    "    <img src='imgs/lm-vs-em.png' style=\"max-width: 65%; height: auto;\">\n",
    "</div>"
   ]
  },
  {
   "cell_type": "markdown",
   "id": "ba797a1b-2442-46e7-a1d6-fcf6010a8d1d",
   "metadata": {
    "tags": []
   },
   "source": [
    "<font size=\"3.5\"><b> Figure 1:</b> LM neuron shown in blue and EM neuron shown in purple."
   ]
  },
  {
   "cell_type": "markdown",
   "id": "4dd97c4a-8f23-4ffc-9060-1e0a364fdc1e",
   "metadata": {
    "tags": []
   },
   "source": [
    "<div style=\"border-left: 3px solid #000; padding: 1px; padding-left: 10px; background: #F0FAFF; \">\n",
    "\n",
    "<font size=\"3.5\"> As an introduction to analyzing the projections of LM neurons, we will explore two open-ended questions related to brain connectivity that scientists consider when analyzing LM neurons. These questions aim to uncover both the fundamental connections and complex network dynamics that define the functional roles of these neurons within the broader neural circuitry. \n",
    "\n",
    "<font size=\"3.5\"> &nbsp;&nbsp;&nbsp;&nbsp;&nbsp;&nbsp; <strong>Question 1:</strong> What do the inputs to a particular brain region look like? </font>\n",
    "\n",
    "<font size=\"3.5\"> &nbsp;&nbsp;&nbsp;&nbsp;&nbsp;&nbsp; <strong>Question 2:</strong>  Where else do those inputs send their collaterals?  </font>\n",
    "\n",
    "<font size=\"3.5\"> Both of these questions involve analyzing a large number of neurons to provide a general overview of how neurons <em>connect</em> different brain regions.  Before addressing these questions, we must first understand the meaning of <em>connectivity</em> at the level of a single neuron, then generalize this notion to the level of brain regions. In this context a neuron connects regions <em>A</em> and <em>B</em> if the neuron has dendritic endpoints in region <em>A</em> and axonal endpoints in region <em>B</em>. The dendritic endpoints receive the <em>input</em> of a neuron, whereas the axonal endpoints send the neuron's output.\n",
    "\n",
    "<font size=\"3.5\"> Brain regions being <em>connected</em> refers to the existence of established neural pathways—comprising many neurons—through which signals can be transmitted between the regions. This connectivity enables regions to share information and coordinate activities.\n"
   ]
  },
  {
   "cell_type": "markdown",
   "id": "e336a8c0-08a8-46b3-b849-3d9714f7eca2",
   "metadata": {
    "tags": []
   },
   "source": [
    "<div style=\"border-left: 3px solid #000; padding: 1px; padding-left: 10px; background: #F0FAFF; \">\n",
    "\n",
    "<font size=\"5\"> Section 1.1: Strategy for Answering Scientific Questions </font>\n",
    "\n",
    "<font size=\"4\"> <b>Question 1:\n",
    "    \n",
    "<font size=\"3.5\"> First, we need to determine the <em>inputs</em> to a given brain region. Inputs to a brain region are the signals or information arriving from another brain region or sensory organ. These inputs provide the data that the brain uses to process and respond to various stimuli or tasks.  In order to determine the inputs to a brain region, we need to be able to extract the following information from neurons in the exaspim dataset...  </font>\n",
    "    \n",
    "<font size=\"3.5\"><strong> &nbsp;&nbsp;&nbsp;&nbsp;&nbsp;&nbsp; Task 1:</strong> Which brain regions do the dendritic or axonal endpoints of a given neuron belong to? </font>\n",
    "\n",
    "<font size=\"3.5\"><strong>  &nbsp;&nbsp;&nbsp;&nbsp;&nbsp;&nbsp; Task 2:</strong> Find all neurons that have dendritic or axonal endpoints in a given brain region. </font>\n",
    "    \n",
    "<font size=\"3.5\"> Note that Sections 2 and 3 describe how to perform these tasks.\n",
    "<br><br>\n",
    "    \n",
    "<font size=\"4\"> <b>Question 2:\n",
    "    \n",
    "<font size=\"3.5\"> Once this information arrives to a given brain region, it might not just stay there. The question is also interested in understanding where this information might be sent next. The term \"collaterals\" refers to the pathways or branches that the information takes after reaching the initial region. These are like additional routes that the message might travel to other hubs or regions in the brain.\n",
    "<br><br>\n",
    "\n",
    "<font size=\"3.5\" color='orange'><b> Say a little more about how to answer this question </font><b>\n",
    "\n",
    "<br><br>\n",
    "\n",
    "<font size=\"3.5\"> In summary, the objective of these questions is to identify what kind of information enters a particular brain region, then explore where these signals are distributed or sent next in the brain.\n"
   ]
  },
  {
   "cell_type": "markdown",
   "id": "18f1e655-33e9-4e8a-8aa4-b925b5d8c8c6",
   "metadata": {},
   "source": [
    "<div style=\"border-left: 3px solid #000; padding: 1px; padding-left: 10px; background: #F0FAFF; \">\n",
    "\n",
    "<font size=\"5\"> Section 1.2: Analyzing Connectivity with the Common Coordinate Framework (CCF) </font> \n",
    "\n",
    "<font size=\"3.5\"> In order to analyze the projections of these neurons, each brain needs to be registered to a standardized template brain space referred to as the Common Coordinate Framework (CCF), see Figure Y. This registration step is important because it enables scientists to analyze and compare neuron reconstructions from multiple brains in an integrated framework. </font>\n",
    "\n",
    "<font size=\"3.5\" color='red'><b> What should we say about the ccf? Hi Matthew, could you write up a little description here. </font><b>\n"
   ]
  },
  {
   "cell_type": "markdown",
   "id": "036d62d4-364a-42be-9aa8-6cb256fc480d",
   "metadata": {},
   "source": [
    "<font size=\"3\" color='green'><b> Insert image of CCF </font><b>"
   ]
  },
  {
   "cell_type": "code",
   "execution_count": 1,
   "id": "474080e1-5757-4c04-b55a-f9b0510d9f67",
   "metadata": {},
   "outputs": [
    {
     "data": {
      "text/html": [
       "<div>\n",
       "<style scoped>\n",
       "    .dataframe tbody tr th:only-of-type {\n",
       "        vertical-align: middle;\n",
       "    }\n",
       "\n",
       "    .dataframe tbody tr th {\n",
       "        vertical-align: top;\n",
       "    }\n",
       "\n",
       "    .dataframe thead th {\n",
       "        text-align: right;\n",
       "    }\n",
       "</style>\n",
       "<table border=\"1\" class=\"dataframe\">\n",
       "  <thead>\n",
       "    <tr style=\"text-align: right;\">\n",
       "      <th></th>\n",
       "      <th>id</th>\n",
       "      <th>name</th>\n",
       "      <th>acronym</th>\n",
       "      <th>hemisphere_id</th>\n",
       "      <th>parent_structure_id</th>\n",
       "      <th>graph_order</th>\n",
       "      <th>structure_id_path</th>\n",
       "      <th>color_hex_triplet</th>\n",
       "    </tr>\n",
       "  </thead>\n",
       "  <tbody>\n",
       "    <tr>\n",
       "      <th>0</th>\n",
       "      <td>1000</td>\n",
       "      <td>extrapyramidal fiber systems</td>\n",
       "      <td>eps</td>\n",
       "      <td>3</td>\n",
       "      <td>1009.0</td>\n",
       "      <td>1218</td>\n",
       "      <td>/997/1009/1000/</td>\n",
       "      <td>CCCCCC</td>\n",
       "    </tr>\n",
       "    <tr>\n",
       "      <th>1</th>\n",
       "      <td>223</td>\n",
       "      <td>Arcuate hypothalamic nucleus</td>\n",
       "      <td>ARH</td>\n",
       "      <td>3</td>\n",
       "      <td>157.0</td>\n",
       "      <td>733</td>\n",
       "      <td>/997/8/343/1129/1097/157/223/</td>\n",
       "      <td>FF5D50</td>\n",
       "    </tr>\n",
       "    <tr>\n",
       "      <th>2</th>\n",
       "      <td>12998</td>\n",
       "      <td>Somatosensory areas, layer 6b</td>\n",
       "      <td>SS6b</td>\n",
       "      <td>3</td>\n",
       "      <td>453.0</td>\n",
       "      <td>36</td>\n",
       "      <td>/997/8/567/688/695/315/453/12998/</td>\n",
       "      <td>188064</td>\n",
       "    </tr>\n",
       "    <tr>\n",
       "      <th>3</th>\n",
       "      <td>163</td>\n",
       "      <td>Agranular insular area, posterior part, layer 2/3</td>\n",
       "      <td>AIp2/3</td>\n",
       "      <td>3</td>\n",
       "      <td>111.0</td>\n",
       "      <td>287</td>\n",
       "      <td>/997/8/567/688/695/315/95/111/163/</td>\n",
       "      <td>219866</td>\n",
       "    </tr>\n",
       "    <tr>\n",
       "      <th>4</th>\n",
       "      <td>552</td>\n",
       "      <td>Pontine reticular nucleus, ventral part</td>\n",
       "      <td>PRNv</td>\n",
       "      <td>3</td>\n",
       "      <td>987.0</td>\n",
       "      <td>914</td>\n",
       "      <td>/997/8/343/1065/771/987/552/</td>\n",
       "      <td>FFBA86</td>\n",
       "    </tr>\n",
       "  </tbody>\n",
       "</table>\n",
       "</div>"
      ],
      "text/plain": [
       "      id                                               name acronym  \\\n",
       "0   1000                       extrapyramidal fiber systems     eps   \n",
       "1    223                       Arcuate hypothalamic nucleus     ARH   \n",
       "2  12998                      Somatosensory areas, layer 6b    SS6b   \n",
       "3    163  Agranular insular area, posterior part, layer 2/3  AIp2/3   \n",
       "4    552            Pontine reticular nucleus, ventral part    PRNv   \n",
       "\n",
       "   hemisphere_id  parent_structure_id  graph_order  \\\n",
       "0              3               1009.0         1218   \n",
       "1              3                157.0          733   \n",
       "2              3                453.0           36   \n",
       "3              3                111.0          287   \n",
       "4              3                987.0          914   \n",
       "\n",
       "                    structure_id_path color_hex_triplet  \n",
       "0                     /997/1009/1000/            CCCCCC  \n",
       "1       /997/8/343/1129/1097/157/223/            FF5D50  \n",
       "2   /997/8/567/688/695/315/453/12998/            188064  \n",
       "3  /997/8/567/688/695/315/95/111/163/            219866  \n",
       "4        /997/8/343/1065/771/987/552/            FFBA86  "
      ]
     },
     "execution_count": 1,
     "metadata": {},
     "output_type": "execute_result"
    }
   ],
   "source": [
    "import pandas as pd\n",
    "\n",
    "\n",
    "def get_ccf_name(ccf_id):\n",
    "    idx = ccf_structures[\"id\"] == ccf_id\n",
    "    try:\n",
    "        return ccf_structures.loc[idx, \"name\"].iloc[0]\n",
    "    except:\n",
    "        return ccf_id\n",
    "\n",
    "\n",
    "# Load the CCF structure data as a DataFrame\n",
    "ccf_structures = pd.read_csv('/data/adult_mouse_ccf_structures.csv')\n",
    "ccf_structures.head()"
   ]
  },
  {
   "cell_type": "markdown",
   "id": "e6645db3-9012-4b9a-a991-ef8d3173248d",
   "metadata": {},
   "source": [
    "<div style=\"border-left: 3px solid #000; padding: 1px; padding-left: 10px; background: #F0FAFF; \">\n",
    "\n",
    "<font size=\"3.5\"> The ccf ids are stored as integers in a meshparty skeleton, so we'll use the function \"get_ccf_name\" to get the name of the region corresponding to a given id. Here is a simple example of using this function: </font>"
   ]
  },
  {
   "cell_type": "code",
   "execution_count": 2,
   "id": "a99c190e-75c0-4d58-aa01-9b95568c2fc8",
   "metadata": {
    "tags": []
   },
   "outputs": [
    {
     "name": "stdout",
     "output_type": "stream",
     "text": [
      "The CCF ID '12998' represents the 'Somatosensory areas, layer 6b'\n",
      "\n"
     ]
    }
   ],
   "source": [
    "ccf_id = 12998\n",
    "print(f\"The CCF ID '{ccf_id}' represents the '{get_ccf_name(ccf_id)}'\\n\")\n"
   ]
  },
  {
   "cell_type": "markdown",
   "id": "0cbde34e-84e9-4abe-943f-1df912e15c03",
   "metadata": {},
   "source": [
    "<div style=\"border-left: 3px solid #000; padding: 1px; padding-left: 10px; background: #F0FAFF; \">\n",
    "    \n",
    "# Section 2: Analyzing Connectivity of a Single Neuron\n",
    "    \n",
    "<font size=\"3.5\"> Let's load the skeleton dataset of LM neurons, then sample a single skeleton and analyze what regions of the brain this neuron connects. </font>"
   ]
  },
  {
   "cell_type": "markdown",
   "id": "6a6fa2de-ec71-49d9-8a5f-7eea7f391c97",
   "metadata": {
    "tags": []
   },
   "source": [
    "\n"
   ]
  },
  {
   "cell_type": "code",
   "execution_count": 8,
   "id": "4cdfe97f-386d-46b8-bd6f-fd86c740ffd9",
   "metadata": {
    "tags": []
   },
   "outputs": [
    {
     "name": "stdout",
     "output_type": "stream",
     "text": [
      "Overview of LM Neuron Dataset...\n",
      "# Brain Samples: 5\n",
      "# Skeletons: 100\n"
     ]
    }
   ],
   "source": [
    "# Imports\n",
    "from random import sample\n",
    "\n",
    "from utils.graph_utils import get_ccf_ids\n",
    "from utils.dataset_utils import number_of_samples, load_lm_datasets\n",
    "\n",
    "import numpy as np\n",
    "\n",
    "\n",
    "# Initializations\n",
    "skel_list = load_lm_datasets()\n",
    "print(\"Overview of LM Neuron Dataset...\")\n",
    "print(\"# Brain Samples:\", number_of_samples())\n",
    "print(\"# Skeletons:\", len(skel_list))\n"
   ]
  },
  {
   "cell_type": "markdown",
   "id": "e0c69713-9a48-4bd8-b13b-f1bc9f298c5e",
   "metadata": {},
   "source": [
    "<div style=\"border-left: 3px solid #000; padding: 1px; padding-left: 10px; background: #F0FAFF; \">\n",
    "\n",
    "<font size=\"3.5\"> Each skeleton has a node-level attribute called \"id\" that specifies where a node is located in ccf space. We will use subroutine called \"get_ccf_ids\" which is stored in \"graph_utils.py\". The purpose of this routine is to easily extract the ccf ids from vertices within a certain compartment (e.g. axons or dendrites) and/or vertices which are end points or branch points, see documentation for more details. Next, let's look at some simple examples of using the routine \"get_ccf_ids\". </font>"
   ]
  },
  {
   "cell_type": "code",
   "execution_count": 4,
   "id": "367746c0-6cc2-41c8-aec5-4dffc29e094f",
   "metadata": {
    "tags": []
   },
   "outputs": [
    {
     "name": "stdout",
     "output_type": "stream",
     "text": [
      "Soma is in the Spinal nucleus of the trigeminal, interpolar part\n",
      "\n",
      "Axons Traverse these CCF Regions...\n",
      "   Spinal nucleus of the trigeminal, interpolar part\n",
      "   Spinal nucleus of the trigeminal, oral part\n",
      "   Parvicellular reticular nucleus\n",
      "\n",
      "Dendrites Traverse these CCF Regions...\n",
      "   Superior colliculus, motor related, intermediate white layer\n",
      "   Midbrain reticular nucleus\n",
      "   Pontine reticular nucleus\n",
      "   Nucleus raphe magnus\n",
      "   Anterior pretectal nucleus\n",
      "   Nucleus raphe pallidus\n",
      "   Magnocellular reticular nucleus\n",
      "   Midbrain\n",
      "   Medulla\n",
      "   Substantia nigra, compact part\n",
      "   Spinal nucleus of the trigeminal, interpolar part\n",
      "   Thalamus\n",
      "   Tegmental reticular nucleus\n",
      "   medial lemniscus\n",
      "   Zona incerta\n",
      "   Fields of Forel\n",
      "   Parvicellular reticular nucleus\n",
      "   rubrospinal tract\n",
      "   Nucleus ambiguus, dorsal division\n",
      "   Paragigantocellular reticular nucleus, lateral part\n",
      "   Gigantocellular reticular nucleus\n",
      "   Medial geniculate complex, medial part\n",
      "   Pontine reticular nucleus, caudal part\n",
      "   Hypothalamus\n",
      "   563807400.0\n"
     ]
    }
   ],
   "source": [
    "# Sample single skeleton\n",
    "skel = sample(skel_list, 1)[0]\n",
    "\n",
    "# Root - CCF Compartment\n",
    "soma_ccf = get_ccf_ids(skel, compartment_type=1)\n",
    "print(\"Soma is in the\", get_ccf_name(soma_ccf[0]))\n",
    "\n",
    "# Axon - CCF Regions\n",
    "print(\"\\nAxons Traverse these CCF Regions...\")\n",
    "axons_ccf = get_ccf_ids(skel, compartment_type=3)\n",
    "for ccf_id in np.unique(axons_ccf):\n",
    "    print(\"  \", get_ccf_name(ccf_id))\n",
    "\n",
    "# Dendrite - CCF Compartments\n",
    "print(\"\\nDendrites Traverse these CCF Regions...\")\n",
    "dendrites_ccf = get_ccf_ids(skel, compartment_type=2)\n",
    "for ccf_id in np.unique(dendrites_ccf):\n",
    "    print(\"  \", get_ccf_name(ccf_id))\n",
    "    "
   ]
  },
  {
   "cell_type": "markdown",
   "id": "97aec240-a475-477c-bd91-bc8e31de112a",
   "metadata": {
    "tags": []
   },
   "source": [
    "<div style=\"border-left: 3px solid #000; padding: 1px; padding-left: 10px; background: #F0FAFF; \">\n",
    "\n",
    "\n",
    "<font size=\"3.5\"> Lets compute the ccf region distriubtion for the axonal and dendritic endpoints. These statistics are more meaningful because they describe where neurons receive/send inputs/outputs. We can use that same routine \"get_ccf_ids\" to more easily get these ccf ids. </font>\n"
   ]
  },
  {
   "cell_type": "code",
   "execution_count": 5,
   "id": "dd7a2231-6ed3-48b9-ab7d-fc5493e01090",
   "metadata": {
    "tags": []
   },
   "outputs": [
    {
     "name": "stdout",
     "output_type": "stream",
     "text": [
      "Soma is in the Spinal nucleus of the trigeminal, interpolar part\n",
      "\n",
      "Distribution of CCF Regions of Axon Endpoints...\n",
      "% Vertices   CCF Region\n",
      "62.07      Spinal nucleus of the trigeminal, interpolar part\n",
      "31.03      Parvicellular reticular nucleus\n",
      "6.9      Spinal nucleus of the trigeminal, oral part\n",
      "\n",
      "Distribution of CCF Regions of Dendrite Endpoints...\n",
      "% Vertices   CCF Region\n",
      "36.84      Zona incerta\n",
      "21.05      Anterior pretectal nucleus\n",
      "15.79      Midbrain\n",
      "10.53      Superior colliculus, motor related, intermediate white layer\n",
      "10.53      Tegmental reticular nucleus\n",
      "5.26      rubrospinal tract\n"
     ]
    }
   ],
   "source": [
    "# Subroutines\n",
    "def report_distribution(values, percent_threshold=0):\n",
    "    ids, cnts = np.unique(values, return_counts=True)\n",
    "    print(\"% Vertices   CCF Region\")\n",
    "    for idx in np.argsort(-cnts):\n",
    "        percent = 100 * cnts[idx] / len(values)\n",
    "        ccf_id = get_ccf_name(ids[idx])\n",
    "        if percent >= percent_threshold:\n",
    "            print(f\"{round(percent, 2)}      {ccf_id}\")\n",
    "\n",
    "\n",
    "# Root - CCF Compartment\n",
    "soma_ccf = get_ccf_ids(skel, compartment_type=1)\n",
    "print(\"Soma is in the\", get_ccf_name(soma_ccf[0]))\n",
    "\n",
    "# Axon Endpoints - CCF Regions\n",
    "print(\"\\nDistribution of CCF Regions of Axon Endpoints...\")\n",
    "axon_endpoints_ccf = get_ccf_ids(skel, compartment_type=3, vertex_type=\"end_points\")\n",
    "report_distribution(axon_endpoints_ccf)\n",
    "\n",
    "# Dendrite Endpoints - CCF Regions\n",
    "print(\"\\nDistribution of CCF Regions of Dendrite Endpoints...\")\n",
    "dendrite_endpoints_ccf = get_ccf_ids(skel, compartment_type=2, vertex_type=\"end_points\")\n",
    "report_distribution(dendrite_endpoints_ccf)\n"
   ]
  },
  {
   "cell_type": "markdown",
   "id": "f46b598a-8e01-4322-ad16-682e354cfde1",
   "metadata": {},
   "source": [
    "<div style=\"background: #DFF0D8; border-radius: 3px; padding: 10px;\">\n",
    "<font size=\"3.5\"><p><b>Task 1.1:</b>  Find the neurons that project across the fewest and largest number of brain regions.\n",
    "    \n",
    "</div>"
   ]
  },
  {
   "cell_type": "markdown",
   "id": "c6e23de7-95fa-4840-b874-3d3c56b1c916",
   "metadata": {},
   "source": [
    "<div style=\"border-left: 3px solid #000; padding: 1px; padding-left: 10px; background: #F0FAFF; \">\n",
    "    \n",
    "# Section 2: Analyzing Connectivity Between Brain Regions\n",
    "\n",
    "<font size='3.5'> Next, let's ....</font>"
   ]
  },
  {
   "cell_type": "code",
   "execution_count": 6,
   "id": "183dd12f-363e-4e91-a302-73450cc9cb36",
   "metadata": {
    "tags": []
   },
   "outputs": [
    {
     "name": "stdout",
     "output_type": "stream",
     "text": [
      "Distribution Somas Locations...\n",
      "% Vertices   CCF Region\n",
      "10.0      Gigantocellular reticular nucleus\n",
      "8.0      Mediodorsal nucleus of thalamus\n",
      "7.0      Ventral medial nucleus of the thalamus\n",
      "4.0      Medial vestibular nucleus\n",
      "3.0      Medulla\n",
      "3.0      Spinal nucleus of the trigeminal, interpolar part\n",
      "3.0      Paragigantocellular reticular nucleus, lateral part\n",
      "3.0      Magnocellular reticular nucleus\n",
      "3.0      Posterior complex of the thalamus\n",
      "2.0      Spinal nucleus of the trigeminal, oral part\n",
      "2.0      Central lateral nucleus of the thalamus\n",
      "2.0      Ventral anterior-lateral complex of the thalamus\n",
      "2.0      Anteroventral nucleus of thalamus\n",
      "2.0      Facial motor nucleus\n",
      "2.0      Lateral vestibular nucleus\n",
      "2.0      Anterodorsal nucleus\n",
      "2.0      Pontine central gray\n",
      "2.0      Suprageniculate nucleus\n",
      "2.0      Intermediate reticular nucleus\n",
      "2.0      560581568.0\n",
      "2.0      Zona incerta\n",
      "1.0      Reticular nucleus of the thalamus\n",
      "1.0      Spinal vestibular nucleus\n",
      "1.0      Barrington's nucleus\n",
      "1.0      Laterodorsal tegmental nucleus\n",
      "1.0      Submedial nucleus of the thalamus\n",
      "1.0      Central medial nucleus of the thalamus\n",
      "1.0      Lateral septal nucleus, rostral (rostroventral) part\n",
      "1.0      Nucleus raphe obscurus\n",
      "1.0      medial longitudinal fascicle\n",
      "1.0      Lateral hypothalamic area\n",
      "1.0      Nucleus prepositus\n",
      "1.0      Ventral posteromedial nucleus of the thalamus\n",
      "1.0      Ventral posterolateral nucleus of the thalamus, parvicellular part\n",
      "1.0      Cuneate nucleus\n",
      "1.0      Entorhinal area, medial part, dorsal zone, layer 3\n",
      "1.0      Cortical amygdalar area, posterior part, medial zone\n",
      "1.0      Parabrachial nucleus\n",
      "1.0      Parvicellular reticular nucleus\n",
      "1.0      Retrosplenial area, lateral agranular part, layer 6a\n",
      "1.0      Piriform area\n",
      "1.0      Paracentral nucleus\n",
      "1.0      Gracile nucleus\n",
      "1.0      Secondary motor area, layer 6a\n",
      "1.0      crossed tectospinal pathway\n",
      "1.0      Perireunensis nucleus\n",
      "1.0      Medial geniculate complex, medial part\n",
      "1.0      Dorsomedial nucleus of the hypothalamus\n",
      "1.0      Pontine reticular nucleus, caudal part\n",
      "1.0      Hypothalamus\n",
      "1.0      Medullary reticular nucleus, dorsal part\n",
      "1.0      Anteromedial nucleus, ventral part\n",
      "1.0      563807424.0\n"
     ]
    }
   ],
   "source": [
    "# Get ccf ids of somas\n",
    "soma_ccf_ids = [get_ccf_ids(skel, compartment_type=1)[0] for skel in skel_list]\n",
    "print(\"Distribution Somas Locations...\")\n",
    "report_distribution(soma_ccf_ids)\n"
   ]
  },
  {
   "cell_type": "markdown",
   "id": "28c6c16f-a558-40a9-ad8e-f0803934bda7",
   "metadata": {},
   "source": [
    "<div style=\"border-left: 3px solid #000; padding: 1px; padding-left: 10px; background: #F0FAFF; \">\n",
    "\n",
    "<font size='3.5'> Let's sample a brain region that contains somas from our dataset, then analyze the projections of these neurons.  </font>\n",
    "    \n",
    "\n",
    "<font size=\"3.5\" color='orange'><b> Say a little more </font><b>\n",
    "    "
   ]
  },
  {
   "cell_type": "code",
   "execution_count": 7,
   "id": "0f72f7b9-8ce7-4977-b196-89cda44af6e5",
   "metadata": {
    "tags": []
   },
   "outputs": [
    {
     "name": "stdout",
     "output_type": "stream",
     "text": [
      "# Skeletons with Soma in Medulla: 3\n",
      "\n",
      "Distribution of Axon Endpoints in CCF Space...\n",
      "% Vertices   CCF Region\n",
      "48.33      Medulla\n",
      "20.83      Lateral vestibular nucleus\n",
      "15.83      inferior cerebellar peduncle\n",
      "5.0      vestibular nerve\n",
      "3.33      Medullary reticular nucleus, ventral part\n",
      "3.33      Nucleus x\n",
      "0.83      Ventral cochlear nucleus\n",
      "0.83      Hypoglossal nucleus\n",
      "0.83      Gigantocellular reticular nucleus\n",
      "0.83      Lateral reticular nucleus, magnocellular part\n",
      "\n",
      "Distribution of Dendrite Endpoints in CCF Space...\n",
      "% Vertices   CCF Region\n",
      "38.78      nan\n",
      "14.38      Medullary reticular nucleus, ventral part\n",
      "11.76      Lobules IV-V\n",
      "11.11      Nodulus (X)\n",
      "5.23      Lobule III\n",
      "4.36      Uvula (IX)\n",
      "3.92      Gigantocellular reticular nucleus\n",
      "3.7      arbor vitae\n",
      "2.18      Medulla\n",
      "1.31      Fastigial nucleus\n",
      "1.09      Medullary reticular nucleus, dorsal part\n",
      "0.65      Lateral reticular nucleus, magnocellular part\n",
      "0.65      Medial vestibular nucleus\n",
      "0.22      Intermediate reticular nucleus\n",
      "0.22      Copula pyramidis\n",
      "0.22      Cerebellum\n",
      "0.22      inferior cerebellar peduncle\n"
     ]
    }
   ],
   "source": [
    "# Sample ccf_id and extract skeletons with soma with that ccf region\n",
    "ccf_id = sample(soma_ccf_ids, 1)[0]\n",
    "skels_subset = [skel for skel in skel_list if skel.vertex_properties['ccf'][skel.root] == ccf_id]\n",
    "print(f\"# Skeletons with Soma in {get_ccf_name(ccf_id)}:\", len(skels_subset))\n",
    "\n",
    "# Get ccf regions of endpoints\n",
    "axon_endpoints_ccf = list()\n",
    "dendrite_endpoints_ccf = list()\n",
    "for skel in skels_subset:\n",
    "    axon_endpoints_ccf.extend(get_ccf_ids(skel, compartment_type=3, vertex_type=\"end_points\").tolist())\n",
    "    dendrite_endpoints_ccf.extend(get_ccf_ids(skel, compartment_type=2, vertex_type=\"end_points\").tolist())\n",
    "\n",
    "# Report distribution\n",
    "print(\"\\nDistribution of Axon Endpoints in CCF Space...\")\n",
    "report_distribution(axon_endpoints_ccf)\n",
    "\n",
    "print(\"\\nDistribution of Dendrite Endpoints in CCF Space...\")\n",
    "report_distribution(dendrite_endpoints_ccf)\n"
   ]
  },
  {
   "cell_type": "code",
   "execution_count": null,
   "id": "bec0883c-5f6f-46fa-80b3-23abf547d181",
   "metadata": {},
   "outputs": [],
   "source": []
  }
 ],
 "metadata": {
  "kernelspec": {
   "display_name": "Python 3 (ipykernel)",
   "language": "python",
   "name": "python3"
  },
  "language_info": {
   "codemirror_mode": {
    "name": "ipython",
    "version": 3
   },
   "file_extension": ".py",
   "mimetype": "text/x-python",
   "name": "python",
   "nbconvert_exporter": "python",
   "pygments_lexer": "ipython3",
   "version": "3.9.12"
  }
 },
 "nbformat": 4,
 "nbformat_minor": 5
}
