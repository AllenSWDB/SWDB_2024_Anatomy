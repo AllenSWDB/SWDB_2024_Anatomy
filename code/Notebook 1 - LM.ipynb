{
 "cells": [
  {
   "cell_type": "markdown",
   "id": "d7bba40e-f77b-457d-8b73-30d852e076cd",
   "metadata": {
    "tags": []
   },
   "source": [
    "<img src=\"resources/cropped-SummerWorkshop_Header.png\">  \n",
    "\n",
    "<h1 align=\"center\">Workshop SWDB 2024 </h1> \n",
    "<h3 align=\"center\">Day 3 2024 - Neuron Morphology</h3> \n",
    "<h3 align=\"center\">Notebook 1: Analyzing Brain Connectivity via Projections of Light Microscopy Neurons</h3> "
   ]
  },
  {
   "cell_type": "markdown",
   "id": "2a7cc419-c422-4563-9679-abf2f12de24b",
   "metadata": {},
   "source": [
    "<div style=\"border-left: 3px solid #000; padding: 1px; padding-left: 10px; background: #F0FAFF; \">\n",
    "This cell sets up a variable called `data_root` that you should use in any code below to access the dataset in question\n",
    "</div>"
   ]
  },
  {
   "cell_type": "code",
   "execution_count": null,
   "id": "3e62713d-7d7c-4420-a8c8-b14b62222ac9",
   "metadata": {
    "tags": []
   },
   "outputs": [],
   "source": [
    "import platform\n",
    "platstring = platform.platform()\n",
    "\n",
    "if ('Darwin' in platstring) or ('macOS' in platstring):\n",
    "    # macOS \n",
    "    data_root = \"/Volumes/Brain2024/anatomy/\"\n",
    "elif 'Windows'  in platstring:\n",
    "    # Windows (replace with the drive letter of USB drive)\n",
    "    data_root = \"E:/anatomy/\"\n",
    "elif ('amzn2' in platstring):\n",
    "    # then on AWS\n",
    "    data_root = \"/data/\"\n",
    "else:\n",
    "    # then your own linux platform\n",
    "    # EDIT location where you mounted hard drive\n",
    "    data_root = \"/media/$USERNAME/Brain2024/anatomy/\""
   ]
  },
  {
   "cell_type": "markdown",
   "id": "9971c6ba-5a83-402c-a8e6-aa4d6fd552d5",
   "metadata": {
    "tags": []
   },
   "source": [
    "<div style=\"border-left: 3px solid #000; padding: 1px; padding-left: 10px; background: #F0FAFF; \">\n",
    "    \n",
    "# Section 1: Introduction\n",
    "\n",
    "<font size=\"4\"> The main objective of this notebook is to analyze the whole-brain connectivity of neurons imaged via Light Microscopy (LM). The neurons in this dataset are acquired by imaging the volume of an entire brain wherein a small number of cells are sparsely labelled, and then tracing the axons and dendrites of those cells to reconstruct their full morphologies. Neurons from several brains are integrated by aligning each sample to the Common Coordinate Framework (CCF: see databook). \n",
    "    \n",
    "<font size=\"4\"> Whereas Electron Microscopy (EM) densely reconstructs neuronal morphologies contained within a small volume of tissue, this LM dataset contains the brain-wde morphologies of sparsely sampled neurons (see Figure 1). LM neurons allow us to investigate how different brain regions communicate by analyzing the neurons or \"output channels\" by which information flows across the brain. However, unlike EM, this dataset does not show the specific connections between individual neurons. As with many aspects of neuroscience, there is a tradeoff between scale and resolution, and which dataset is best suited for your analysis often depends upon the scientific questions you're seeking to address.\n"
   ]
  },
  {
   "cell_type": "markdown",
   "id": "063a3eff-4496-4aae-ab46-77e0980b3587",
   "metadata": {},
   "source": [
    "<div style=\"text-align: center;\">\n",
    "    <img src='imgs/lm-vs-em.png' style=\"max-width: 65%; height: auto;\">\n",
    "</div>"
   ]
  },
  {
   "cell_type": "markdown",
   "id": "ba797a1b-2442-46e7-a1d6-fcf6010a8d1d",
   "metadata": {
    "tags": []
   },
   "source": [
    "<font size=\"4\"><b> Figure 1:</b> LM neuron shown in blue and EM neuron shown in purple."
   ]
  },
  {
   "cell_type": "markdown",
   "id": "4dd97c4a-8f23-4ffc-9060-1e0a364fdc1e",
   "metadata": {
    "tags": []
   },
   "source": [
    "<div style=\"border-left: 3px solid #000; padding: 1px; padding-left: 10px; background: #F0FAFF; \">\n",
    "\n",
    "<font size=\"4\"> As an introduction to analyzing projections of LM neurons, we will explore three open-ended questions related to brain connectivity:\n",
    "\n",
    "<font size=\"4\"> &nbsp;&nbsp;&nbsp;&nbsp;&nbsp;&nbsp; <strong>Question 1:</strong> What do the inputs to a particular brain region look like? </font>\n",
    "\n",
    "<font size=\"4\"> &nbsp;&nbsp;&nbsp;&nbsp;&nbsp;&nbsp; <strong>Question 2:</strong>  Where else do those inputs send their collaterals?  </font>\n",
    "    \n",
    "<font size=\"4\"> &nbsp;&nbsp;&nbsp;&nbsp;&nbsp;&nbsp; <strong>Question 3:</strong> Are neuronal morphologies stereotyped, or are there distinct projection classes?\n",
    "\n",
    "<font size=\"4\"> These questions involve analyzing sets of neuronal morphologies to provide a general overview of how neurons connect different brain regions. Neurons integrate inputs at their somas and dendrites, then transmit their outputs via axons. In this tutorial, we'll define connectivity by the presence and number of axon terminals (also referred to as axonal endpoints). We'll refer to hypothetical brain region A being connected to region B if a neuron exists with somatic or dendritic compartments in A, and axon terminals in B. We'll address Question 1 by querying neurons with axon terminals in the mediodorsal nucleus of the thalamus (MD). Note that while each neuron in the LM dataset has been fully reconstructed, by no means does this dataset contain a comprehensive accounting of all neurons in all brain areas. Keep this in mind when formulating your future analyses - failing to observe a connection may reflect a lack of sampling rather than a true lack of connectivity. \n",
    "    \n",
    "<font size=\"4\"> Some neurons are quite focal in their projections (this is true of many neurons from primary thalamic nuclei), while others diffusely target several brain regions (this is often true of neurons in higher order thalamic nuclei). We'll follow up on Q1 by more closely examining several of the inputs to MD, and seeing where else their axon terminals ramify. This tells us about how information flows through the brain and which areas are receiving shared inputs.\n",
    "    \n",
    "<font size=\"4\"> In Q1 and Q2 we'll look at the inputs to MD, but in Question 3 we'll turn to looking at the outputs of that nucleus. We'll use clustering approaches to ask: how many distinct output channels are there from MD? Some nuclei are monolithic and have very stereotyped patterns of connectivity, whereas other brain regions display discrete or continous variability in their projection targets. In addressing Questions 1 - 3, we'll learn something about the input and output structure of a multi-regional circuit, and in so doing learn skills that can be translated to future analyses in your group projects."
   ]
  },
  {
   "cell_type": "markdown",
   "id": "6b4b5fe0-c98f-42f6-9011-d41bdd4e31e4",
   "metadata": {},
   "source": [
    "<div style=\"border-left: 3px solid #000; padding: 1px; padding-left: 10px; background: #F0FAFF; \">\n",
    "    \n",
    "<font size=\"4\"> **Brain Region Information:** Neuron morphologies are described by sequences of points or vertices. Every LM neuron within this dataset has been registered to the CCF, so each point will contain metadata describing the region of the brain that point lies within. This metadata is saved as a numerical identifier of that brain region, called a CCF id. We use a python package called \"brainglobe_atlasapi\" to query information from the CCF ontology (an ontology is a map of the hierarchical relationship between different brain regions). This allows us to go between a CCF region's numerical identifier and other properties such as its full name, acronym, or children / parent regions. We can extract information about a brain region in the CCF atlas by using a routine called \"get_ccf_property\". This routine takes a CCF id and some property (e.g. name or acronym) as the inputs, then returns the corresponding information about that CCF id. Next, we'll provide some examples of using this routine.\n"
   ]
  },
  {
   "cell_type": "markdown",
   "id": "073ca6b2-67bd-44d4-80cf-e90294831358",
   "metadata": {
    "tags": []
   },
   "source": [
    "<div style=\"text-align: center;\">\n",
    "    <img src='imgs/ccf.png' style=\"max-width: 65%; height: auto;\">\n",
    "</div>"
   ]
  },
  {
   "cell_type": "markdown",
   "id": "1aff5e05-cf10-4a15-8976-e24fcf51f1ac",
   "metadata": {},
   "source": [
    "<font size=\"4\"><b> Figure 2:</b> Sagittal view of Allen Reference Atlas."
   ]
  },
  {
   "cell_type": "code",
   "execution_count": null,
   "id": "474080e1-5757-4c04-b55a-f9b0510d9f67",
   "metadata": {
    "tags": []
   },
   "outputs": [],
   "source": [
    "from brainglobe_atlasapi import BrainGlobeAtlas\n",
    "from pprint import pprint\n",
    "from utils.ccf_utils import get_ccf_property\n",
    "\n",
    "import brainglobe_atlasapi as atlasapi\n",
    "from brainglobe_atlasapi import config\n",
    "config.write_default_config()\n",
    "\n",
    "# Load ccf atlas\n",
    "atlasapi.config.write_config_value('brainglobe_dir', f'{data_root}.brainglobe')\n",
    "ccf_atlas = BrainGlobeAtlas('allen_mouse_10um')\n",
    "\n",
    "# Print important data structures in \"ccf_atlas\"\n",
    "print(\"This is a look up table which stores basic information about each structure...\\n\")\n",
    "print(ccf_atlas.lookup_df)\n",
    "\n",
    "\n",
    "# To see the hierarchical structure of the ccf, uncomment the lines below\n",
    "#print(\"\\n This is the hierarchy of regions stored in the ccf\")\n",
    "#print(ccf_atlas.structures)\n"
   ]
  },
  {
   "cell_type": "markdown",
   "id": "e6645db3-9012-4b9a-a991-ef8d3173248d",
   "metadata": {},
   "source": [
    "<div style=\"border-left: 3px solid #000; padding: 1px; padding-left: 10px; background: #F0FAFF; \">\n",
    "\n",
    "\n",
    "<font size=\"4\"> We can extract information about a given region in the ccf by querying from \"ccf_atlas.structures\". </font>\n",
    "    "
   ]
  },
  {
   "cell_type": "code",
   "execution_count": null,
   "id": "a99c190e-75c0-4d58-aa01-9b95568c2fc8",
   "metadata": {
    "tags": []
   },
   "outputs": [],
   "source": [
    "# Report brain region\n",
    "ccf_id = 688\n",
    "pprint(ccf_atlas.structures[ccf_id])\n",
    "\n",
    "\n",
    "# Querying information with \"get_ccf_property\"\n",
    "ccf_id = 688\n",
    "ccf_name = get_ccf_property(ccf_atlas, ccf_id, \"name\")\n",
    "ccf_acronym = get_ccf_property(ccf_atlas, ccf_id, \"acronym\")\n",
    "\n",
    "print(f\"\\nThe ccf_id '{ccf_id}' represents the '{ccf_name}'\")\n",
    "print(f\"The '{ccf_name}' are abbreviated as '{ccf_acronym}'\")\n"
   ]
  },
  {
   "cell_type": "markdown",
   "id": "4f316744-702f-4d46-aac5-56bb556f27a0",
   "metadata": {
    "tags": []
   },
   "source": [
    "<div style=\"border-left: 3px solid #000; padding: 1px; padding-left: 10px; background: #F0FAFF; \">\n",
    "    \n",
    "    \n",
    "<font size=\"4\"> This function also has an optional argument called \"depth\" that traverses the region hierarchy to return the name of the region name for the given depth. Note that this ontology is not always intuitive, as different brain structures have different maximal depths. We'll stick to the maximal depth (the default setting of get_ccf_property) for most, but not all, of this tutorial. </font>"
   ]
  },
  {
   "cell_type": "code",
   "execution_count": null,
   "id": "7b2ca328-1bb0-465c-bd6d-b0650a9ab765",
   "metadata": {
    "tags": []
   },
   "outputs": [],
   "source": [
    "# Report hierarchy\n",
    "depth = 7\n",
    "ccf_name = get_ccf_property(ccf_atlas,ccf_id, \"name\", depth=depth)\n",
    "ccf_acronym = get_ccf_property(ccf_atlas, ccf_id, \"acronym\", depth=depth)\n",
    "\n",
    "print(f\"The ccf_id '{ccf_id}' represents the '{ccf_name}'\")\n",
    "print(f\"The '{ccf_name}' are abbreviated as '{ccf_acronym}'\")\n"
   ]
  },
  {
   "cell_type": "markdown",
   "id": "0cbde34e-84e9-4abe-943f-1df912e15c03",
   "metadata": {},
   "source": [
    "<div style=\"border-left: 3px solid #000; padding: 1px; padding-left: 10px; background: #F0FAFF; \">\n",
    "    \n",
    "# Section 2: Analyzing the Inputs to a Brain Region\n",
    "    \n",
    "<font size=\"4\"> We'll start by loading all of the neurons currently available to us within the LM datasets. </font>"
   ]
  },
  {
   "cell_type": "markdown",
   "id": "b77cbaa5-1286-44ba-8b1d-525f34127719",
   "metadata": {},
   "source": [
    "<h3> Imports </h3>"
   ]
  },
  {
   "cell_type": "code",
   "execution_count": null,
   "id": "f171fd78-542c-455f-8685-1d0257a20b09",
   "metadata": {
    "tags": []
   },
   "outputs": [],
   "source": [
    "from utils.ccf_utils import get_ccf_ids\n",
    "from utils.skeleton_loading_utils import number_of_samples, load_lm_datasets, progress_bar\n",
    "\n",
    "import matplotlib.pyplot as plt\n",
    "import numpy as np\n",
    "import pandas as pd\n",
    "import skeleton_plot as skelplot\n",
    "import seaborn as sns\n",
    "\n",
    "%matplotlib inline\n"
   ]
  },
  {
   "cell_type": "markdown",
   "id": "eb5f0f9e-a6f1-44d1-a53c-02602e97d958",
   "metadata": {},
   "source": [
    "<h3> Load Dataset </h3>"
   ]
  },
  {
   "cell_type": "code",
   "execution_count": null,
   "id": "4cdfe97f-386d-46b8-bd6f-fd86c740ffd9",
   "metadata": {
    "tags": []
   },
   "outputs": [],
   "source": [
    "skel_list = load_lm_datasets(data_root)"
   ]
  },
  {
   "cell_type": "code",
   "execution_count": null,
   "id": "6fcccfe8-e36e-467e-96a5-4b4a8f24b214",
   "metadata": {
    "tags": []
   },
   "outputs": [],
   "source": [
    "# How many total neurons are contained within these datasets?\n",
    "len(skel_list)"
   ]
  },
  {
   "cell_type": "markdown",
   "id": "f77dd97e-be72-4c43-9636-58cb6bdd0b7e",
   "metadata": {},
   "source": [
    "<div style=\"border-left: 3px solid #000; padding: 1px; padding-left: 10px; background: #F0FAFF; \">\n",
    "\n",
    "## Inputs/Outputs of a Single Neuron\n",
    "\n",
    "<font size=\"4\"> Our journey to understand how the brain is connected begins with analyzing how a single neuron connects different regions. The purpose of this elementary analysis is to introduce a set of routines that simplify querying information such as finding all neurons with somas in a certain CCF region. We'll begin by choosing a skeleton from our dataset and performing the following query:\n",
    "        \n",
    "<font size=\"4\"><strong> &nbsp;&nbsp;&nbsp;&nbsp;&nbsp;&nbsp; Query 1:</strong> Which brain regions do the dendritic or axonal endpoints of a given neuron reside in? </font>\n",
    "\n",
    "<font size=\"4\"> Each skeleton has a node-level attribute called \"id\" that specifies where a node is located in CCF space. We will use subroutine called \"get_ccf_ids\" which is stored in \"ccf_utils.py\". The purpose of this routine is to easily extract the CCF ids from vertices within a certain compartment (e.g. axons or dendrites) and/or vertices which are end points or branch points, see documentation for more details. Next, let's look at some simple examples of using the routine \"get_ccf_ids\" to determine what brain regions our skeleton passes through. </font>"
   ]
  },
  {
   "cell_type": "code",
   "execution_count": null,
   "id": "b0530ce0-8d09-4b76-94e1-731bb28d9d81",
   "metadata": {
    "tags": []
   },
   "outputs": [],
   "source": [
    "# Choose a skeleton and look at it\n",
    "skel = skel_list[-1] \n"
   ]
  },
  {
   "cell_type": "markdown",
   "id": "ec2506cf-b41d-406b-9450-edbb1f72ebba",
   "metadata": {},
   "source": [
    "<div style=\"background: #DFF0D8; border-radius: 3px; padding: 10px;\">\n",
    "<font size=\"4\"><p><b>Exercise: </b> Plot this Neuron in 2D. (Hint: refer to Notebook 0 from Day 1)\n",
    "    \n",
    "</div>"
   ]
  },
  {
   "cell_type": "code",
   "execution_count": null,
   "id": "0357cef0-470a-4266-9261-2e85fbc2f49f",
   "metadata": {
    "tags": []
   },
   "outputs": [],
   "source": []
  },
  {
   "cell_type": "markdown",
   "id": "9939794c-7d28-4200-8c09-8b1271192576",
   "metadata": {},
   "source": [
    "## Look at Neuron in 3D with the CCF Atlas Mesh"
   ]
  },
  {
   "cell_type": "code",
   "execution_count": null,
   "id": "3aa7ab73-bc0f-4ddf-b4bb-7a2e33d736d5",
   "metadata": {
    "tags": []
   },
   "outputs": [],
   "source": [
    "# Imports\n",
    "import k3d\n",
    "import random\n",
    "import trimesh\n",
    "import os\n",
    "\n",
    "\n",
    "# Define plotting functions to turn a skeleton into line objects\n",
    "def plot_graphs(graphs, plot, color = None, opacity = 1):\n",
    "    for i, g in enumerate(graphs):\n",
    "        if color == None:\n",
    "            colorstr = \"%06x\" % random.randint(0, 0xFFFFFF)\n",
    "            c  = int(colorstr, 16) + 0x200\n",
    "        elif type(color) == type([]):\n",
    "            c = color[i]\n",
    "        else:\n",
    "            c = color\n",
    "        plot += graph_to_lines(g,c,opacity)\n",
    "        \n",
    "\n",
    "def graph_to_lines(g,color=None, opacity = 1):\n",
    "    lines = k3d.factory.lines(\n",
    "        g.vertices,\n",
    "        g.edges,\n",
    "        indices_type='segment', \n",
    "        width=1, shader='simple',\n",
    "        color=color,\n",
    "        opacity=opacity\n",
    "    )\n",
    "    return lines\n",
    "\n",
    "\n",
    "def get_whole_ccf_mesh():\n",
    "    mesh_path = os.path.join(data_root, \"AllenCCFMesh\", \"MouseBrainAllen3.obj\")\n",
    "    with open(mesh_path) as f:\n",
    "        return trimesh.load(f, 'obj')\n",
    "\n",
    "\n",
    "def get_region_ccf_mesh(ccf_id):\n",
    "    mesh_path = get_ccf_property(ccf_atlas, ccf_id, \"mesh_filename\")\n",
    "    try:\n",
    "        with open(mesh_path) as f:\n",
    "            return trimesh.load(f, 'obj')\n",
    "    except:\n",
    "        print(\"Mesh does not exist!\")\n"
   ]
  },
  {
   "cell_type": "code",
   "execution_count": null,
   "id": "957c2be6-2f01-4287-aaf3-4336e9d208de",
   "metadata": {
    "tags": []
   },
   "outputs": [],
   "source": [
    "# Generate plot\n",
    "plot = k3d.plot()\n",
    "plot_graphs([skel], plot)\n",
    "\n",
    "# Add whole ccf mesh\n",
    "ccf_mesh = get_whole_ccf_mesh()\n",
    "mesh_plot = k3d.mesh(ccf_mesh.vertices*1000, ccf_mesh.faces, opacity=0.2, color=808080)\n",
    "plot += mesh_plot\n",
    "\n",
    "# Add region of ccf mesh\n",
    "soma_ccf_id = get_ccf_ids(ccf_atlas, skel, compartment_type=1)[0]\n",
    "region_mesh = get_region_ccf_mesh(soma_ccf_id)\n",
    "region_mesh_plot = k3d.mesh(region_mesh.vertices*1000, region_mesh.faces, opacity=0.2)\n",
    "plot += region_mesh_plot\n",
    "\n",
    "plot.display()"
   ]
  },
  {
   "cell_type": "markdown",
   "id": "5071d191-359c-4e57-8436-acfaaebed41b",
   "metadata": {},
   "source": [
    "<div style=\"border-left: 3px solid #000; padding: 1px; padding-left: 10px; background: #F0FAFF; \">\n",
    "       \n",
    "<font size=\"4\"> **Note about morphological compartments:** The compartment types defined at each vertex adhere to standardized conventions for neuronal morphologies saved as swc files (for more information, see here: <a href=\"www.neuromorpho.org\">www.neuromorpho.org</a>). These conventions are as follows:\n",
    "    \n",
    "<ul>\n",
    "<font size=\"4\"><li> 0 - undefined\n",
    "<font size=\"4\"><li> 1 - soma\n",
    "<font size=\"4\"><li> 2 - axon\n",
    "<font size=\"4\"><li> 3 - (basal) dendrite\n",
    "<font size=\"4\"><li> 4 - apical dendrite\n",
    "<font size=\"4\"><li> 5+ - custom\n",
    "</ul>\n",
    "\n",
    "<font size=\"4\"> In most of these LM neurons, distinctions were not made between basal or apical dendrites - therefore dendrites should almost exclusively map to compartment type \"3\". \n",
    "\n",
    "</div>"
   ]
  },
  {
   "cell_type": "code",
   "execution_count": null,
   "id": "b71ceb50-2fd7-4945-baed-4565eeb4d088",
   "metadata": {
    "tags": []
   },
   "outputs": [],
   "source": [
    "# Find the CCF Compartment of it's soma (root)\n",
    "soma_ccf = get_ccf_ids(ccf_atlas,skel, compartment_type=1) \n",
    "print(\"Soma is in the\", get_ccf_property(ccf_atlas, soma_ccf[0], \"name\"))"
   ]
  },
  {
   "cell_type": "code",
   "execution_count": null,
   "id": "97c1430a-81ef-4f11-acf9-a346c9cc38ad",
   "metadata": {
    "tags": []
   },
   "outputs": [],
   "source": [
    "# We can also query particular vertex types, e.g. end_points or branch_points. \n",
    "dendrite_branchpoints_ccf = get_ccf_ids(ccf_atlas, skel, compartment_type=3, vertex_type=\"branch_points\")\n"
   ]
  },
  {
   "cell_type": "markdown",
   "id": "1f64a985-ec2a-488c-95a4-906501107463",
   "metadata": {},
   "source": [
    "<div style=\"background: #DFF0D8; border-radius: 3px; padding: 10px;\">\n",
    "<font size=\"4\"><p><b>Exercise: </b> Find Axonal \"End Points\" for this neuron\n",
    "    \n",
    "</div>"
   ]
  },
  {
   "cell_type": "code",
   "execution_count": null,
   "id": "d7a8d4c6-75aa-4d86-af62-191024bd1dec",
   "metadata": {
    "tags": []
   },
   "outputs": [],
   "source": [
    "# Define:  axon_endpoints_ccf\n",
    "\n"
   ]
  },
  {
   "cell_type": "code",
   "execution_count": null,
   "id": "22650b6d-8f76-4460-81d2-b1a56116b2b2",
   "metadata": {
    "tags": []
   },
   "outputs": [],
   "source": [
    "# Let's look at the distributions of where dendritic branchpoints and axonal endpoints lie in CCF space.\n",
    "# Here's a handy function to do so:\n",
    "def report_distribution(values, cnt_threshold=0, percent_threshold=0, return_counts=False):\n",
    "    ids, cnts = np.unique(values, return_counts=True)\n",
    "    stat_symbol = \"#\" if return_counts else \"%\"\n",
    "    item = \"Neurons\" if return_counts else \"Vertices\"\n",
    "    print(f\"{stat_symbol} {item}   CCF Region\")\n",
    "    for idx in np.argsort(-cnts):\n",
    "        percent = 100 * cnts[idx] / len(values)\n",
    "        ccf_id = get_ccf_property(ccf_atlas, ids[idx], \"name\")\n",
    "        if percent >= percent_threshold and cnts[idx] > cnt_threshold:\n",
    "            value = cnts[idx] if return_counts else round(percent, 3)\n",
    "            print(f\"{value}      {ccf_id}\")\n",
    "\n",
    "print(\"\\nDistribution of CCF Regions of Dendritic Branchpoints...\")\n",
    "report_distribution(dendrite_branchpoints_ccf, percent_threshold=1)\n",
    "\n",
    "print(\"\\nDistribution of CCF Regions of Axonal Endpoints...\")\n",
    "report_distribution(axon_endpoints_ccf, percent_threshold=1)"
   ]
  },
  {
   "cell_type": "markdown",
   "id": "a7675599-76fa-4cfa-add5-3a8f29d32fed",
   "metadata": {},
   "source": [
    "<div style=\"border-left: 3px solid #000; padding: 1px; padding-left: 10px; background: #F0FAFF; \">\n",
    "\n",
    "<font size=\"4\">Note: You may encounter a neuron that passes through \"nan\" or some integer valued region which are not valid ccf regions. This discrepancy is caused by minor misalignments of the brain sample to the ccf template caused during registration or if some parts of the neuron are outside the CCF atlas.</font>"
   ]
  },
  {
   "cell_type": "markdown",
   "id": "c6e23de7-95fa-4840-b874-3d3c56b1c916",
   "metadata": {},
   "source": [
    "<div style=\"border-left: 3px solid #000; padding: 1px; padding-left: 10px; background: #F0FAFF; \">\n",
    "\n",
    "## Inputs to a Brain Region\n",
    "    \n",
    "<font size=\"4\"> Now, let's use our newfound skills to answer our first question for this tutorial: </font>\n",
    "\n",
    "<font size=\"4\"> &nbsp;&nbsp;&nbsp;&nbsp;&nbsp;&nbsp; <strong>Question 1:</strong> What do the inputs to a particular brain region look like? </font>\n",
    "    \n",
    "<font size=\"4\"> We'll do so by formulating two queries: </font>\n",
    "    \n",
    "<font size=\"4\"><strong> &nbsp;&nbsp;&nbsp;&nbsp;&nbsp;&nbsp; Query 1:</strong> Find all neurons with axon endpoints in a given brain region. </font>\n",
    "    \n",
    "<font size=\"4\"><strong> &nbsp;&nbsp;&nbsp;&nbsp;&nbsp;&nbsp; Query 2:</strong> Given these neurons, find which regions their somas reside in. </font>  \n",
    "\n",
    "<font size=\"4\"> For today's exercise we'll look at the mediodorsal nucleus of thalamus or MD. This is a non-sensory thalamic nucleus thought to be involved in cognitive processes such as decision-making and working memory. Historically, prefrontal cortex has been defined as the cortical region with reciprocal connectivity with MD. We'll examine some of the diverse inputs this thalamic nucleus receives. </font>"
   ]
  },
  {
   "cell_type": "code",
   "execution_count": null,
   "id": "6c3bb8d8-84b8-4771-ace6-81160b2967d6",
   "metadata": {
    "tags": []
   },
   "outputs": [],
   "source": [
    "# -- Query 1 --\n",
    "\n",
    "# Initializations\n",
    "target_ccf_id = 362\n",
    "target_acronym = get_ccf_property(ccf_atlas, target_ccf_id, \"acronym\")\n",
    "target_name = get_ccf_property(ccf_atlas, target_ccf_id, \"name\")\n",
    "print(target_name, target_acronym)\n"
   ]
  },
  {
   "cell_type": "code",
   "execution_count": null,
   "id": "4e0b3a88-c7f3-4bc8-b885-672f96b66ec0",
   "metadata": {
    "tags": []
   },
   "outputs": [],
   "source": [
    "# Run Search\n",
    "print(f\"Searching for Skeletons with Axon Endpoints in the {target_name}...\")\n",
    "skels_subset = []\n",
    "for i, skel in enumerate(skel_list):\n",
    "    progress_bar(i + 1, len(skel_list))\n",
    "    if target_ccf_id in set(get_ccf_ids(ccf_atlas, skel, compartment_type=2, vertex_type=\"end_points\")):\n",
    "        skels_subset.append(skel)\n",
    "\n",
    "print(\"\\n# Skeletons Found:\", len(skels_subset))"
   ]
  },
  {
   "cell_type": "code",
   "execution_count": null,
   "id": "21db3a94-f3d6-4f17-a291-eae53c09283e",
   "metadata": {
    "tags": []
   },
   "outputs": [],
   "source": [
    "# Let's look at all these neurons\n",
    "plot = k3d.plot()\n",
    "plot_graphs(skels_subset, plot, opacity=0.2)  #we have many neurons to plot so we'll reduce their opacity here\n",
    "\n",
    "# Add whole ccf mesh\n",
    "ccf_mesh = get_whole_ccf_mesh()\n",
    "mesh_plot = k3d.mesh(ccf_mesh.vertices*1000, ccf_mesh.faces, opacity=0.2, color=808080)\n",
    "plot += mesh_plot\n",
    "\n",
    "# Add region of ccf mesh\n",
    "region_mesh = get_region_ccf_mesh(target_ccf_id)\n",
    "region_mesh_plot = k3d.mesh(region_mesh.vertices*1000, region_mesh.faces, opacity=0.2)\n",
    "plot += region_mesh_plot\n",
    "\n",
    "plot.display()"
   ]
  },
  {
   "cell_type": "code",
   "execution_count": null,
   "id": "e8133627-0e86-4053-8526-f095b0f1891e",
   "metadata": {
    "tags": []
   },
   "outputs": [],
   "source": [
    "# -- Query 2 --\n",
    "# i.e. Given these neurons, what regions do these neurons somas lie within?\n",
    "\n",
    "# Get regions\n",
    "ccf_ids_list = list()\n",
    "for skel in skels_subset:\n",
    "    ccf_ids_list.extend(\n",
    "        get_ccf_ids(ccf_atlas, \n",
    "        skel,\n",
    "        compartment_type=1\n",
    "        )\n",
    "    )\n",
    "\n",
    "# Count each region occurrence\n",
    "ccf_ids, cnts = np.unique(ccf_ids_list, return_counts=True)\n",
    "print(\"# Distinct Regions Found:\", len(ccf_ids))"
   ]
  },
  {
   "cell_type": "markdown",
   "id": "26e39b5d-dc4e-44c2-833d-c07b724935f2",
   "metadata": {
    "tags": []
   },
   "source": [
    "<div style=\"border-left: 3px solid #000; padding: 1px; padding-left: 10px; background: #F0FAFF; \">\n",
    "\n",
    "\n",
    "<font size='4'> To finish answering what the inputs to a brain region look like, let's generate a bar plot of the brain regions that we queried."
   ]
  },
  {
   "cell_type": "code",
   "execution_count": null,
   "id": "09ce43cf-88ea-4a40-81c9-97bc118fefa4",
   "metadata": {
    "tags": []
   },
   "outputs": [],
   "source": [
    "# Get brain region names\n",
    "ccf_names = list()\n",
    "for ccf_id in ccf_ids:\n",
    "    acronym = get_ccf_property(ccf_atlas, ccf_id, \"acronym\")\n",
    "    if type(acronym) is not str:\n",
    "        get_ccf_property(ccf_id, \"acronym\", print_id=True)\n",
    "    ccf_names.append(\"NaN\" if type(acronym) is not str else acronym)\n",
    "\n",
    "# Make plot\n",
    "plt.figure(figsize=(18, 7))\n",
    "plt.bar(ccf_names, cnts)\n",
    "plt.xticks(rotation=45, ha='right')\n",
    "#plt.yscale('log')\n",
    "\n",
    "# Add titles and labels\n",
    "plt.title(\"Inputs to the \" + target_name + f\" ({target_acronym})\", fontsize=18)\n",
    "plt.xlabel(\"Somas with axonal endpoints in \" + target_acronym, fontsize=15)\n",
    "plt.ylabel(\"# of Neurons (log scale)\", fontsize=15)\n",
    "\n",
    "# Show the plot\n",
    "plt.show()"
   ]
  },
  {
   "cell_type": "markdown",
   "id": "fb9417f8-2bfe-40da-99dd-addebcdeb8b7",
   "metadata": {},
   "source": [
    "<div style=\"border-left: 3px solid #000; padding: 1px; padding-left: 10px; background: #F0FAFF; \">\n",
    "\n",
    "\n",
    "<font size='4'> Lastly, we will visualize the inputs to brain region by plotting all of these neurons by coloring it by the location of its soma (which ccf region it lies in).\n",
    "    "
   ]
  },
  {
   "cell_type": "code",
   "execution_count": null,
   "id": "b597bf1d-6b33-43b4-bf19-c25b2187b1f3",
   "metadata": {
    "tags": []
   },
   "outputs": [],
   "source": [
    "ccf_ids_list = list()\n",
    "for skel in skels_subset:\n",
    "    ccf_ids_list.extend(\n",
    "        get_ccf_ids(ccf_atlas,\n",
    "            skel,\n",
    "            compartment_type=1           \n",
    "        )\n",
    "    )\n",
    "int_list = [int(i) for i in ccf_ids_list] #can't use this becausee it has very large numbers\n",
    "\n",
    "#map this to a set of colors\n",
    "\n",
    "unique_numbers = np.unique(int_list)\n",
    "unique_colors = list()\n",
    "\n",
    "mapper = {}\n",
    "for i in unique_numbers:\n",
    "    colorstr = \"%06x\" % random.randint(0, 0xFFFFFF)\n",
    "    c  = int(colorstr, 16) + 0x200\n",
    "    mapper[i] = c\n",
    "\n",
    "colors_list = [c for c in map(mapper.get, int_list)]\n",
    "print(colors_list)"
   ]
  },
  {
   "cell_type": "markdown",
   "id": "f93d0a41-3826-49e9-b4c5-1780583bbd07",
   "metadata": {},
   "source": [
    "<div style=\"background: #DFF0D8; border-radius: 3px; padding: 10px;\">\n",
    "<font size=\"4\"><p><b>Exercise: </b> Visualize the cells colored by which region their soma lies in 3D with the CCF mesh. How is this different from the previous plot?\n",
    "    \n",
    "</div>"
   ]
  },
  {
   "cell_type": "code",
   "execution_count": null,
   "id": "518fd35d-0f84-4cde-90b6-7bd166c95a57",
   "metadata": {
    "tags": []
   },
   "outputs": [],
   "source": []
  },
  {
   "cell_type": "markdown",
   "id": "f1541d7c-4bed-476b-8a9d-c9653ad8f4c9",
   "metadata": {},
   "source": [
    "<div style=\"background: #DFF0D8; border-radius: 3px; padding: 10px;\">\n",
    "<font size=\"4\"><p><b>Exercise: </b> Redo this at a CCF depth of 5. How does this look different?\n",
    "    \n",
    "</div>"
   ]
  },
  {
   "cell_type": "code",
   "execution_count": null,
   "id": "c41ff11d-4976-449d-a6f6-b2c23b0570eb",
   "metadata": {
    "tags": []
   },
   "outputs": [],
   "source": []
  },
  {
   "cell_type": "markdown",
   "id": "474fb3c6-8c3a-4018-8f5e-7147b50e9878",
   "metadata": {
    "tags": []
   },
   "source": [
    "<div style=\"border-left: 3px solid #000; padding: 1px; padding-left: 10px; background: #F0FAFF; \">\n",
    "    \n",
    "# Section 3: Analyzing Divergent Information Flow\n",
    "    \n",
    "<font size='4'> We've just looked at how inputs from different brain areas converge upon the Mediodorsal Nucleus of Thalamus (MD). However neurons are not exclusive in their projections, and a given cell will often have branching axonal fields targeting multiple different brain areas. We can learn about how information flows through the brain by looking at what input channels are shared between brain regions. Phrased another way, which brain areas are targeted by distinct collaterals of the same neuron?\n",
    "    \n",
    "<font size=\"4\"> &nbsp;&nbsp;&nbsp;&nbsp;&nbsp;&nbsp; <strong>Question 2:</strong>  Where else do inputs to MD send their collaterals?  </font>\n"
   ]
  },
  {
   "cell_type": "code",
   "execution_count": null,
   "id": "ec4e85ae-da65-4813-86bf-da23c2b37b8e",
   "metadata": {
    "tags": []
   },
   "outputs": [],
   "source": [
    "# Here we are setting up an alternative way to correspond CCF ids and region acronyms. We're establishing dictionaries to go between these properties.\n",
    "# Some neurons have a small number of vertices with unrecognized IDs due to registration errors / differences in CCF versioning: so we're using a \n",
    "# default dict to set unrecognized IDs to a default value of NaN.\n",
    "from collections import defaultdict\n",
    "id_to_acronym = defaultdict(lambda: \"NaN\")\n",
    "for ccf_id in list(ccf_atlas.lookup_df[\"id\"]):\n",
    "    id_to_acronym[ccf_id] = get_ccf_property(ccf_atlas, ccf_id, \"acronym\")\n",
    "\n",
    "acronym_to_id = {acronym: ccf_id for ccf_id, acronym in id_to_acronym.items()}\n",
    "\n",
    "## Pick a random Neuron from the set of Neurons that send information to MD\n",
    "skel = skels_subset[55]"
   ]
  },
  {
   "cell_type": "code",
   "execution_count": null,
   "id": "2443dde6-2fb9-4cc9-9640-623a12300a7f",
   "metadata": {
    "tags": []
   },
   "outputs": [],
   "source": [
    "# Find the axon endpoints for our neuron and count how many terminate in each CCF region\n",
    "axon_endpoints_ccf = get_ccf_ids(ccf_atlas,skel, compartment_type=2, vertex_type=\"end_points\")\n",
    "ids, cnts = np.unique(axon_endpoints_ccf, return_counts=True)\n"
   ]
  },
  {
   "cell_type": "code",
   "execution_count": null,
   "id": "2c155f22-8e85-41a8-9395-f51a8304a1f0",
   "metadata": {
    "tags": []
   },
   "outputs": [],
   "source": [
    "# Convert IDs to CCF acronyms for plotting purposes\n",
    "endpoint_dataframe = pd.DataFrame({\"CCF\": [id_to_acronym[ccf_id] for ccf_id in ids], \"Counts\":cnts})\n"
   ]
  },
  {
   "cell_type": "code",
   "execution_count": null,
   "id": "61797a90-b7e3-436f-8a03-cf43d0577876",
   "metadata": {
    "tags": []
   },
   "outputs": [],
   "source": [
    "# Plot the axonal endpoints of our selected neuron\n",
    "sns.barplot(endpoint_dataframe.sort_values(\"Counts\", ascending=False).head(20), x=\"CCF\", y=\"Counts\")\n",
    "plt.xticks(rotation=45);\n"
   ]
  },
  {
   "cell_type": "code",
   "execution_count": null,
   "id": "38d02548-f96d-4080-b975-a3a8cdcf807a",
   "metadata": {
    "tags": []
   },
   "outputs": [],
   "source": [
    "# Plot the full neuronal morphology \n",
    "plot = k3d.plot()\n",
    "plot_graphs([skel], plot)\n",
    "\n",
    "# Add whole ccf mesh\n",
    "ccf_mesh = get_whole_ccf_mesh()\n",
    "mesh_plot = k3d.mesh(ccf_mesh.vertices*1000, ccf_mesh.faces, opacity=0.2, color=808080)\n",
    "plot += mesh_plot\n",
    "\n",
    "# Add MD mesh\n",
    "region_mesh = get_region_ccf_mesh(362)\n",
    "region_mesh_plot = k3d.mesh(region_mesh.vertices*1000, region_mesh.faces, opacity=0.2)\n",
    "plot += region_mesh_plot\n",
    "\n",
    "plot.display()"
   ]
  },
  {
   "cell_type": "markdown",
   "id": "4a2fda83-5243-46b1-acfa-25aff96f4df0",
   "metadata": {
    "tags": []
   },
   "source": [
    "<div style=\"border-left: 3px solid #000; padding: 1px; padding-left: 10px; background: #F0FAFF; \">\n",
    "    \n",
    "# Section 4: Analyzing divergent information flow : Population Study\n",
    "    \n",
    "<font size='4'> We've now looked at a few of the diverse inputs to MD. How is this information integrated and distributed to the rest of the brain? Physiological experiments are best suited for interrogating how information is transformed across synapses. However morphological analysis can cue us into the output channels of the MD circuit. Do all MD neurons uniformly target the same brain structures, or is there diversity in their projection patterns? One way to formalize this question is with clustering analysis.\n",
    "    \n",
    "<font size=\"4\"> &nbsp;&nbsp;&nbsp;&nbsp;&nbsp;&nbsp; <strong>Question 3:</strong> Are neuronal morphologies stereotyped, or are there distinct projection classes?\n"
   ]
  },
  {
   "cell_type": "code",
   "execution_count": null,
   "id": "c787b206-6db1-451c-ad36-0d4c087ca7db",
   "metadata": {
    "tags": []
   },
   "outputs": [],
   "source": [
    "# imports\n",
    "from sklearn.cluster import KMeans\n",
    "from sklearn.metrics import silhouette_score"
   ]
  },
  {
   "cell_type": "code",
   "execution_count": null,
   "id": "f0b02f5a-0efc-4522-b2b1-6784f7264867",
   "metadata": {
    "tags": []
   },
   "outputs": [],
   "source": [
    "# Get neurons with somas in MD.\n",
    "list_of_regions = [\"MD\"] # note that in your independent explorations, you can add more regions to this list to query\n",
    "ccf_id_list = [acronym_to_id[region] for region in list_of_regions]\n",
    "skels_subset = [skel for skel in skel_list if skel.vertex_properties['ccf'][skel.root] in ccf_id_list]\n",
    "print(f\"# Skeletons with somas in {list_of_regions}:\", len(skels_subset))\n"
   ]
  },
  {
   "cell_type": "code",
   "execution_count": null,
   "id": "8058c6fc-336f-4326-a103-a5396df95e30",
   "metadata": {
    "tags": []
   },
   "outputs": [],
   "source": [
    "# First lets look at the projection targets of our population of neurons. We'll collect CCF endpoints:\n",
    "axon_endpoints_ccf = list()\n",
    "for skel in skels_subset:\n",
    "    axon_endpoints_ccf.extend(get_ccf_ids(ccf_atlas, skel, compartment_type=2, vertex_type=\"end_points\"))\n",
    "\n",
    "axon_endpoints_ccf = [x for x in axon_endpoints_ccf if ~np.isnan(x)]\n",
    "\n",
    "# Then we'll plot the total axonal endpoints of our population of neurons. To reduce visual clutter, we'll only plot the top 25 most targeted CCF structures.\n",
    "n_structures_to_plot = 25\n",
    "ids, cnts = np.unique(axon_endpoints_ccf, return_counts=True)\n",
    "total_endpoints = pd.DataFrame({\"CCF\": [id_to_acronym[ccf_id] for ccf_id in ids], \"Counts\":cnts})\n",
    "sns.barplot(\n",
    "    total_endpoints.sort_values(\"Counts\", ascending = False).head(n_structures_to_plot),\n",
    "    x=\"CCF\",\n",
    "    y=\"Counts\",\n",
    ")\n",
    "plt.xticks(rotation=45);"
   ]
  },
  {
   "cell_type": "markdown",
   "id": "480d18cc-fbde-492d-8c7b-a83e4b331ead",
   "metadata": {
    "tags": []
   },
   "source": [
    "<div style=\"background: #DFF0D8; border-radius: 3px; padding: 10px;\">\n",
    "<font size=\"4\"><p><b>Question :</b> What are the most targeted brain regions by MD neurons? Does this change with the level of the CCF hierarchy that you're examining? \n",
    "    \n",
    "Exercise: Plot the top 5 structures when axonal endpoints are queried at CCF depth 5.\n",
    "    \n",
    "</div>"
   ]
  },
  {
   "cell_type": "code",
   "execution_count": null,
   "id": "48502047-a287-4baf-8c27-89be4ec00870",
   "metadata": {
    "tags": []
   },
   "outputs": [],
   "source": []
  },
  {
   "cell_type": "markdown",
   "id": "4f0004db-05d7-4807-bd54-33dde4df720f",
   "metadata": {},
   "source": [
    "<div style=\"border-left: 3px solid #000; padding: 1px; padding-left: 10px; background: #F0FAFF; \">\n",
    "\n",
    "\n",
    "<font size='4'> Next, let's try some simple clustering approaches to look at the diversity of our MD projections. We'll start by assembling a feature matrix where the rows are MD neurons and the columns are number of axonal endpoints in different CCF regions. You can imagine that other more exotic morphometric or topological features might have great descriptive power for distinguishing morphologies, but we'll keep things relatively simple for now.</font>\n",
    "    "
   ]
  },
  {
   "cell_type": "markdown",
   "id": "0c23addf-d622-48dd-ae82-e145a55b9b13",
   "metadata": {},
   "source": [
    "<div style=\"border-left: 3px solid #000; padding: 1px; padding-left: 10px; background: #F0FAFF; \">\n",
    "\n",
    "\n",
    "<font size='4'> Create a dictionary of each cell's axonal endpoints. We'll then convert this to a dataframe to allow for visualizations and clustering.</font>\n",
    "    "
   ]
  },
  {
   "cell_type": "code",
   "execution_count": null,
   "id": "21ede4bd-4cac-4ebb-b158-72b36211ec8b",
   "metadata": {
    "tags": []
   },
   "outputs": [],
   "source": [
    "# Collect axon endpoints from every cell in our subset\n",
    "skel_dict = {}\n",
    "for i, skel in enumerate(skels_subset):\n",
    "    axon_endpoints_ccf = get_ccf_ids(ccf_atlas, skel, compartment_type=2, vertex_type=\"end_points\")\n",
    "    ids, cnts = np.unique(axon_endpoints_ccf, return_counts=True) # Count incidence of each terminal structure\n",
    "    skel_dict[i] = dict(zip(ids,cnts)) # Bundle up CCF region IDs and counts for each cell\n",
    "    \n"
   ]
  },
  {
   "cell_type": "code",
   "execution_count": null,
   "id": "4de2b18a-33d4-4fa7-b66d-ed812114c313",
   "metadata": {
    "tags": []
   },
   "outputs": [],
   "source": [
    "# Convert to dataframe, and remap column names from region IDs to region acronyms\n",
    "df = pd.DataFrame.from_dict(skel_dict, orient='index').fillna(0)\n",
    "df = df.loc[:, df.columns.isin(id_to_acronym.keys())]\n",
    "df = df.rename(columns = id_to_acronym)\n",
    "df = df.loc[:, df.columns != \"NaN\"] # remove any unrecognized CCF regions"
   ]
  },
  {
   "cell_type": "code",
   "execution_count": null,
   "id": "4461d5eb-31bf-4fa8-a2e4-77ea604cf721",
   "metadata": {
    "tags": []
   },
   "outputs": [],
   "source": [
    "# We can optionally trim our feature matrix to only include CCF regions that comprise a decent fraction of our total terminal endpoints across\n",
    "# the population. Let's do so for now to reduce bloat in our visualizations, setting a threshold of at least 0.05% of the total endpoints.\n",
    "trim_df = True\n",
    "threshold = 0.0005\n",
    "\n",
    "if trim_df:\n",
    "    total_counts = df.sum(axis=0, numeric_only=True)\n",
    "    cumsum = total_counts / sum(total_counts)\n",
    "    keep_cols = cumsum > threshold\n",
    "    df = df.loc[:,keep_cols]"
   ]
  },
  {
   "cell_type": "code",
   "execution_count": null,
   "id": "f9356586-09dd-4f3a-96c4-0c34a2a835d9",
   "metadata": {
    "tags": []
   },
   "outputs": [],
   "source": [
    "# Now lets visualize our feature matrix. We'll sort our columns to tidy up the visualization.\n",
    "sorted_columns = sorted(df.columns)\n",
    "df = df[sorted_columns] # Reorder the DataFrame based on sorted column names\n",
    "\n",
    "plt.figure(figsize=(18,5))\n",
    "sns.heatmap(df.sort_index())"
   ]
  },
  {
   "cell_type": "markdown",
   "id": "988e2a61-c337-4b6b-9e54-4ee56fce47df",
   "metadata": {},
   "source": [
    "<div style=\"border-left: 3px solid #000; padding: 1px; padding-left: 10px; background: #F0FAFF; \">\n",
    "\n",
    "\n",
    "<font size='4'> Now, we'll employ a general purpose clustering algorithim called K Means to automatically group neurons based on their projection properties. You can learn more here: https://scikit-learn.org/stable/modules/clustering.html#k-means. K Means requires specifying a number of output clusters a priori. We'll start with 3 clusters, and dig into more principled approaches for selecting this number later. </font>\n",
    "    "
   ]
  },
  {
   "cell_type": "code",
   "execution_count": null,
   "id": "b9efb614-36e2-4293-894f-a3721f3c4514",
   "metadata": {
    "tags": []
   },
   "outputs": [],
   "source": [
    "# Initialize the KMeans model\n",
    "n_clusters = 3\n",
    "kmeans = KMeans(n_clusters=n_clusters, n_init = \"auto\", random_state = 0)\n",
    "kmeans.fit(df)\n",
    "\n",
    "# Get the cluster labels\n",
    "labels = kmeans.labels_\n",
    "\n",
    "# We'll createa copy of our dataframe and add the cluster labels\n",
    "df_clustered = df.copy()\n",
    "df_clustered['cluster'] = labels"
   ]
  },
  {
   "cell_type": "code",
   "execution_count": null,
   "id": "0da052d8-83d6-426d-82c3-00053c13a257",
   "metadata": {
    "tags": []
   },
   "outputs": [],
   "source": [
    "# Now lets visualize our clustering results.\n",
    "df_clustered = df_clustered.sort_values(\"cluster\") # sort by cluster label to organize plot\n",
    "\n",
    "# Plot the heatmap\n",
    "plt.figure(figsize=(18, 5))\n",
    "sns.heatmap(df_clustered,  xticklabels=True)\n",
    "\n",
    "# Outline clusters by adding lines\n",
    "unique_clusters = df_clustered['cluster'].unique()\n",
    "for cluster in unique_clusters:\n",
    "    idx = np.where(df_clustered['cluster'] == cluster)[0]\n",
    "    plt.hlines([min(idx), max(idx) + 1], *plt.xlim(), colors='white', linewidth=1)"
   ]
  },
  {
   "cell_type": "code",
   "execution_count": null,
   "id": "e24567a1-890e-40cb-8091-1e519e90881c",
   "metadata": {
    "tags": []
   },
   "outputs": [],
   "source": [
    "# Let's also print the top structures targeted by each cluster.\n",
    "top_regions = slice(0,3,1) # we'll specify that we want to look at the top 3 CCF regions\n",
    "cluster_means = df_clustered.groupby(\"cluster\").mean()\n",
    "for i in range(len(cluster_means)):\n",
    "    sorted_cluster_means = cluster_means.iloc[i,:].sort_values(ascending=False)\n",
    "    output = ', '.join(f'({index}: {value:.{1}f})' for index, value in sorted_cluster_means[top_regions].items())\n",
    "    print(\"Cluster #\" + f\"{i} top targets: \" + output)"
   ]
  },
  {
   "cell_type": "markdown",
   "id": "45e3d29b-3cf5-44a9-b6a6-edc80e85d99f",
   "metadata": {},
   "source": [
    "<div style=\"background: #DFF0D8; border-radius: 3px; padding: 10px;\">\n",
    "<font size=\"4\"><p><b>Exercise: </b> Our feature matrix is a reduced representation of the original data. Let's check if our clustering makes sense by inspecting the morphologies belonging to a given cluster. Plot all of the neurons belonging to cluster 0 below.\n",
    "    \n",
    "</div>"
   ]
  },
  {
   "cell_type": "code",
   "execution_count": null,
   "id": "41f8cb1d-1c1c-48a0-ab7e-1905d95e9888",
   "metadata": {
    "tags": []
   },
   "outputs": [],
   "source": []
  },
  {
   "cell_type": "markdown",
   "id": "d9daf4d2-115b-4aae-afb8-43e266504b28",
   "metadata": {},
   "source": [
    "<div style=\"background: #DFF0D8; border-radius: 3px; padding: 10px;\">\n",
    "<font size=\"4\"><p><b>Exercise:</b> K Means clustering requires specifying a number of K clusters to split your samples into a priori. However we rarely know in advance how many groups our data should be split into, and above we've chosen to specify 3 clusters somewhat arbitrarily. There isn't a definitive and absolute answer to the appropriate number of clusters to specify, but there are tools we can use to guide our selection of K. One tool is a metric called the silhouette score (https://scikit-learn.org/stable/auto_examples/cluster/plot_kmeans_silhouette_analysis.html#sphx-glr-auto-examples-cluster-plot-kmeans-silhouette-analysis-py), which quantifies the proximity of points within clusters relative to points outside that cluster. Silhouette scores near 1 indicate clusters are very distinct, while values closer to 0 indicate points are close to the boundaries between clusters. \n",
    "    \n",
    "Let's compare K Means Silhouette scores for different numbers of K. We've laid out some code to get you started below. Afterward, visualize and examine the clustering results for a few different values of K. Remember that Silhouette scores are only a tool to guide our selection of K, but are not the ultimate determinants of biological \"truth\".\n",
    "</div>"
   ]
  },
  {
   "cell_type": "code",
   "execution_count": null,
   "id": "3b4d6942-c303-4d0b-95ca-1a938308285c",
   "metadata": {
    "tags": []
   },
   "outputs": [],
   "source": [
    "## Guide\n",
    "\n",
    "range_n_clusters = range(2, 15)\n",
    "silhouette_avg = []\n",
    "\n",
    "for k in range_n_clusters:\n",
    "    # Code here!\n",
    "    \n",
    "    \n",
    "    silhouette_avg.append(silhouette_score(df, cluster_labels))\n",
    "\n",
    "# Plotting silhouette\n",
    "plt.figure(figsize=(10, 4))\n",
    "plt.plot(range_n_clusters, silhouette_avg, 'o-')\n",
    "plt.xlabel('Number of clusters')\n",
    "plt.ylabel('Silhouette score')\n",
    "plt.title('Selection of K clusters')"
   ]
  },
  {
   "cell_type": "code",
   "execution_count": null,
   "id": "ab8b25f7-e560-4349-a078-e7a1978b7400",
   "metadata": {},
   "outputs": [],
   "source": []
  }
 ],
 "metadata": {
  "kernelspec": {
   "display_name": "Python 3 (ipykernel)",
   "language": "python",
   "name": "python3"
  },
  "language_info": {
   "codemirror_mode": {
    "name": "ipython",
    "version": 3
   },
   "file_extension": ".py",
   "mimetype": "text/x-python",
   "name": "python",
   "nbconvert_exporter": "python",
   "pygments_lexer": "ipython3",
   "version": "3.9.16"
  },
  "vscode": {
   "interpreter": {
    "hash": "d4d1e4263499bec80672ea0156c357c1ee493ec2b1c70f0acce89fc37c4a6abe"
   }
  }
 },
 "nbformat": 4,
 "nbformat_minor": 5
}
