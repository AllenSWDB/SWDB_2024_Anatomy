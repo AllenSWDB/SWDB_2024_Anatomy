{
 "cells": [
  {
   "cell_type": "code",
   "execution_count": null,
   "id": "93a536c6-a827-4fef-8b84-d6108e7db868",
   "metadata": {},
   "outputs": [],
   "source": []
  },
  {
   "cell_type": "markdown",
   "id": "15d031ca-10fe-4cdd-9c82-970013cc4e83",
   "metadata": {},
   "source": [
    "<img src=\"resources/cropped-SummerWorkshop_Header.png\">  \n",
    "\n",
    "<h1 align=\"center\">Workshop SWDB 2024 </h1> \n",
    "<h3 align=\"center\">Day 3 2024 - Neuron Morphology</h3> \n",
    "<h3 align=\"center\">Notebook 2: Morphological Features</h3> "
   ]
  },
  {
   "cell_type": "markdown",
   "id": "147a1930-96ec-4a48-b5a5-12eab7db5447",
   "metadata": {},
   "source": [
    "<div style=\"border-left: 3px solid #000; padding: 1px; padding-left: 10px; background: #F0FAFF; \">\n",
    "   \n",
    "Here we will begin quantifying the features we visualized in the previous notebook, including: \n",
    "* path-length of axons and dendrites\n",
    "* distribution of branch lengths\n",
    "* relationship between axon and dendrite, re: branch number and path-length.\n",
    "    \n",
    "</div>"
   ]
  },
  {
   "cell_type": "code",
   "execution_count": 1,
   "id": "88f6140d-16b8-470e-b6f6-da475f40f155",
   "metadata": {
    "tags": []
   },
   "outputs": [],
   "source": [
    "import pandas as pd\n",
    "import numpy as np\n",
    "from os.path import join as pjoin\n",
    "import matplotlib.pyplot as plt\n",
    "%matplotlib inline"
   ]
  },
  {
   "cell_type": "code",
   "execution_count": 46,
   "id": "d27536d8-f234-4f56-be8b-09fe46fbd952",
   "metadata": {
    "tags": []
   },
   "outputs": [
    {
     "name": "stderr",
     "output_type": "stream",
     "text": [
      "WARNING:root:Need to pip install caveclient to repair mesh with pychunkedgraph\n",
      "WARNING:root:Need to pip install caveclient to use dataset_name parameters\n"
     ]
    }
   ],
   "source": [
    "import cloudvolume\n",
    "from meshparty import skeleton\n",
    "import skeleton_plot as skelplot"
   ]
  },
  {
   "cell_type": "markdown",
   "id": "a7ed1d42-baf7-483d-a765-24f86c5f4a6a",
   "metadata": {},
   "source": [
    "<div style=\"border-left: 3px solid #000; padding: 1px; padding-left: 10px; background: #F0FAFF; \">\n",
    " \n",
    "## Load a precomputed skeleton\n",
    "    \n",
    "</div>"
   ]
  },
  {
   "cell_type": "markdown",
   "id": "db6fdfdb-7a8d-40e9-a910-e2c6c9e9395a",
   "metadata": {},
   "source": [
    "<div style=\"background: #DFF0D8; border-radius: 3px; padding: 10px;\">\n",
    "<p><b>Task 1.1:</b>  Choose your own adventure: use either the EM or LM data path from the previous notebook. Return here later to select the other data type.\n",
    "</div>"
   ]
  },
  {
   "cell_type": "code",
   "execution_count": 88,
   "id": "3ceea83d-58c5-4e35-ba91-d134616bad50",
   "metadata": {
    "tags": []
   },
   "outputs": [],
   "source": [
    "# Set EM data directory\n",
    "em_directory = \"precomputed://gs://allen_neuroglancer_ccf/Qiu2024\" ## This is a placeholder!\n",
    "\n",
    "# Initialize cloud volume\n",
    "cv_em = cloudvolume.CloudVolume(em_directory, use_https=True)\n",
    "\n",
    "# Load and example skeleton\n",
    "sk_em = cv_em.skeleton.get(10001)"
   ]
  },
  {
   "cell_type": "code",
   "execution_count": 6,
   "id": "9291164d-7993-4693-b991-8d5003f420b5",
   "metadata": {
    "tags": []
   },
   "outputs": [],
   "source": [
    "#initialize meshparty object with vertices and edges\n",
    "sk = skeleton.Skeleton(sk_em.vertices, \n",
    "                       sk_em.edges, \n",
    "                       vertex_properties={'radius': sk_em.radius,\n",
    "                                          'compartment': sk_em.vertex_types}, \n",
    "                       root = 0, \n",
    "                       # root = len(sk_em.edges), # when the final edge is root\n",
    "                       remove_zero_length_edges = False)"
   ]
  },
  {
   "cell_type": "markdown",
   "id": "2911e66c-b3ba-4896-83b2-ba3128cba708",
   "metadata": {},
   "source": [
    "<div style=\"border-left: 3px solid #000; padding: 1px; padding-left: 10px; background: #F0FAFF; \">\n",
    "    \n",
    "## Inspect features of the meshwork\n",
    "\n",
    "[MeshParty](https://github.com/CAVEconnectome/MeshParty/) simplifies the process of extracting features like branches and endpoints, and calculating **path-lengths**--the distance in space traversed by the neurites.\n",
    "</div>"
   ]
  },
  {
   "cell_type": "markdown",
   "id": "43d3257a-4043-419f-bbad-2029ea034353",
   "metadata": {},
   "source": [
    "<div style=\"border-left: 3px solid #000; padding: 1px; padding-left: 10px; background: #F0FAFF; \">\n",
    "    \n",
    "### Branches, endpoints, and segments\n",
    "    \n",
    "</div>"
   ]
  },
  {
   "cell_type": "code",
   "execution_count": 102,
   "id": "b760bd33-0673-4155-bd88-4202398f227f",
   "metadata": {
    "tags": []
   },
   "outputs": [
    {
     "name": "stdout",
     "output_type": "stream",
     "text": [
      "There are 1456 vertices in this neuron\n"
     ]
    }
   ],
   "source": [
    "# Vertices\n",
    "print(f\"There are {len(sk.vertices)} vertices in this neuron\")"
   ]
  },
  {
   "cell_type": "code",
   "execution_count": 103,
   "id": "c50cebe2-6a1e-41fa-b31e-86ce18e756ff",
   "metadata": {
    "tags": []
   },
   "outputs": [
    {
     "name": "stdout",
     "output_type": "stream",
     "text": [
      "Branch points are at the following indices: \n",
      " [   0   34   39   49  160  180  262  264  276  348  385  420  447  480\n",
      "  526  569  593  614  791  885  898  972  991  998 1134 1135 1137 1154\n",
      " 1286 1353 1386]\n"
     ]
    }
   ],
   "source": [
    "# Branch points\n",
    "print(\"Branch points are at the following indices: \\n\",sk.branch_points)"
   ]
  },
  {
   "cell_type": "code",
   "execution_count": 104,
   "id": "34a88f93-c963-4039-9cd0-d34c64bd7db4",
   "metadata": {
    "tags": []
   },
   "outputs": [
    {
     "name": "stdout",
     "output_type": "stream",
     "text": [
      "End points are at the following indices: \n",
      " [ 101  102  167  168  263  270  271  352  353  416  448  865  866  868\n",
      "  870  873  876  878  879  934  970 1027 1046 1080 1128 1185 1218 1276\n",
      " 1325 1343 1385 1420 1455]\n"
     ]
    }
   ],
   "source": [
    "# End points\n",
    "print(\"End points are at the following indices: \\n\",sk.end_points)"
   ]
  },
  {
   "cell_type": "code",
   "execution_count": 105,
   "id": "146582a0-6d67-41b6-8077-fd150ee30157",
   "metadata": {
    "tags": []
   },
   "outputs": [
    {
     "name": "stdout",
     "output_type": "stream",
     "text": [
      "Root point with skeleton indices:  0\n"
     ]
    }
   ],
   "source": [
    "# Root - point associated with the root node, which is the soma\n",
    "print(\"Root point with skeleton indices: \", sk.root.item())"
   ]
  },
  {
   "cell_type": "code",
   "execution_count": 106,
   "id": "3abcdc41-c6da-4db2-af85-ce481f07d3a1",
   "metadata": {
    "collapsed": true,
    "jupyter": {
     "outputs_hidden": true
    },
    "tags": []
   },
   "outputs": [
    {
     "name": "stdout",
     "output_type": "stream",
     "text": [
      "All branch segments are: \n",
      " [array([0]), array([885, 884, 883, 882, 881, 880,   1]), array([1134, 1133, 1132, 1131, 1130, 1129,    2]), array([34, 33, 32, 31, 30, 29, 28, 27, 26, 25, 24, 23, 22, 21, 20, 19, 18,\n",
      "       17, 16, 15, 14, 13, 12, 11, 10,  9,  8,  7,  6,  5,  4,  3]), array([39, 38, 37, 35]), array([180, 179, 178, 177, 176, 175, 174, 173, 172, 171, 170, 169,  36]), array([160, 159, 158, 157, 156, 155, 154, 153, 152, 151, 150, 149, 148,\n",
      "       147, 146, 145, 144, 143, 142, 141, 140, 139, 138, 137, 136, 135,\n",
      "       134, 133, 132, 131, 130, 129, 128, 127, 126, 125, 124, 123, 122,\n",
      "       121, 120, 119, 118, 117, 116, 115, 114, 113, 112, 111, 110, 109,\n",
      "       108, 107, 106, 105, 104, 103,  40]), array([49, 48, 47, 46, 45, 44, 43, 42, 41]), array([101, 100,  99,  98,  97,  96,  95,  94,  93,  92,  91,  90,  89,\n",
      "        88,  87,  86,  85,  84,  83,  82,  81,  80,  79,  78,  77,  76,\n",
      "        75,  74,  73,  72,  71,  70,  69,  68,  67,  66,  65,  64,  63,\n",
      "        62,  61,  60,  59,  58,  57,  56,  55,  54,  53,  52,  50]), array([102,  51]), array([167, 166, 165, 164, 163, 161]), array([168, 162]), array([262, 261, 260, 259, 258, 257, 256, 255, 254, 253, 252, 251, 250,\n",
      "       249, 248, 247, 246, 245, 244, 243, 242, 241, 240, 239, 238, 237,\n",
      "       236, 235, 234, 233, 232, 231, 230, 229, 228, 227, 226, 225, 224,\n",
      "       223, 222, 221, 220, 219, 218, 217, 216, 215, 214, 213, 212, 211,\n",
      "       210, 209, 208, 207, 206, 205, 204, 203, 202, 201, 200, 199, 198,\n",
      "       197, 196, 195, 194, 193, 192, 191, 190, 189, 188, 187, 186, 185,\n",
      "       184, 183, 181]), array([276, 275, 274, 273, 272, 182]), array([263]), array([264]), array([271, 265]), array([270, 269, 268, 267, 266]), array([348, 347, 346, 345, 344, 343, 342, 341, 340, 339, 338, 337, 336,\n",
      "       335, 334, 333, 332, 331, 330, 329, 328, 327, 326, 325, 324, 323,\n",
      "       322, 321, 320, 319, 318, 317, 316, 315, 314, 313, 312, 311, 310,\n",
      "       309, 308, 307, 306, 305, 304, 303, 302, 301, 300, 299, 298, 297,\n",
      "       296, 295, 294, 293, 292, 291, 290, 289, 288, 287, 286, 285, 284,\n",
      "       283, 282, 281, 280, 279, 277]), array([385, 384, 383, 382, 381, 380, 379, 378, 377, 376, 375, 374, 373,\n",
      "       372, 371, 370, 369, 368, 367, 366, 365, 364, 363, 362, 361, 360,\n",
      "       359, 358, 357, 356, 355, 354, 278]), array([352, 351, 349]), array([353, 350]), array([416, 415, 414, 413, 412, 411, 410, 409, 408, 407, 406, 405, 404,\n",
      "       403, 402, 401, 400, 399, 398, 397, 396, 395, 394, 393, 392, 391,\n",
      "       390, 389, 388, 386]), array([420, 419, 418, 417, 387]), array([879, 421]), array([447, 446, 445, 444, 443, 442, 441, 440, 439, 438, 437, 436, 435,\n",
      "       434, 433, 432, 431, 430, 429, 428, 427, 426, 425, 424, 423, 422]), array([448]), array([480, 479, 478, 477, 476, 475, 474, 473, 472, 471, 470, 469, 468,\n",
      "       467, 466, 465, 464, 463, 462, 461, 460, 459, 458, 457, 456, 455,\n",
      "       454, 453, 452, 451, 450, 449]), array([878, 877, 481]), array([526, 525, 524, 523, 522, 521, 520, 519, 518, 517, 516, 515, 514,\n",
      "       513, 512, 511, 510, 509, 508, 507, 506, 505, 504, 503, 502, 501,\n",
      "       500, 499, 498, 497, 496, 495, 494, 493, 492, 491, 490, 489, 488,\n",
      "       487, 486, 485, 484, 483, 482]), array([569, 568, 567, 566, 565, 564, 563, 562, 561, 560, 559, 558, 557,\n",
      "       556, 555, 554, 553, 552, 551, 550, 549, 548, 547, 546, 545, 544,\n",
      "       543, 542, 541, 540, 539, 538, 537, 536, 535, 534, 533, 532, 531,\n",
      "       530, 529, 527]), array([876, 875, 874, 528]), array([873, 872, 871, 570]), array([593, 592, 591, 590, 589, 588, 587, 586, 585, 584, 583, 582, 581,\n",
      "       580, 579, 578, 577, 576, 575, 574, 573, 572, 571]), array([870, 869, 594]), array([614, 613, 612, 611, 610, 609, 608, 607, 606, 605, 604, 603, 602,\n",
      "       601, 600, 599, 598, 597, 596, 595]), array([868, 867, 615]), array([791, 790, 789, 788, 787, 786, 785, 784, 783, 782, 781, 780, 779,\n",
      "       778, 777, 776, 775, 774, 773, 772, 771, 770, 769, 768, 767, 766,\n",
      "       765, 764, 763, 762, 761, 760, 759, 758, 757, 756, 755, 754, 753,\n",
      "       752, 751, 750, 749, 748, 747, 746, 745, 744, 743, 742, 741, 740,\n",
      "       739, 738, 737, 736, 735, 734, 733, 732, 731, 730, 729, 728, 727,\n",
      "       726, 725, 724, 723, 722, 721, 720, 719, 718, 717, 716, 715, 714,\n",
      "       713, 712, 711, 710, 709, 708, 707, 706, 705, 704, 703, 702, 701,\n",
      "       700, 699, 698, 697, 696, 695, 694, 693, 692, 691, 690, 689, 688,\n",
      "       687, 686, 685, 684, 683, 682, 681, 680, 679, 678, 677, 676, 675,\n",
      "       674, 673, 672, 671, 670, 669, 668, 667, 666, 665, 664, 663, 662,\n",
      "       661, 660, 659, 658, 657, 656, 655, 654, 653, 652, 651, 650, 649,\n",
      "       648, 647, 646, 645, 644, 643, 642, 641, 640, 639, 638, 637, 636,\n",
      "       635, 634, 633, 632, 631, 630, 629, 628, 627, 626, 625, 624, 623,\n",
      "       622, 621, 620, 619, 618, 617, 616]), array([866, 792]), array([865, 864, 863, 862, 861, 860, 859, 858, 857, 856, 855, 854, 853,\n",
      "       852, 851, 850, 849, 848, 847, 846, 845, 844, 843, 842, 841, 840,\n",
      "       839, 838, 837, 836, 835, 834, 833, 832, 831, 830, 829, 828, 827,\n",
      "       826, 825, 824, 823, 822, 821, 820, 819, 818, 817, 816, 815, 814,\n",
      "       813, 812, 811, 810, 809, 808, 807, 806, 805, 804, 803, 802, 801,\n",
      "       800, 799, 798, 797, 796, 795, 794, 793]), array([898, 897, 896, 895, 894, 893, 892, 891, 890, 889, 888, 886]), array([972, 971, 887]), array([934, 933, 932, 931, 930, 929, 928, 927, 926, 925, 924, 923, 922,\n",
      "       921, 920, 919, 918, 917, 916, 915, 914, 913, 912, 911, 910, 909,\n",
      "       908, 907, 906, 905, 904, 903, 902, 901, 899]), array([970, 969, 968, 967, 966, 965, 964, 963, 962, 961, 960, 959, 958,\n",
      "       957, 956, 955, 954, 953, 952, 951, 950, 949, 948, 947, 946, 945,\n",
      "       944, 943, 942, 941, 940, 939, 938, 937, 936, 935, 900]), array([1128, 1127, 1126, 1125, 1124, 1123, 1122, 1121, 1120, 1119, 1118,\n",
      "       1117, 1116, 1115, 1114, 1113, 1112, 1111, 1110, 1109, 1108, 1107,\n",
      "       1106, 1105, 1104, 1103, 1102, 1101, 1100, 1099, 1098, 1097, 1096,\n",
      "       1095, 1094, 1093, 1092, 1091, 1090, 1089, 1088, 1087, 1086, 1085,\n",
      "       1084, 1083, 1082, 1081,  973]), array([991, 990, 989, 988, 987, 986, 985, 984, 983, 982, 981, 980, 979,\n",
      "       978, 977, 976, 975, 974]), array([998, 997, 996, 995, 994, 992]), array([1080, 1079, 1078, 1077, 1076, 1075, 1074, 1073, 1072, 1071, 1070,\n",
      "       1069, 1068, 1067, 1066, 1065, 1064, 1063, 1062, 1061, 1060, 1059,\n",
      "       1058, 1057, 1056, 1055, 1054, 1053, 1052, 1051, 1050, 1049, 1048,\n",
      "       1047,  993]), array([1046, 1045, 1044, 1043, 1042, 1041, 1040, 1039, 1038, 1037, 1036,\n",
      "       1035, 1034, 1033, 1032, 1031, 1030, 1029, 1028,  999]), array([1027, 1026, 1025, 1024, 1023, 1022, 1021, 1020, 1019, 1018, 1017,\n",
      "       1016, 1015, 1014, 1013, 1012, 1011, 1010, 1009, 1008, 1007, 1006,\n",
      "       1005, 1004, 1003, 1002, 1001, 1000]), array([1135]), array([1137, 1136]), array([1276, 1275, 1274, 1273, 1272, 1271, 1270, 1269, 1268, 1267, 1266,\n",
      "       1265, 1264, 1263, 1262, 1261, 1260, 1259, 1258, 1257, 1256, 1255,\n",
      "       1254, 1253, 1252, 1251, 1250, 1249, 1248, 1247, 1246, 1245, 1244,\n",
      "       1243, 1242, 1241, 1240, 1239, 1238, 1237, 1236, 1235, 1234, 1233,\n",
      "       1232, 1231, 1230, 1229, 1228, 1227, 1226, 1225, 1224, 1223, 1222,\n",
      "       1221, 1220, 1219, 1138]), array([1154, 1153, 1152, 1151, 1150, 1149, 1148, 1147, 1146, 1145, 1144,\n",
      "       1143, 1142, 1141, 1140, 1139]), array([1185, 1184, 1183, 1182, 1181, 1180, 1179, 1178, 1177, 1176, 1175,\n",
      "       1174, 1173, 1172, 1171, 1170, 1169, 1168, 1167, 1166, 1165, 1164,\n",
      "       1163, 1162, 1161, 1160, 1159, 1158, 1157, 1155]), array([1218, 1217, 1216, 1215, 1214, 1213, 1212, 1211, 1210, 1209, 1208,\n",
      "       1207, 1206, 1205, 1204, 1203, 1202, 1201, 1200, 1199, 1198, 1197,\n",
      "       1196, 1195, 1194, 1193, 1192, 1191, 1190, 1189, 1188, 1187, 1186,\n",
      "       1156]), array([1286, 1285, 1284, 1283, 1282, 1281, 1280, 1279, 1277]), array([1353, 1352, 1351, 1350, 1349, 1348, 1347, 1346, 1345, 1344, 1278]), array([1343, 1342, 1341, 1340, 1339, 1338, 1337, 1336, 1335, 1334, 1333,\n",
      "       1332, 1331, 1330, 1329, 1328, 1327, 1326, 1287]), array([1325, 1324, 1323, 1322, 1321, 1320, 1319, 1318, 1317, 1316, 1315,\n",
      "       1314, 1313, 1312, 1311, 1310, 1309, 1308, 1307, 1306, 1305, 1304,\n",
      "       1303, 1302, 1301, 1300, 1299, 1298, 1297, 1296, 1295, 1294, 1293,\n",
      "       1292, 1291, 1290, 1289, 1288]), array([1386, 1354]), array([1385, 1384, 1383, 1382, 1381, 1380, 1379, 1378, 1377, 1376, 1375,\n",
      "       1374, 1373, 1372, 1371, 1370, 1369, 1368, 1367, 1366, 1365, 1364,\n",
      "       1363, 1362, 1361, 1360, 1359, 1358, 1357, 1356, 1355]), array([1455, 1454, 1453, 1452, 1451, 1450, 1449, 1448, 1447, 1446, 1445,\n",
      "       1444, 1443, 1442, 1441, 1440, 1439, 1438, 1437, 1436, 1435, 1434,\n",
      "       1433, 1432, 1431, 1430, 1429, 1428, 1427, 1426, 1425, 1424, 1423,\n",
      "       1422, 1421, 1387]), array([1420, 1419, 1418, 1417, 1416, 1415, 1414, 1413, 1412, 1411, 1410,\n",
      "       1409, 1408, 1407, 1406, 1405, 1404, 1403, 1402, 1401, 1400, 1399,\n",
      "       1398, 1397, 1396, 1395, 1394, 1393, 1392, 1391, 1390, 1389, 1388])]\n"
     ]
    }
   ],
   "source": [
    "# Segments - the continuous branch segments\n",
    "#Branch points\n",
    "print(\"All branch segments are: \\n\",sk.segments)"
   ]
  },
  {
   "cell_type": "markdown",
   "id": "5549b9dd-13b9-4717-b0b1-4723665598c6",
   "metadata": {},
   "source": [
    "<div style=\"border-left: 3px solid #000; padding: 1px; padding-left: 10px; background: #F0FAFF; \">\n",
    "    \n",
    "### Calculate pathlength\n",
    "    \n",
    "Use the skeleton meshwork's `path_length()` function to calculate the path-length for the whole neuron\n",
    "    \n",
    "</div>"
   ]
  },
  {
   "cell_type": "code",
   "execution_count": 108,
   "id": "5a62f424-bf68-43c8-847a-a0f330095722",
   "metadata": {
    "tags": []
   },
   "outputs": [
    {
     "name": "stdout",
     "output_type": "stream",
     "text": [
      "Path length of the entire neuron:  6949.89  um\n"
     ]
    }
   ],
   "source": [
    "# Path-length for all neurites\n",
    "full_pathlength = sk.path_length() / 1_000 # Convert to microns from nanometers by dividing by 10^3\n",
    "print(\"Path-length of the entire neuron: \", full_pathlength, ' um')"
   ]
  },
  {
   "cell_type": "markdown",
   "id": "dc8849fc-a2c4-45ca-ab65-a2617ab40eaa",
   "metadata": {},
   "source": [
    "<div style=\"border-left: 3px solid #000; padding: 1px; padding-left: 10px; background: #F0FAFF; \">\n",
    "    \n",
    "Use the pathlength operation on subsets of the path as well\n",
    "    \n",
    "</div>"
   ]
  },
  {
   "cell_type": "code",
   "execution_count": 110,
   "id": "3d3d2579-4369-4125-84c1-ebbacf607d6b",
   "metadata": {
    "tags": []
   },
   "outputs": [
    {
     "name": "stdout",
     "output_type": "stream",
     "text": [
      "Path-length of one segment:  148.86571875  um\n"
     ]
    }
   ],
   "source": [
    "# Path-length for arbitrary segment\n",
    "segment_pathlength = sk.path_length(sk.segments[3]) / 1_000 # Convert to microns from nanometers by dividing by 10^3\n",
    "print(\"Path-length of one segment: \", segment_pathlength, ' um')"
   ]
  },
  {
   "cell_type": "markdown",
   "id": "93eeb657-be3f-4d9b-ae63-2edc3aab6b09",
   "metadata": {},
   "source": [
    "<div style=\"border-left: 3px solid #000; padding: 1px; padding-left: 10px; background: #F0FAFF; \">\n",
    "Meshwork has a nifty function for subselecting points: downstream points. For a given point, downstream points are defined as points on paths from endpoints to the root which are further than the given point. For example, if the skeleton path is : A-B-C-D-E where A is the root, D and E are downstream points of C. With branching, this can be more complex. To find the downstream points from say the 30th branch point, we can do:\n",
    "    \n",
    "</div>"
   ]
  },
  {
   "cell_type": "code",
   "execution_count": 111,
   "id": "54162ae1-8706-41b3-b9b2-4d671ff03e04",
   "metadata": {
    "tags": []
   },
   "outputs": [],
   "source": [
    "# Select downstream nodes from one branch point\n",
    "downstream_nodes = sk.downstream_nodes(sk.branch_points[30])"
   ]
  },
  {
   "cell_type": "markdown",
   "id": "4c04ed10-2977-4dc1-af2d-de0e15068904",
   "metadata": {},
   "source": [
    "<div style=\"background: #DFF0D8; border-radius: 3px; padding: 10px;\">\n",
    "<p><b>Task 1.2:</b>  How would you calculate the path length of the downstream nodes you selected above?\n",
    "</div>"
   ]
  },
  {
   "cell_type": "code",
   "execution_count": null,
   "id": "fb6e9d95-45c9-4e78-924b-1b4a93b29c02",
   "metadata": {},
   "outputs": [],
   "source": [
    "downstream_pathlength = "
   ]
  },
  {
   "cell_type": "markdown",
   "id": "5ed291cf-5f7b-4f0f-bd59-5d43b18c9024",
   "metadata": {},
   "source": [
    "<div style=\"border-left: 3px solid #000; padding: 1px; padding-left: 10px; background: #F0FAFF; \"> \n",
    "    \n",
    "#### visualize downstream path\n",
    "    \n",
    "</div>"
   ]
  },
  {
   "cell_type": "code",
   "execution_count": 112,
   "id": "4a2f8ad3-69a9-4f21-9261-d7cb026331aa",
   "metadata": {
    "tags": []
   },
   "outputs": [
    {
     "data": {
      "text/plain": [
       "(7550924.0, 8818030.0, 3369830.0, 2692170.0)"
      ]
     },
     "execution_count": 112,
     "metadata": {},
     "output_type": "execute_result"
    },
    {
     "data": {
      "image/png": "[encoded data removed]",
      "text/plain": [
       "<Figure size 700x1000 with 1 Axes>"
      ]
     },
     "metadata": {},
     "output_type": "display_data"
    }
   ],
   "source": [
    "f, ax = plt.subplots(figsize=(7, 10))\n",
    "skelplot.plot_tools.plot_skel(\n",
    "    sk,\n",
    "    line_width = 1,\n",
    "    plot_soma = True,\n",
    "    invert_y = True,\n",
    "    x=\"x\",\n",
    "    y=\"y\",\n",
    ")\n",
    "\n",
    "# Add the downstream vertices as red points (Note: this works for x-y plot orientation; select the columns appropriate to your skeleton orientation)\n",
    "ax.scatter(sk.vertices[downstream_nodes][:,0], sk.vertices[downstream_nodes][:,1], c='r', s=2)\n",
    "\n",
    "ax.spines['right'].set_visible(False) \n",
    "ax.spines['left'].set_visible(False) \n",
    "ax.spines['top'].set_visible(False) \n",
    "ax.spines['bottom'].set_visible(False)\n",
    "ax.axis('off')"
   ]
  },
  {
   "cell_type": "markdown",
   "id": "44934362-5ef1-4aff-91c5-b887f577a4c1",
   "metadata": {},
   "source": [
    "<div style=\"border-left: 3px solid #000; padding: 1px; padding-left: 10px; background: #F0FAFF; \">\n",
    "    \n",
    "### Mask skeleton\n",
    "    \n",
    "One of the most useful features of the skeleton meshwork's is the ability to **mask** or select only parts of the skeleton to work with at a time. The function `apply_mask()` acts on the meshwork skeleton, and will apply in place if `apply_mask(in_place=True)`. \n",
    "    \n",
    "**_Warning_**: be aware when setting a mask in place--mask operations are additive. To reset the mask completely, use `reset_mask(in_place=True)`\n",
    "    \n",
    "</div>"
   ]
  },
  {
   "cell_type": "code",
   "execution_count": 113,
   "id": "d345f599-97f4-4ecc-8ded-102ea957b2bc",
   "metadata": {
    "tags": []
   },
   "outputs": [],
   "source": [
    "sk.reset_mask(in_place=True)"
   ]
  },
  {
   "cell_type": "code",
   "execution_count": 115,
   "id": "8df9a7ec-2c0a-4965-84f6-361dc5d19e62",
   "metadata": {
    "tags": []
   },
   "outputs": [
    {
     "data": {
      "text/plain": [
       "328004.6"
      ]
     },
     "execution_count": 115,
     "metadata": {},
     "output_type": "execute_result"
    }
   ],
   "source": [
    "# Mask to select the downtream nodes\n",
    "sk_masked = sk.apply_mask(downstream_nodes)\n",
    "\n",
    "# Check that this masked skeleton matches the pathlength calculated above\n",
    "sk_masked.path_length()"
   ]
  },
  {
   "cell_type": "markdown",
   "id": "9cba7b32-d8c7-49ae-b1d4-030bcebbb4ee",
   "metadata": {},
   "source": [
    "<div style=\"border-left: 3px solid #000; padding: 1px; padding-left: 10px; background: #F0FAFF; \">\n",
    "    \n",
    "### Mask Compartments\n",
    "    \n",
    "Critically, `apply_mask()` allows us to mask a neuron according to its compartment label: axon, dendrite, soma, etc. \n",
    "    \n",
    "**Compartment label conventions** (from standardized swc files www.neuromorpho.org)\n",
    "- 0 - undefined\n",
    "- 1 - soma\n",
    "- 2 - axon\n",
    "- 3 - (basal) dendrite\n",
    "- 4 - apical dendrite\n",
    "- 5+ - custom\n",
    "    \n",
    "</div>"
   ]
  },
  {
   "cell_type": "code",
   "execution_count": 117,
   "id": "da28b9f7-31e1-456c-b2e5-e17a38b9528f",
   "metadata": {
    "tags": []
   },
   "outputs": [
    {
     "name": "stdout",
     "output_type": "stream",
     "text": [
      "Axon pathlength is :  4190.4435  um\n"
     ]
    }
   ],
   "source": [
    "# Select the indices associated with the axon, and dendrites\n",
    "axon_inds = sk.vertex_properties['compartment']==2\n",
    "dendrite_inds = (sk.vertex_properties['compartment']==3) | (sk.vertex_properties['compartment']==4)\n",
    "\n",
    "# create new skeleton that masks (selects) only the axon\n",
    "sk_axon = sk.apply_mask(axon_inds)\n",
    "print(\"Axon pathlength is : \", sk_axon.path_length() / 1_000, ' um')"
   ]
  },
  {
   "cell_type": "markdown",
   "id": "984825a9-106d-4af3-9628-389013acecda",
   "metadata": {},
   "source": [
    "<div style=\"background: #DFF0D8; border-radius: 3px; padding: 10px;\">\n",
    "<p><b>Task 1.3:</b>  Calculate the dendrite path length in microns. \n",
    "</div>"
   ]
  },
  {
   "cell_type": "code",
   "execution_count": 43,
   "id": "a0dabd2b-9e89-476a-a8ec-c4060eccd71a",
   "metadata": {
    "tags": []
   },
   "outputs": [],
   "source": [
    "print(\"Dendrite pathlength is : \", , ' um')"
   ]
  },
  {
   "cell_type": "code",
   "execution_count": null,
   "id": "80311e55-aa8c-43cc-8af2-25116509f964",
   "metadata": {},
   "outputs": [],
   "source": []
  },
  {
   "cell_type": "code",
   "execution_count": null,
   "id": "b4f164f5-21e3-44df-b592-3913db37fcec",
   "metadata": {},
   "outputs": [],
   "source": []
  },
  {
   "cell_type": "markdown",
   "id": "90a9610d-6bcb-4c31-bf74-31f27c36caf8",
   "metadata": {},
   "source": [
    "outline from Sharmi"
   ]
  },
  {
   "cell_type": "code",
   "execution_count": 3,
   "id": "94771e68-d38c-4c77-bbf2-f494f6c6affc",
   "metadata": {
    "tags": []
   },
   "outputs": [],
   "source": [
    "'''find some axon morphology attributes:\n",
    "    branch points\n",
    "    terminals\n",
    "    roots?\n",
    "    length\n",
    "'''"
   ]
  },
  {
   "cell_type": "code",
   "execution_count": 7,
   "id": "ddd760af-0f6d-4295-9caa-7e3402c5b2a8",
   "metadata": {
    "tags": []
   },
   "outputs": [
    {
     "data": {
      "text/plain": [
       "' do something similar for dendrites? exercise '"
      ]
     },
     "execution_count": 7,
     "metadata": {},
     "output_type": "execute_result"
    }
   ],
   "source": [
    "''' do something similar for dendrites? exercise '''"
   ]
  },
  {
   "cell_type": "code",
   "execution_count": 9,
   "id": "e47c77e2-3a2e-4e30-b7d7-16ec1284a154",
   "metadata": {
    "tags": []
   },
   "outputs": [
    {
     "data": {
      "text/plain": [
       "' plot branches '"
      ]
     },
     "execution_count": 9,
     "metadata": {},
     "output_type": "execute_result"
    }
   ],
   "source": [
    "''' plot branches '''"
   ]
  },
  {
   "cell_type": "code",
   "execution_count": 10,
   "id": "7684580a-e4bf-4c01-900f-10b7f4c0c061",
   "metadata": {
    "tags": []
   },
   "outputs": [
    {
     "data": {
      "text/plain": [
       "' histogram or statistics of some attribute - branch lengths?'"
      ]
     },
     "execution_count": 10,
     "metadata": {},
     "output_type": "execute_result"
    }
   ],
   "source": [
    "''' histogram or statistics of some attribute - branch lengths?'''"
   ]
  },
  {
   "cell_type": "code",
   "execution_count": 11,
   "id": "5ad7ec25-06e3-4c32-b6ae-fd27ec07696c",
   "metadata": {
    "tags": []
   },
   "outputs": [
    {
     "data": {
      "text/plain": [
       "' computing the longest path '"
      ]
     },
     "execution_count": 11,
     "metadata": {},
     "output_type": "execute_result"
    }
   ],
   "source": [
    "''' computing the longest path '''"
   ]
  },
  {
   "cell_type": "code",
   "execution_count": 12,
   "id": "323e747a-4766-47a4-bf3d-c974c5cb59c1",
   "metadata": {
    "tags": []
   },
   "outputs": [
    {
     "data": {
      "text/plain": [
       "'computing the shortest path  - exercise '"
      ]
     },
     "execution_count": 12,
     "metadata": {},
     "output_type": "execute_result"
    }
   ],
   "source": [
    "'''computing the shortest path  - exercise '''"
   ]
  },
  {
   "cell_type": "code",
   "execution_count": 13,
   "id": "f8396d44-4eda-486b-82f2-6ea17f6165c2",
   "metadata": {
    "tags": []
   },
   "outputs": [
    {
     "data": {
      "text/plain": [
       "' plot the longest path '"
      ]
     },
     "execution_count": 13,
     "metadata": {},
     "output_type": "execute_result"
    }
   ],
   "source": [
    "''' plot the longest path overlaid'''"
   ]
  },
  {
   "cell_type": "code",
   "execution_count": null,
   "id": "ee2bd2fb-a4a7-4f43-a881-bebf85622d57",
   "metadata": {},
   "outputs": [],
   "source": [
    "''' read 10 neurons\n",
    "do a scatter of axon length to dendrite length'''"
   ]
  },
  {
   "cell_type": "code",
   "execution_count": 101,
   "id": "c6840fd0-c647-4d3c-8897-ab23926ee130",
   "metadata": {
    "tags": []
   },
   "outputs": [
    {
     "data": {
      "text/plain": [
       "[]"
      ]
     },
     "execution_count": 101,
     "metadata": {},
     "output_type": "execute_result"
    }
   ],
   "source": [
    "# directory functions; # note: skeleton.get() accepts a list of ids\n",
    "skel_list = cv_em.cache.list_skeletons()\n",
    "if skel_list:\n",
    "    skel_list.remove('info') # remove the metadata file, which is not a valid skeleton\n",
    "\n",
    "skel_list\n",
    "\n",
    "# BD: this works locally, but does not work for this bucket. idk"
   ]
  }
 ],
 "metadata": {
  "kernelspec": {
   "display_name": "Python 3 (ipykernel)",
   "language": "python",
   "name": "python3"
  },
  "language_info": {
   "codemirror_mode": {
    "name": "ipython",
    "version": 3
   },
   "file_extension": ".py",
   "mimetype": "text/x-python",
   "name": "python",
   "nbconvert_exporter": "python",
   "pygments_lexer": "ipython3",
   "version": "3.9.12"
  }
 },
 "nbformat": 4,
 "nbformat_minor": 5
}
